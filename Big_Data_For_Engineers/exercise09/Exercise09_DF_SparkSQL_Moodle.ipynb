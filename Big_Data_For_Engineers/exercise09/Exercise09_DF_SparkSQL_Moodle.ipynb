{
 "cells": [
  {
   "cell_type": "markdown",
   "metadata": {},
   "source": [
    "# <center>Big Data &ndash; Exercises</center>\n",
    "## <center>Spring 2022 &ndash; Week 9 &ndash; ETH Zurich</center>\n",
    "## <center>Spark Dataframes and Spark SQL, Moodle exercise</center>\n",
    "\n",
    "# Preparation for the moodle exercise in Spark\n",
    "\n",
    "In this jupyter notebook we are going to make the preprocessing part of the dataset that is going to be used in the graded exercise of this week.\n",
    "It will be the same language game dataset as in exercise08.\n",
    "\n",
    "1. Change to `exercise09` repository\n",
    "\n",
    "2. Start docker <br>\n",
    "```docker-compose up -d```\n",
    "\n",
    "3. Getting the data:\n",
    "Follow the procedure that is described below. The dataset can be found here: https://cloud.inf.ethz.ch/s/a8FoHew6dHKGYKK/download/confusion20140302.tbz2 \n",
    "\n",
    "More specifically do the following:\n",
    "- download the data      :<br> ```wget https://cloud.inf.ethz.ch/s/a8FoHew6dHKGYKK/download/confusion20140302.tbz2```\n",
    "- extract the data       :<br> ```tar -jxvf confusion20140302.tbz2```\n",
    "\n",
    "4. copy the data to hdfs :<br> ```docker cp confusion-2014-03-02/confusion-2014-03-02.json jupyter:/home/jovyan/work``` <br>\n",
    "(Copying the data to hdfs needs to be done only once and it might take 4-5 minutes.)\n",
    "\n",
    "## More Info about the data\n",
    "You can find more information about the dataset (as well as the schema and examples) in this link: https://quietlyamused.org/blog/2014/03/12/language-confusion/"
   ]
  },
  {
   "cell_type": "markdown",
   "metadata": {},
   "source": [
    "## Instructions:\n",
    "\n",
    "In every query we ask you for three quantities: the query itself, the result of the query as well as the productivity time. That means the development time of each query (time elapsed before you start writing the query, and the time at which the correct, final query is ready). Note that the time part of every question is optional and not graded. In order to make easier the time recording we created two functions that do it automatically. Run the cell below in order to import the functions into the current notebook. Then before each query we will have a ```start_exercise()``` cell that you have to run in order to start time recording. After you have finished your query and you are sure about the answer run the ```finish_exercise()``` one to get the time measurement. "
   ]
  },
  {
   "cell_type": "code",
   "execution_count": 1,
   "metadata": {
    "cell_status": {
     "execute_time": {
      "duration": 39.236083984375,
      "end_time": 1573672504782.379
     }
    },
    "collapsed": false,
    "jupyter": {
     "outputs_hidden": false
    },
    "scrolled": true
   },
   "outputs": [],
   "source": [
    "import time\n",
    "\n",
    "def start_exercise():\n",
    "    global last\n",
    "    last = time.time()\n",
    "    \n",
    "def finish_exercise():\n",
    "    global last\n",
    "    print(\"This exercise took {0}s\".format(int(time.time()-last)))"
   ]
  },
  {
   "cell_type": "markdown",
   "metadata": {},
   "source": [
    "#### <b>For the assignments we only use the first 50k lines of the dataset, `dataset_50k = dataset.limit(50000)`. </b>"
   ]
  },
  {
   "cell_type": "markdown",
   "metadata": {},
   "source": [
    "## <center>1. Spark Dataframes</center>\n",
    "\n",
    "Write queries for the same questions as last week, but this time using Spark Dataframes operations (the data loading will take a couple minutes)."
   ]
  },
  {
   "cell_type": "markdown",
   "metadata": {},
   "source": [
    "### 1.0. Data preprocessing"
   ]
  },
  {
   "cell_type": "code",
   "execution_count": 2,
   "metadata": {
    "cell_status": {
     "execute_time": {
      "duration": 11301.424072265625,
      "end_time": 1573676870300.81
     }
    },
    "tags": []
   },
   "outputs": [],
   "source": [
    "import json\n",
    "from pyspark.sql import SparkSession\n",
    "from pyspark import SparkConf\n",
    "\n",
    "spark = SparkSession.builder.master('local').getOrCreate()\n",
    "sc = spark.sparkContext\n",
    "\n",
    "path = \"confusion-2014-03-02.json\"\n",
    "dataset = spark.read.json(path).cache()"
   ]
  },
  {
   "cell_type": "code",
   "execution_count": 3,
   "metadata": {
    "cell_status": {
     "execute_time": {
      "duration": 247.257080078125,
      "end_time": 1573676894196.787
     }
    },
    "collapsed": false,
    "jupyter": {
     "outputs_hidden": false
    }
   },
   "outputs": [
    {
     "name": "stdout",
     "output_type": "stream",
     "text": [
      "+--------------------+-------+----------+---------+--------------------+---------+\n",
      "|             choices|country|      date|    guess|              sample|   target|\n",
      "+--------------------+-------+----------+---------+--------------------+---------+\n",
      "|[Maori, Mandarin,...|     AU|2013-08-19|Norwegian|48f9c924e0d98c959...|Norwegian|\n",
      "|[Danish, Dinka, K...|     AU|2013-08-19|    Dinka|af5e8f27cef9e689a...|    Dinka|\n",
      "|[German, Hungaria...|     AU|2013-08-19|  Turkish|509c36eb58dbce009...|   Samoan|\n",
      "+--------------------+-------+----------+---------+--------------------+---------+\n",
      "\n"
     ]
    }
   ],
   "source": [
    "#test it out\n",
    "dataset.limit(3).show()"
   ]
  },
  {
   "cell_type": "code",
   "execution_count": 4,
   "metadata": {},
   "outputs": [],
   "source": [
    "dataset_50k = dataset.limit(50000)"
   ]
  },
  {
   "cell_type": "code",
   "execution_count": 5,
   "metadata": {},
   "outputs": [
    {
     "name": "stdout",
     "output_type": "stream",
     "text": [
      "root\n",
      " |-- choices: array (nullable = true)\n",
      " |    |-- element: string (containsNull = true)\n",
      " |-- country: string (nullable = true)\n",
      " |-- date: string (nullable = true)\n",
      " |-- guess: string (nullable = true)\n",
      " |-- sample: string (nullable = true)\n",
      " |-- target: string (nullable = true)\n",
      "\n"
     ]
    }
   ],
   "source": [
    "dataset_50k.printSchema()"
   ]
  },
  {
   "cell_type": "markdown",
   "metadata": {},
   "source": [
    "## Assignment 1\n",
    "Find the number of games where the guessed language is correct (meaning equal to the target one) and that language is Russian."
   ]
  },
  {
   "cell_type": "code",
   "execution_count": null,
   "metadata": {},
   "outputs": [],
   "source": [
    "dataset_50k.filter(dataset_50k.target == 'Russian').filter(dataset_50k.target == dataset_50k.guess).limit(3).show()"
   ]
  },
  {
   "cell_type": "code",
   "execution_count": 9,
   "metadata": {
    "tags": []
   },
   "outputs": [],
   "source": [
    "start_exercise()"
   ]
  },
  {
   "cell_type": "code",
   "execution_count": 10,
   "metadata": {
    "cell_status": {
     "execute_time": {
      "duration": 951.284912109375,
      "end_time": 1573677112003.169
     }
    },
    "collapsed": false,
    "jupyter": {
     "outputs_hidden": false
    }
   },
   "outputs": [
    {
     "data": {
      "text/plain": [
       "957"
      ]
     },
     "execution_count": 10,
     "metadata": {},
     "output_type": "execute_result"
    }
   ],
   "source": [
    "dataset_50k.filter(dataset_50k.target == 'Russian').filter(dataset_50k.target == dataset_50k.guess).count()"
   ]
  },
  {
   "cell_type": "code",
   "execution_count": 11,
   "metadata": {
    "tags": []
   },
   "outputs": [
    {
     "name": "stdout",
     "output_type": "stream",
     "text": [
      "This exercise took 3s\n"
     ]
    }
   ],
   "source": [
    "finish_exercise()"
   ]
  },
  {
   "cell_type": "markdown",
   "metadata": {},
   "source": [
    "## Assignment 2\n",
    "Return the number of distinct \"target\" languages."
   ]
  },
  {
   "cell_type": "code",
   "execution_count": 13,
   "metadata": {},
   "outputs": [
    {
     "data": {
      "text/plain": [
       "[Row(target='Norwegian'),\n",
       " Row(target='Dinka'),\n",
       " Row(target='Samoan'),\n",
       " Row(target='Somali'),\n",
       " Row(target='Japanese'),\n",
       " Row(target='Turkish'),\n",
       " Row(target='French'),\n",
       " Row(target='German'),\n",
       " Row(target='Spanish'),\n",
       " Row(target='Romanian')]"
      ]
     },
     "execution_count": 13,
     "metadata": {},
     "output_type": "execute_result"
    }
   ],
   "source": [
    "dataset_50k.select('target').distinct().take(10)"
   ]
  },
  {
   "cell_type": "code",
   "execution_count": 14,
   "metadata": {
    "tags": []
   },
   "outputs": [],
   "source": [
    "start_exercise()"
   ]
  },
  {
   "cell_type": "code",
   "execution_count": 15,
   "metadata": {
    "cell_status": {
     "execute_time": {
      "duration": 751.157958984375,
      "end_time": 1573677210603.419
     }
    },
    "collapsed": false,
    "jupyter": {
     "outputs_hidden": false
    }
   },
   "outputs": [
    {
     "data": {
      "text/plain": [
       "68"
      ]
     },
     "execution_count": 15,
     "metadata": {},
     "output_type": "execute_result"
    }
   ],
   "source": [
    "dataset_50k.select('target').distinct().count()"
   ]
  },
  {
   "cell_type": "code",
   "execution_count": 16,
   "metadata": {
    "tags": []
   },
   "outputs": [
    {
     "name": "stdout",
     "output_type": "stream",
     "text": [
      "This exercise took 2s\n"
     ]
    }
   ],
   "source": [
    "finish_exercise()"
   ]
  },
  {
   "cell_type": "markdown",
   "metadata": {},
   "source": [
    "## Assignment 3\n",
    "Return the sample IDs (i.e., the *sample* field) of the top three games where the guessed language is correct (equal to the target one) ordered by language (ascending), then by country (ascending), then by date (ascending)."
   ]
  },
  {
   "cell_type": "code",
   "execution_count": 25,
   "metadata": {},
   "outputs": [
    {
     "name": "stdout",
     "output_type": "stream",
     "text": [
      "['fdf23d0a7063ba2fcef4b18eb7d57ad8', '13722ceed1eede7ba597ade9b4cb9807', 'efcd813daec1c836d9f030b30caa07ce']\n"
     ]
    }
   ],
   "source": [
    "correct = dataset_50k.filter(dataset_50k.target == dataset_50k.guess)\n",
    "correct_ordered = correct.orderBy([\"target\", \"country\", \"date\"], ascending=[1, 1, 1])\n",
    "top3 = correct_ordered.select('sample').take(3)\n",
    "top3 = [row.sample for row in top3]\n",
    "print(top3)"
   ]
  },
  {
   "cell_type": "code",
   "execution_count": 26,
   "metadata": {
    "tags": []
   },
   "outputs": [],
   "source": [
    "start_exercise()"
   ]
  },
  {
   "cell_type": "code",
   "execution_count": 27,
   "metadata": {},
   "outputs": [
    {
     "name": "stdout",
     "output_type": "stream",
     "text": [
      "['fdf23d0a7063ba2fcef4b18eb7d57ad8', '13722ceed1eede7ba597ade9b4cb9807', 'efcd813daec1c836d9f030b30caa07ce']\n"
     ]
    }
   ],
   "source": [
    "correct = dataset_50k.filter(dataset_50k.target == dataset_50k.guess)\n",
    "correct_ordered = correct.orderBy([\"target\", \"country\", \"date\"], ascending=[1, 1, 1])\n",
    "top3 = correct_ordered.select('sample').take(3)\n",
    "top3 = [row.sample for row in top3]\n",
    "print(top3)"
   ]
  },
  {
   "cell_type": "code",
   "execution_count": 28,
   "metadata": {
    "tags": []
   },
   "outputs": [
    {
     "name": "stdout",
     "output_type": "stream",
     "text": [
      "This exercise took 3s\n"
     ]
    }
   ],
   "source": [
    "finish_exercise()"
   ]
  },
  {
   "cell_type": "markdown",
   "metadata": {},
   "source": [
    "## Assignment 4\n",
    "Aggregate all games by country and target language, counting the number of guesses for each group and return the frequencies of the three most frequent country/language combinations."
   ]
  },
  {
   "cell_type": "code",
   "execution_count": 39,
   "metadata": {},
   "outputs": [
    {
     "name": "stdout",
     "output_type": "stream",
     "text": [
      "[770, 719, 715]\n"
     ]
    }
   ],
   "source": [
    "import pyspark.sql.functions as F\n",
    "top3count = dataset_50k.groupBy('country','target').agg(F.count('*').alias('n')).select('n').orderBy('n', ascending=0).take(3)\n",
    "top3count = [row.n for row in top3count]\n",
    "print(top3count)"
   ]
  },
  {
   "cell_type": "code",
   "execution_count": 40,
   "metadata": {
    "tags": []
   },
   "outputs": [],
   "source": [
    "start_exercise()"
   ]
  },
  {
   "cell_type": "code",
   "execution_count": 41,
   "metadata": {
    "cell_status": {
     "execute_time": {
      "duration": 1262.1181640625,
      "end_time": 1573677845774.178
     }
    },
    "collapsed": false,
    "jupyter": {
     "outputs_hidden": false
    }
   },
   "outputs": [
    {
     "name": "stdout",
     "output_type": "stream",
     "text": [
      "[770, 719, 715]\n"
     ]
    }
   ],
   "source": [
    "import pyspark.sql.functions as F\n",
    "top3count = dataset_50k.groupBy('country','target').agg(F.count('*').alias('n')).select('n').orderBy('n', ascending=0).take(3)\n",
    "top3count = [row.n for row in top3count]\n",
    "print(top3count)"
   ]
  },
  {
   "cell_type": "code",
   "execution_count": 42,
   "metadata": {
    "tags": []
   },
   "outputs": [
    {
     "name": "stdout",
     "output_type": "stream",
     "text": [
      "This exercise took 2s\n"
     ]
    }
   ],
   "source": [
    "finish_exercise()"
   ]
  },
  {
   "cell_type": "markdown",
   "metadata": {},
   "source": [
    "## Assignment 5\n",
    "Find the percentage of games where (the answer was correct && the correct guess was the first choice amongst the array of possible answers)\n",
    "\n",
    "Please write the fraction rounding to 4 decimals (eg. 0.3323)"
   ]
  },
  {
   "cell_type": "code",
   "execution_count": 43,
   "metadata": {},
   "outputs": [
    {
     "name": "stdout",
     "output_type": "stream",
     "text": [
      "50000\n",
      "0.2435\n"
     ]
    }
   ],
   "source": [
    "total_number_games = dataset_50k.count()\n",
    "correct = dataset_50k.filter(dataset_50k.target == dataset_50k.guess)\n",
    "correct_and_first = correct.filter(correct.guess == correct.choices[0])\n",
    "perc = correct_and_first.count()/total_number_games\n",
    "\n",
    "print(f'{perc:1.4f}')\n"
   ]
  },
  {
   "cell_type": "code",
   "execution_count": 44,
   "metadata": {
    "tags": []
   },
   "outputs": [],
   "source": [
    "start_exercise()"
   ]
  },
  {
   "cell_type": "code",
   "execution_count": 45,
   "metadata": {
    "cell_status": {
     "execute_time": {
      "duration": 747.340087890625,
      "end_time": 1573678219912.345
     }
    },
    "collapsed": false,
    "jupyter": {
     "outputs_hidden": false
    }
   },
   "outputs": [
    {
     "name": "stdout",
     "output_type": "stream",
     "text": [
      "0.2435\n"
     ]
    }
   ],
   "source": [
    "total_number_games = dataset_50k.count()\n",
    "correct = dataset_50k.filter(dataset_50k.target == dataset_50k.guess)\n",
    "correct_and_first = correct.filter(correct.guess == correct.choices[0])\n",
    "perc = correct_and_first.count()/total_number_games\n",
    "\n",
    "print(f'{perc:1.4f}')\n"
   ]
  },
  {
   "cell_type": "code",
   "execution_count": 46,
   "metadata": {
    "tags": []
   },
   "outputs": [
    {
     "name": "stdout",
     "output_type": "stream",
     "text": [
      "This exercise took 4s\n"
     ]
    }
   ],
   "source": [
    "finish_exercise()"
   ]
  },
  {
   "cell_type": "markdown",
   "metadata": {},
   "source": [
    "## Assignment 6\n",
    "Return the number of games played on the latest day."
   ]
  },
  {
   "cell_type": "code",
   "execution_count": 56,
   "metadata": {},
   "outputs": [
    {
     "name": "stdout",
     "output_type": "stream",
     "text": [
      "2013-09-03\n"
     ]
    },
    {
     "data": {
      "text/plain": [
       "34429"
      ]
     },
     "execution_count": 56,
     "metadata": {},
     "output_type": "execute_result"
    }
   ],
   "source": [
    "latest_day = dataset_50k.select('date').orderBy('date', ascending=0).first().date\n",
    "print(latest_day)\n",
    "dataset_50k.filter(dataset_50k.date == latest_day).count()"
   ]
  },
  {
   "cell_type": "code",
   "execution_count": 57,
   "metadata": {
    "tags": []
   },
   "outputs": [],
   "source": [
    "start_exercise()"
   ]
  },
  {
   "cell_type": "code",
   "execution_count": 58,
   "metadata": {
    "cell_status": {
     "execute_time": {
      "duration": 751.73388671875,
      "end_time": 1573679567817.314
     }
    },
    "collapsed": false,
    "jupyter": {
     "outputs_hidden": false
    }
   },
   "outputs": [
    {
     "data": {
      "text/plain": [
       "34429"
      ]
     },
     "execution_count": 58,
     "metadata": {},
     "output_type": "execute_result"
    }
   ],
   "source": [
    "latest_day = dataset_50k.select('date').orderBy('date', ascending=0).first().date\n",
    "dataset_50k.filter(dataset_50k.date == latest_day).count()"
   ]
  },
  {
   "cell_type": "code",
   "execution_count": 59,
   "metadata": {
    "tags": []
   },
   "outputs": [
    {
     "name": "stdout",
     "output_type": "stream",
     "text": [
      "This exercise took 3s\n"
     ]
    }
   ],
   "source": [
    "finish_exercise()"
   ]
  },
  {
   "cell_type": "markdown",
   "metadata": {},
   "source": [
    "## <center>2. Spark SQL</center>\n",
    "\n",
    "Write Spark SQL queries for the same questions as earlier."
   ]
  },
  {
   "cell_type": "markdown",
   "metadata": {},
   "source": [
    "### 2.0. Data preprocessing"
   ]
  },
  {
   "cell_type": "code",
   "execution_count": 60,
   "metadata": {},
   "outputs": [
    {
     "name": "stdout",
     "output_type": "stream",
     "text": [
      "Collecting sparksql-magic\n",
      "  Downloading sparksql_magic-0.0.3-py36-none-any.whl (4.3 kB)\n",
      "Requirement already satisfied: pyspark>=2.3.0 in /usr/local/spark-3.1.1-bin-hadoop3.2/python (from sparksql-magic) (3.1.1)\n",
      "Requirement already satisfied: ipython>=7.4.0 in /opt/conda/lib/python3.9/site-packages (from sparksql-magic) (7.24.0)\n",
      "Requirement already satisfied: decorator in /opt/conda/lib/python3.9/site-packages (from ipython>=7.4.0->sparksql-magic) (5.0.9)\n",
      "Requirement already satisfied: pexpect>4.3 in /opt/conda/lib/python3.9/site-packages (from ipython>=7.4.0->sparksql-magic) (4.8.0)\n",
      "Requirement already satisfied: matplotlib-inline in /opt/conda/lib/python3.9/site-packages (from ipython>=7.4.0->sparksql-magic) (0.1.2)\n",
      "Requirement already satisfied: setuptools>=18.5 in /opt/conda/lib/python3.9/site-packages (from ipython>=7.4.0->sparksql-magic) (49.6.0.post20210108)\n",
      "Requirement already satisfied: prompt-toolkit!=3.0.0,!=3.0.1,<3.1.0,>=2.0.0 in /opt/conda/lib/python3.9/site-packages (from ipython>=7.4.0->sparksql-magic) (3.0.18)\n",
      "Requirement already satisfied: traitlets>=4.2 in /opt/conda/lib/python3.9/site-packages (from ipython>=7.4.0->sparksql-magic) (5.0.5)\n",
      "Requirement already satisfied: backcall in /opt/conda/lib/python3.9/site-packages (from ipython>=7.4.0->sparksql-magic) (0.2.0)\n",
      "Requirement already satisfied: jedi>=0.16 in /opt/conda/lib/python3.9/site-packages (from ipython>=7.4.0->sparksql-magic) (0.18.0)\n",
      "Requirement already satisfied: pickleshare in /opt/conda/lib/python3.9/site-packages (from ipython>=7.4.0->sparksql-magic) (0.7.5)\n",
      "Requirement already satisfied: pygments in /opt/conda/lib/python3.9/site-packages (from ipython>=7.4.0->sparksql-magic) (2.9.0)\n",
      "Requirement already satisfied: parso<0.9.0,>=0.8.0 in /opt/conda/lib/python3.9/site-packages (from jedi>=0.16->ipython>=7.4.0->sparksql-magic) (0.8.2)\n",
      "Requirement already satisfied: ptyprocess>=0.5 in /opt/conda/lib/python3.9/site-packages (from pexpect>4.3->ipython>=7.4.0->sparksql-magic) (0.7.0)\n",
      "Requirement already satisfied: wcwidth in /opt/conda/lib/python3.9/site-packages (from prompt-toolkit!=3.0.0,!=3.0.1,<3.1.0,>=2.0.0->ipython>=7.4.0->sparksql-magic) (0.2.5)\n",
      "Collecting py4j==0.10.9\n",
      "  Downloading py4j-0.10.9-py2.py3-none-any.whl (198 kB)\n",
      "\u001b[K     |████████████████████████████████| 198 kB 4.7 MB/s eta 0:00:01\n",
      "\u001b[?25hRequirement already satisfied: ipython-genutils in /opt/conda/lib/python3.9/site-packages (from traitlets>=4.2->ipython>=7.4.0->sparksql-magic) (0.2.0)\n",
      "Installing collected packages: py4j, sparksql-magic\n",
      "Successfully installed py4j-0.10.9 sparksql-magic-0.0.3\n"
     ]
    }
   ],
   "source": [
    "!pip install sparksql-magic"
   ]
  },
  {
   "cell_type": "code",
   "execution_count": 61,
   "metadata": {},
   "outputs": [],
   "source": [
    "%load_ext sparksql_magic"
   ]
  },
  {
   "cell_type": "code",
   "execution_count": 62,
   "metadata": {
    "cell_status": {
     "execute_time": {
      "duration": 15326.347900390625,
      "end_time": 1573674838228.037
     }
    },
    "scrolled": true,
    "tags": []
   },
   "outputs": [],
   "source": [
    "path = \"confusion-2014-03-02.json\"\n",
    "dataset_50k = spark.read.json(path).cache().limit(50000)\n",
    "dataset_50k.registerTempTable(\"dataset_50k\")"
   ]
  },
  {
   "cell_type": "code",
   "execution_count": 63,
   "metadata": {
    "cell_status": {
     "execute_time": {
      "duration": 19343.071044921875,
      "end_time": 1573674865742.795
     }
    },
    "collapsed": false,
    "jupyter": {
     "outputs_hidden": false
    }
   },
   "outputs": [
    {
     "data": {
      "text/html": [
       "<table><tr style=\"border-bottom: 1px solid\"><td style=\"font-weight: bold\">choices</td><td style=\"font-weight: bold\">country</td><td style=\"font-weight: bold\">date</td><td style=\"font-weight: bold\">guess</td><td style=\"font-weight: bold\">sample</td><td style=\"font-weight: bold\">target</td></tr><tr><td>[&#x27;Maori&#x27;, &#x27;Mandarin&#x27;, &#x27;Norwegian&#x27;, &#x27;Tongan&#x27;]</td><td>AU</td><td>2013-08-19</td><td>Norwegian</td><td>48f9c924e0d98c959d8a6f1862b3ce9a</td><td>Norwegian</td></tr><tr><td>[&#x27;Danish&#x27;, &#x27;Dinka&#x27;, &#x27;Khmer&#x27;, &#x27;Lao&#x27;]</td><td>AU</td><td>2013-08-19</td><td>Dinka</td><td>af5e8f27cef9e689a070b8814dcc02c3</td><td>Dinka</td></tr><tr><td>[&#x27;German&#x27;, &#x27;Hungarian&#x27;, &#x27;Samoan&#x27;, &#x27;Turkish&#x27;]</td><td>AU</td><td>2013-08-19</td><td>Turkish</td><td>509c36eb58dbce009ccf93f375358d53</td><td>Samoan</td></tr></table>"
      ],
      "text/plain": [
       "<IPython.core.display.HTML object>"
      ]
     },
     "execution_count": 63,
     "metadata": {},
     "output_type": "execute_result"
    }
   ],
   "source": [
    "%%sparksql\n",
    "-- test it out\n",
    "SELECT *\n",
    "FROM dataset_50k\n",
    "LIMIT 3"
   ]
  },
  {
   "cell_type": "markdown",
   "metadata": {},
   "source": [
    "AnalysisException: cannot resolve '`max_date`' given input columns: [dataset_50k.choices, dataset_50k.country, dataset_50k.date, dataset_50k.guess, dataset_50k.sample, dataset_50k.target]; line 6 pos 13;## Assignment 1\n",
    "Find the number of games where the guessed language is correct (meaning equal to the target one) and that language is Russian."
   ]
  },
  {
   "cell_type": "code",
   "execution_count": 93,
   "metadata": {
    "tags": []
   },
   "outputs": [],
   "source": [
    "start_exercise()"
   ]
  },
  {
   "cell_type": "code",
   "execution_count": 94,
   "metadata": {
    "cell_status": {
     "execute_time": {
      "duration": 3269.97802734375,
      "end_time": 1573674917442.039
     }
    },
    "collapsed": false,
    "jupyter": {
     "outputs_hidden": false
    }
   },
   "outputs": [
    {
     "data": {
      "text/html": [
       "<table><tr style=\"border-bottom: 1px solid\"><td style=\"font-weight: bold\">count(1)</td></tr><tr><td>957</td></tr></table>"
      ],
      "text/plain": [
       "<IPython.core.display.HTML object>"
      ]
     },
     "execution_count": 94,
     "metadata": {},
     "output_type": "execute_result"
    }
   ],
   "source": [
    "%%sparksql\n",
    "-- write you query here\n",
    "SELECT count(*)\n",
    "FROM dataset_50k\n",
    "WHERE guess = target AND target = 'Russian'\n",
    "\n",
    "\n"
   ]
  },
  {
   "cell_type": "code",
   "execution_count": 95,
   "metadata": {
    "tags": []
   },
   "outputs": [
    {
     "name": "stdout",
     "output_type": "stream",
     "text": [
      "This exercise took 2s\n"
     ]
    }
   ],
   "source": [
    "finish_exercise()"
   ]
  },
  {
   "cell_type": "markdown",
   "metadata": {},
   "source": [
    "## Assignment 2\n",
    "Return the number of distinct \"target\" languages."
   ]
  },
  {
   "cell_type": "code",
   "execution_count": 96,
   "metadata": {
    "tags": []
   },
   "outputs": [],
   "source": [
    "start_exercise()"
   ]
  },
  {
   "cell_type": "code",
   "execution_count": 97,
   "metadata": {
    "cell_status": {
     "execute_time": {
      "duration": 5283.8310546875,
      "end_time": 1573674952324.165
     }
    },
    "collapsed": false,
    "jupyter": {
     "outputs_hidden": false
    }
   },
   "outputs": [
    {
     "data": {
      "text/html": [
       "<table><tr style=\"border-bottom: 1px solid\"><td style=\"font-weight: bold\">Count</td></tr><tr><td>68</td></tr></table>"
      ],
      "text/plain": [
       "<IPython.core.display.HTML object>"
      ]
     },
     "execution_count": 97,
     "metadata": {},
     "output_type": "execute_result"
    }
   ],
   "source": [
    "%%sparksql\n",
    "-- write you query here\n",
    "SELECT COUNT(DISTINCT target) AS Count\n",
    "FROM dataset_50k\n",
    "\n"
   ]
  },
  {
   "cell_type": "code",
   "execution_count": 98,
   "metadata": {
    "tags": []
   },
   "outputs": [
    {
     "name": "stdout",
     "output_type": "stream",
     "text": [
      "This exercise took 1s\n"
     ]
    }
   ],
   "source": [
    "finish_exercise()"
   ]
  },
  {
   "cell_type": "markdown",
   "metadata": {},
   "source": [
    "## Assignment 3\n",
    "Return the sample IDs (i.e., the *sample* field) of the top three games where the guessed language is correct (equal to the target one) ordered by language (ascending), then by country (ascending), then by date (ascending)."
   ]
  },
  {
   "cell_type": "code",
   "execution_count": 99,
   "metadata": {
    "tags": []
   },
   "outputs": [],
   "source": [
    "start_exercise()"
   ]
  },
  {
   "cell_type": "code",
   "execution_count": 100,
   "metadata": {
    "cell_status": {
     "execute_time": {
      "duration": 2259.453857421875,
      "end_time": 1573674971198.841
     }
    },
    "collapsed": false,
    "jupyter": {
     "outputs_hidden": false
    }
   },
   "outputs": [
    {
     "data": {
      "text/html": [
       "<table><tr style=\"border-bottom: 1px solid\"><td style=\"font-weight: bold\">sample</td></tr><tr><td>fdf23d0a7063ba2fcef4b18eb7d57ad8</td></tr><tr><td>13722ceed1eede7ba597ade9b4cb9807</td></tr><tr><td>efcd813daec1c836d9f030b30caa07ce</td></tr></table>"
      ],
      "text/plain": [
       "<IPython.core.display.HTML object>"
      ]
     },
     "execution_count": 100,
     "metadata": {},
     "output_type": "execute_result"
    }
   ],
   "source": [
    "%%sparksql\n",
    "-- write you query here\n",
    "\n",
    "SELECT sample\n",
    "FROM dataset_50k\n",
    "WHERE guess = target\n",
    "ORDER BY target,country,date ASC\n",
    "LIMIT 3\n",
    "\n"
   ]
  },
  {
   "cell_type": "code",
   "execution_count": 101,
   "metadata": {
    "tags": []
   },
   "outputs": [
    {
     "name": "stdout",
     "output_type": "stream",
     "text": [
      "This exercise took 3s\n"
     ]
    }
   ],
   "source": [
    "finish_exercise()"
   ]
  },
  {
   "cell_type": "markdown",
   "metadata": {},
   "source": [
    "## Assignment 4\n",
    "Aggregate all games by country and target language, counting the number of guesses for each group and return the frequencies of the three most frequent country/language combinations."
   ]
  },
  {
   "cell_type": "code",
   "execution_count": null,
   "metadata": {
    "tags": []
   },
   "outputs": [],
   "source": [
    "start_exercise()"
   ]
  },
  {
   "cell_type": "code",
   "execution_count": 68,
   "metadata": {
    "cell_status": {
     "execute_time": {
      "duration": 3281.450927734375,
      "end_time": 1573675065646.265
     }
    },
    "collapsed": false,
    "jupyter": {
     "outputs_hidden": false
    }
   },
   "outputs": [
    {
     "data": {
      "text/html": [
       "<table><tr style=\"border-bottom: 1px solid\"><td style=\"font-weight: bold\">count</td></tr><tr><td>770</td></tr><tr><td>719</td></tr><tr><td>715</td></tr></table>"
      ],
      "text/plain": [
       "<IPython.core.display.HTML object>"
      ]
     },
     "execution_count": 68,
     "metadata": {},
     "output_type": "execute_result"
    }
   ],
   "source": [
    "%%sparksql\n",
    "-- write you query here\n",
    "\n",
    "SELECT count(*) as count\n",
    "FROM dataset_50k\n",
    "GROUP BY country, target\n",
    "ORDER BY count DESC\n",
    "LIMIT 3\n"
   ]
  },
  {
   "cell_type": "code",
   "execution_count": null,
   "metadata": {
    "tags": []
   },
   "outputs": [],
   "source": [
    "finish_exercise()"
   ]
  },
  {
   "cell_type": "markdown",
   "metadata": {},
   "source": [
    "## Assignment 5\n",
    "Find the percentage of games where (the answer was correct && the correct guess was the first choice amongst the array of possible answers)\n",
    "\n",
    "Please write the fraction rounding to 4 decimals (eg. 0.3323)"
   ]
  },
  {
   "cell_type": "code",
   "execution_count": 102,
   "metadata": {
    "tags": []
   },
   "outputs": [],
   "source": [
    "start_exercise()"
   ]
  },
  {
   "cell_type": "code",
   "execution_count": 103,
   "metadata": {
    "cell_status": {
     "execute_time": {
      "duration": 1265.067138671875,
      "end_time": 1573675200154.991
     }
    },
    "collapsed": false,
    "jupyter": {
     "outputs_hidden": false
    }
   },
   "outputs": [
    {
     "data": {
      "text/html": [
       "<table><tr style=\"border-bottom: 1px solid\"><td style=\"font-weight: bold\">perc</td></tr><tr><td>0.24352</td></tr></table>"
      ],
      "text/plain": [
       "<IPython.core.display.HTML object>"
      ]
     },
     "execution_count": 103,
     "metadata": {},
     "output_type": "execute_result"
    }
   ],
   "source": [
    "%%sparksql\n",
    "-- write you query here\n",
    "\n",
    "SELECT count(*)/50000 as perc\n",
    "FROM dataset_50k\n",
    "WHERE guess = target AND target = choices[0]\n",
    "\n",
    "\n",
    "\n"
   ]
  },
  {
   "cell_type": "code",
   "execution_count": 104,
   "metadata": {
    "tags": []
   },
   "outputs": [
    {
     "name": "stdout",
     "output_type": "stream",
     "text": [
      "This exercise took 2s\n"
     ]
    }
   ],
   "source": [
    "finish_exercise()"
   ]
  },
  {
   "cell_type": "markdown",
   "metadata": {},
   "source": [
    "## Assignment 6\n",
    "Return the number of games played on the latest day."
   ]
  },
  {
   "cell_type": "code",
   "execution_count": 107,
   "metadata": {
    "tags": []
   },
   "outputs": [],
   "source": [
    "start_exercise()"
   ]
  },
  {
   "cell_type": "code",
   "execution_count": 108,
   "metadata": {
    "cell_status": {
     "execute_time": {
      "duration": 3271.09814453125,
      "end_time": 1573675296367.05
     }
    },
    "collapsed": false,
    "jupyter": {
     "outputs_hidden": false
    }
   },
   "outputs": [
    {
     "data": {
      "text/html": [
       "<table><tr style=\"border-bottom: 1px solid\"><td style=\"font-weight: bold\">count(1)</td><td style=\"font-weight: bold\">max_date</td></tr><tr><td>34429</td><td>2013-09-03</td></tr></table>"
      ],
      "text/plain": [
       "<IPython.core.display.HTML object>"
      ]
     },
     "execution_count": 108,
     "metadata": {},
     "output_type": "execute_result"
    }
   ],
   "source": [
    "%%sparksql\n",
    "-- write you query here\n",
    "\n",
    "\n",
    "SELECT count(*), MAX(date) as max_date\n",
    "FROM dataset_50k\n",
    "GROUP BY date\n",
    "ORDER BY date DESC\n",
    "LIMIt(1)\n"
   ]
  },
  {
   "cell_type": "code",
   "execution_count": 109,
   "metadata": {
    "scrolled": true,
    "tags": []
   },
   "outputs": [
    {
     "name": "stdout",
     "output_type": "stream",
     "text": [
      "This exercise took 2s\n"
     ]
    }
   ],
   "source": [
    "finish_exercise()"
   ]
  },
  {
   "cell_type": "code",
   "execution_count": null,
   "metadata": {},
   "outputs": [],
   "source": []
  }
 ],
 "metadata": {
  "kernelspec": {
   "display_name": "Python 3",
   "language": "python",
   "name": "python3"
  },
  "language_info": {
   "codemirror_mode": {
    "name": "ipython",
    "version": 3
   },
   "file_extension": ".py",
   "mimetype": "text/x-python",
   "name": "python",
   "nbconvert_exporter": "python",
   "pygments_lexer": "ipython3",
   "version": "3.9.4"
  }
 },
 "nbformat": 4,
 "nbformat_minor": 4
}
