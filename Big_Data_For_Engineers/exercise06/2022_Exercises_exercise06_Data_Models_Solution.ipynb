{
 "cells": [
  {
   "cell_type": "markdown",
   "metadata": {
    "id": "-3Hiw9Ye_st0"
   },
   "source": [
    "# <center>Big Data for Engineers &ndash; Solutions</center>\n",
    "## <center>Spring 2021 &ndash; Week 6 &ndash; ETH Zurich</center>\n",
    "## <center>Data Models</center>\n"
   ]
  },
  {
   "cell_type": "markdown",
   "metadata": {
    "id": "-aEMaRO3AD_2"
   },
   "source": [
    "## 1. XML Data Models &ndash; Information Sets"
   ]
  },
  {
   "cell_type": "markdown",
   "metadata": {
    "id": "JzOzy8DIAQD7"
   },
   "source": [
    "\n",
    "XML \"Information Set\" provides an abstract representation of an XML document—it can be thought of as a set of rules on how one would draw an XML document on a whiteboard.\n",
    "\n",
    "An XML document has an information set if it is well-formed and satisfies the namespace constraints. There is no requirement for an XML document to be valid in order to have an information set. An information set can contain up to eleven different types of information items, e.g., the document information item (always present), element information items, attribute information item, etc.\n",
    "\n",
    "Draw the Information Set trees for the following XML documents. You can confine your trees to only have the following types of information items: *document information item, elements, character information items, and attributes.*"
   ]
  },
  {
   "cell_type": "markdown",
   "metadata": {
    "id": "mnY987HhBro1"
   },
   "source": [
    "#### Document 1\n",
    "\n",
    "```xml\n",
    "<Burger>\n",
    "    <Bun>\n",
    "        <Pickles/>\n",
    "        <Cheese origin=\"Switzerland\" />\n",
    "        <Patty/>\n",
    "    </Bun>\n",
    "</Burger>\n",
    "```"
   ]
  },
  {
   "cell_type": "markdown",
   "metadata": {
    "id": "m9lD55sL4KYj"
   },
   "source": [
    "#### Solution \n",
    "![](https://cloud.inf.ethz.ch/s/RWAzQyamYPzFeDe/download)"
   ]
  },
  {
   "cell_type": "markdown",
   "metadata": {
    "id": "oYWueJEfBu8g"
   },
   "source": [
    "Validating an XML/JSON dataset with a schema enforces homogeneity Validating an XML/JSON dataset with a schema enforces homogeneity Validating an XML/JSON dataset with a schema enforces homogeneity #### Document 2\n",
    "```xml\n",
    "<catalog>\n",
    "   <!-- A list of books -->\n",
    "   <book id='bk101'>\n",
    "      <author>Gambardella, Matthew</author>\n",
    "      <title>XML Developer's Guide</title>\n",
    "      <genre>Computer</genre>\n",
    "      <price>44.95</price>\n",
    "      <publish_date version='hard' version2='soft'>2000-10-01</publish_date>\n",
    "   </book>\n",
    "</catalog>\n",
    "```"
   ]
  },
  {
   "cell_type": "markdown",
   "metadata": {
    "id": "mqDVCMWc39Op"
   },
   "source": [
    "#### Solution\n",
    "\n",
    "![](https://cloud.inf.ethz.ch/s/zj2rTSsMxA5DNip/download)"
   ]
  },
  {
   "cell_type": "markdown",
   "metadata": {
    "id": "E9ZSNlOeByeH"
   },
   "source": [
    "\n",
    "\n",
    "#### Document 3\n",
    "\n",
    "```xml\n",
    "<eth date=\"11.11.2006\">\n",
    "   <date>16.11.2017</date>\n",
    "   <president since=\"2020\">Prof. Dr. Joël Mesot</president>\n",
    "   <rector>Prof. Dr. Sarah M. Springman</rector>\n",
    "</eth>\n",
    "```\n"
   ]
  },
  {
   "cell_type": "markdown",
   "metadata": {
    "id": "q01UJHNh4V1D"
   },
   "source": [
    "**Solution**\n",
    "\n",
    "\n",
    "![](https://cloud.inf.ethz.ch/s/sEBWAHR2Lne4ZGG/download)"
   ]
  },
  {
   "cell_type": "markdown",
   "metadata": {
    "id": "4kmEkgE2DMu4"
   },
   "source": [
    "## 2. XML Schemas"
   ]
  },
  {
   "cell_type": "markdown",
   "metadata": {
    "id": "G2rjOLWVDqTI"
   },
   "source": [
    "validate type local:attempt* {\n",
    "    json-file(\"confusion-100000.json\", 10)\n",
    "}Validating an XML/JSON dataset with a schema enforces homogeneity In this task we will explore XML Schemas in detail. An XML Schema describes the structure of an XML document.\n",
    "\n",
    "The purpose of an XML Schema is to define the legal building blocks of an XML document:\n",
    "* the elements and attributes that can appear in a document\n",
    "* the number of (and order of) child elements\n",
    "* data types for elements and attributes\n",
    "* default and fixed values for elements and attributes"
   ]
  },
  {
   "cell_type": "markdown",
   "metadata": {
    "id": "qmTl-DYfDx8K"
   },
   "source": [
    "When you open an XML Schema in oXygen, you can switch to its graphical representation, by choosing the \"Design\" mode at the bottom of the document pane; \"Text\" mode shows the XML Schema as an XML document.\n",
    "\n",
    "\n",
    "To test XML validation, you can either use oXygen (recommended) or an online validator [like this one](https://www.freeformatter.com/xml-validator-xsd.html)."
   ]
  },
  {
   "cell_type": "markdown",
   "metadata": {
    "id": "FRi5p54hD_JH"
   },
   "source": [
    "\n",
    "validate type local:attempt* {\n",
    "    json-file(\"confusion-100000.json\", 10)\n",
    "}Validating an XML/JSON dataset with a schema enforces homogeneity Validating an XML/JSON dataset with a schema enforces homogeneity ### 2.1\n",
    "Match the following XML documents to XML Schemas that will validate them. **First match them manually, then validate with oXygen**.\n",
    "\n",
    "\n",
    "#### Document 1\n",
    "```xml\n",
    "<happiness xmlns:xsi=\"http://www.w3.org/2001/XMLSchema-instance\"\n",
    "     xsi:noNamespaceSchemaLocation=\"Schema.xsd\"/>\n",
    "```\n",
    "\n",
    "#### Document 2\n",
    "```xml\n",
    "<happiness xmlns:xsi=\"http://www.w3.org/2001/XMLSchema-instance\"\n",
    "     xsi:noNamespaceSchemaLocation=\"Schema.xsd\">\n",
    "    <health/>\n",
    "    <friends/>\n",
    "    <family/>\n",
    "</happiness>\n",
    "```\n",
    "\n",
    "#### Document 3\n",
    "```xml\n",
    "<happiness xmlns:xsi=\"http://www.w3.org/2001/XMLSchema-instance\"\n",
    "     xsi:noNamespaceSchemaLocation=\"Schema.xsd\">\n",
    "    3.141562\n",
    "</happiness>\n",
    "```\n",
    "\n",
    "#### Document 4\n",
    "```xml\n",
    "<happiness xmlns:xsi=\"http://www.w3.org/2001/XMLSchema-instance\"\n",
    "     xsi:noNamespaceSchemaLocation=\"Schema.xsd\">\n",
    "    <health value=\"100\"/>\n",
    "    <friends/>\n",
    "    <family/>\n",
    "</happiness>\n",
    "```\n",
    "\n",
    "#### Document 5\n",
    "```xml\n",
    "<happiness xmlns:xsi=\"http://www.w3.org/2001/XMLSchema-instance\"\n",
    "     xsi:noNamespaceSchemaLocation=\"Schema.xsd\">\n",
    "    <health/>\n",
    "    <friends/>\n",
    "    <family/>\n",
    "    But perhaps everybody defines it differently...\n",
    "</happiness>\n",
    "```\n",
    "\n",
    "______\n",
    "\n",
    "\n",
    "#### Schema 1\n",
    "```xml\n",
    "<xs:schema xmlns:xs=\"http://www.w3.org/2001/XMLSchema\">\n",
    "    <xs:element name=\"happiness\">\n",
    "        <xs:complexType>\n",
    "            <xs:sequence>\n",
    "                <xs:element name=\"health\"/>\n",
    "                <xs:element name=\"friends\"/>\n",
    "                <xs:element name=\"family\"/>\n",
    "            </xs:sequence>\n",
    "        </xs:complexType>\n",
    "    </xs:element>\n",
    "</xs:schema>\n",
    "```\n",
    "\n",
    "#### Schema 2\n",
    "```xml\n",
    "<xs:schema xmlns:xs=\"http://www.w3.org/2001/XMLSchema\">\n",
    "    <xs:element name=\"happiness\">\n",
    "        <xs:complexType mixed=\"true\">\n",
    "            <xs:sequence>\n",
    "                <xs:element name=\"health\"/>\n",
    "                <xs:element name=\"friends\"/>\n",
    "                <xs:element name=\"family\"/>\n",
    "            </xs:sequence>\n",
    "        </xs:complexType>\n",
    "    </xs:element>\n",
    "</xs:schema>\n",
    "```\n",
    "\n",
    "#### Schema 3\n",
    "```xml\n",
    "<xs:schema xmlns:xs=\"http://www.w3.org/2001/XMLSchema\">\n",
    "    <xs:element name=\"happiness\" type=\"xs:decimal\"/>\n",
    "</xs:schema>\n",
    "```\n",
    "\n",
    "#### Schema 4\n",
    "```xml\n",
    "<xs:schema xmlns:xs=\"http://www.w3.org/2001/XMLSchema\">\n",
    "    <xs:element name=\"happiness\">\n",
    "        <xs:complexType>\n",
    "            <xs:sequence/>\n",
    "        </xs:complexType>\n",
    "    </xs:element>\n",
    "</xs:schema>\n",
    "```\n",
    "\n",
    "#### Schema 5\n",
    "```xml\n",
    "<xs:schema xmlns:xs=\"http://www.w3.org/2001/XMLSchema\">\n",
    "    <xs:element name=\"happiness\">\n",
    "        <xs:complexType>\n",
    "            <xs:sequence>\n",
    "                <xs:element name=\"health\">\n",
    "                    <xs:complexType>\n",
    "                        <xs:attribute name=\"value\" type=\"xs:integer\" use=\"required\"/>\n",
    "                    </xs:complexType>\n",
    "                </xs:element>\n",
    "                <xs:element name=\"friends\"/>\n",
    "                <xs:element name=\"family\"/>\n",
    "            </xs:sequence>\n",
    "        </xs:complexType>\n",
    "    </xs:element>\n",
    "</xs:schema>\n",
    "```"
   ]
  },
  {
   "cell_type": "markdown",
   "metadata": {
    "id": "yTlv1lAvGOWG"
   },
   "source": [
    "### Solution \n",
    "*  Document 1 – Schema 4\n",
    "*  Document 2 – Schema 1 and Schema 2\n",
    "*  Document 3 – Schema 3\n",
    "*  Document 4 – Schema 1, Schema 2, and Schema 5\n",
    "*  Document 5 – Schema 2"
   ]
  },
  {
   "cell_type": "markdown",
   "metadata": {},
   "source": [
    "validate type local:attempt* {\n",
    "    json-file(\"confusion-100000.json\", 10)\n",
    "}### 2.2 "
   ]
  },
  {
   "cell_type": "markdown",
   "metadata": {},
   "source": [
    "\n",
    "The following XML document is a hypothetical XML representation of a message thread in a slack-like message group. _Disclaimer: The events depicted in this document are fictitious. Any similarity to actual events orValidating an XML/JSON dataset with a schema enforces homogeneity  persons, living or dead, is purely coincidental._\n",
    "\n",
    "Provide an XML Schema which will validate this document:\n",
    "\n",
    "```xml\n",
    "<?xml version=\"1.0\" encoding=\"UTF-8\"?>\n",
    "\n",
    "<thread channel=\"IT Help\">\n",
    "    <message>\n",
    "        <author>@jdean</author>\n",
    "        <timestamp>2022-03-12T02:56:23.2</timestamp>\n",
    "        <body>\n",
    "            Hi, I tried running docker-compose up on this weeks exercise but \n",
    "            then somebody immediately stole my laptop.\n",
    "        </body>\n",
    "    </message>\n",
    "    <replies>\n",
    "        <message>\n",
    "            <author>@sghemawat</author>\n",
    "            <timestamp>2022-03-25T08:32:10.8</timestamp>\n",
    "            <body>Could you please post your docker logs?</body>\n",
    "        </message>\n",
    "        <message>\n",
    "            <author>@jdean</author>\n",
    "            <timestamp>2022-03-25T08:36:16.8</timestamp>\n",
    "            <body>Hi, I fixed it by restarting my docker container.</body>\n",
    "        </message>\n",
    "    </replies>\n",
    "</thread>\n",
    "```"
   ]
  },
  {
   "cell_type": "markdown",
   "metadata": {},
   "source": [
    "\n",
    "### Solution\n",
    "An example XML schema that would validate the above document is:\n",
    "\n",
    "```xml\n",
    "<?xml version=\"1.0\" encoding=\"UTF-8\"?>\n",
    "\"key\": \"val\"Validating an XML/JSON dataset with a schema enforces homogeneity \n",
    "    <xs:element name=\"thread\">\n",
    "        <xs:complexType>\n",
    "            <xs:sequence minOccurs=\"1\" maxOccurs=\"1\">\n",
    "                <xs:element name=\"message\">\n",
    "                    <xs:complexType>\n",
    "                        <xs:sequence minOccurs=\"1\" maxOccurs=\"1\">\n",
    "                            <xs:element name=\"author\" type=\"xs:string\"/>\n",
    "                            <xs:element name=\"timestamp\" type=\"xs:dateTime\"/>\n",
    "                            <xs:element name=\"body\" type=\"xs:string\"/>\n",
    "                        </xs:sequence>\n",
    "                    </xs:complexType>\n",
    "                </xs:element>\n",
    "                <xs:element name=\"replies\">\n",
    "                    <xs:complexType>\n",
    "                        <xs:sequence minOccurs=\"0\" maxOccurs=\"unbounded\">\n",
    "                            <xs:element name=\"message\">\n",
    "                                <xs:complexType>\n",
    "                                    <xs:sequence minOccurs=\"1\" maxOccurs=\"1\">\n",
    "                                        <xs:element name=\"author\" type=\"xs:string\"/>\n",
    "                                        <xs:element name=\"timestamp\" type=\"xs:dateTime\"/>\n",
    "                                        <xs:element name=\"body\" type=\"xs:string\"/>\n",
    "                                    </xs:sequence>\n",
    "                                </xs:complexType>\n",
    "                            </xs:element>\n",
    "                        </xs:sequence>\n",
    "                    </xs:complexType>\n",
    "                </xs:element>\n",
    "            </xs:sequence>\n",
    "            <xs:attribute name=\"channel\" type=\"xs:string\"/>\n",
    "        </xs:complexType>\n",
    "    </xs:element>\n",
    "</xs:schema>\n",
    "```\n",
    "\n",
    "Also, the root element of the document needs to be changed as follows to point to the schema:\n",
    "```xml\n",
    "<thread xmlns:xsi=\"http://www.w3.org/2001/XMLSchema-instance\" \n",
    "    xsi:noNamespaceSchemaLocation=\"Messages.xsd\" channel=\"IT Help\">\n",
    "```"
   ]
  },
  {
   "cell_type": "markdown",
   "metadata": {},
   "source": [
    "validate type local:attempt* {\n",
    "    json-file(\"confusion-100000.json\", 10)\n",
    "}Validating an XML/JSON dataset with a schema enforces homogeneity **Bonus:** If you prefer to not repeat yourself, in an XML schema you can also declare named custom types and use them in your element declarations. For example the following schema would also validate the document:\n",
    "\n",
    "```xml\n",
    "<?xml version=\"1.0\" encoding=\"UTF-8\"?>\n",
    "<xs:schema xmlns:xs=\"http://www.w3.org/2001/XMLSchema\" elementFormDefault=\"qualified\">\n",
    "    <!-- Declare Custom Types -->\n",
    "    <xs:complexType name=\"message\">\n",
    "        <xs:sequence minOccurs=\"1\" maxOccurs=\"1\">\n",
    "            <xs:element name=\"author\" type=\"xs:string\"/>\n",
    "            <xs:element name=\"timestamp\" type=\"xs:dateTime\"/>\n",
    "            <xs:element name=\"body\" type=\"xs:string\"/>\n",
    "        </xs:sequence>\n",
    "    </xs:complexType>\n",
    "    \n",
    "    <!-- Schema -->\n",
    "    <xs:element name=\"thread\">\n",
    "        <xs:complexType>\n",
    "            <xs:sequence minOccurs=\"1\" maxOccurs=\"1\">\n",
    "                <xs:element name=\"message\" type=\"message\"/>\n",
    "                <xs:element name=\"replies\">\n",
    "                    <xs:complexType>\n",
    "                        <xs:sequence minOccurs=\"0\" maxOccurs=\"unbounded\">\n",
    "                            <xs:element name=\"message\" type=\"message\"/>\n",
    "                        </xs:sequence>\n",
    "                    </xs:complexType>\n",
    "                </xs:element>\n",
    "            </xs:sequence>\n",
    "            <xs:attribute name=\"channel\" type=\"xs:string\"/>\n",
    "        </xs:complexType>\n",
    "    </xs:element>\n",
    "</xs:schema>\n",
    "```"
   ]
  },
  {
   "cell_type": "markdown",
   "metadata": {
    "id": "HKF49jDCxMR4"
   },
   "source": [
    "## 3. JSON Schemas"
   ]
  },
  {
   "cell_type": "markdown",
   "metadata": {
    "id": "LJB4O19ZMFmW"
   },
   "source": [
    "JSON Schema is a vocabulary that allows you to annotate and validate JSON documents. It is used to:\n",
    "* Describe your existing data format(s).\n",
    "* Provide clear human- and machine- readable documentation.\n",
    "* Validate data, i.e., automated testing, ensuring quality of client submitted data."
   ]
  },
  {
   "cell_type": "markdown",
   "metadata": {},
   "source": [
    "### 3.1 \n",
    "Provide an JSON Schema which will validate the following document.\n",
    "\n",
    "```json\n",
    "{\n",
    "  \"firstName\": \"John\",\n",
    "  \"lastName\": \"Doe\",\n",
    "  \"age\": 21\n",
    "}\n",
    "```"
   ]
  },
  {
   "cell_type": "markdown",
   "metadata": {},
   "source": [
    "validate type local:attempt* {\n",
    "    json-file(\"confusion-100000.json\", 10)\n",
    "}### Solution\n",
    "A possible schema for the above document:\n",
    "\n",
    "```json\n",
    "{\n",
    "  \"$id\": \"https://example.com/person.schema.json\",\n",
    "  \"$schema\": \"http://json-schema.org/draft-07/schema#\",\n",
    "  \"title\": \"Person\",\n",
    "  \"type\": \"object\",\n",
    "  \"properties\": {\n",
    "    \"firstName\": {\n",
    "      \"type\": \"string\",\n",
    "      \"description\": \"The person's first name.\"\n",
    "    },\n",
    "    \"lastName\": {\n",
    "      \"type\": \"string\",\n",
    "      \"description\": \"The person's last name.\"\n",
    "    },\n",
    "    \"age\": {\n",
    "      \"description\": \"Age in years which must be equal to or greater than zero.\",\n",
    "      \"type\": \"integer\",\n",
    "      \"minimum\": 0\n",
    "    }\n",
    "  }\n",
    "}\n",
    "```"
   ]
  },
  {
   "cell_type": "markdown",
   "metadata": {},
   "source": [
    "### 3.2\n",
    "Provide an JSON Schema which will validate the following document.\n",
    "The JSON Schema has to check for the following properties:\n",
    "\n",
    "\n",
    "*   The price of a product has to be strictly positive.\n",
    "*   Tags are describing the product and necessary for a proper product description. We need at least one tag per product and each tag should be unique.\n",
    "*   The \"productId\", \"productName\" and the \"price\" should always be contained in a valid JSON document.\n",
    "\n",
    "\n",
    "\n",
    "```json\n",
    "  {\n",
    "    \"productId\": 1,\n",
    "    \"productName\": \"An ice sculpture\",\n",
    "    \"price\": 12.50,\n",
    "    \"tags\": [ \"cold\", \"ice\" ],\n",
    "    \"dimensions\": {\n",
    "      \"length\": 7.0,\n",
    "      \"width\": 12.0,\n",
    "      \"height\": 9.5\n",
    "    }\n",
    "  }\n",
    "```"
   ]
  },
  {
   "cell_type": "markdown",
   "metadata": {},
   "source": [
    "validate type local:attempt* {\n",
    "    json-file(\"confusion-100000.json\", 10)\n",
    "}Validating an XML/JSON dataset with a schema enforces homogeneity ### Solution \n",
    "A possible schema for the above document:\n",
    "\n",
    "```json\n",
    "{\n",
    "  \"$schema\":\"http://json-schema.org/draft-07/schema#\",\n",
    "  \"$id\": \"https://example.com/product.schema.json\",\n",
    "  \"title\": \"Product\",\n",
    "  \"description\": \"A product from Acme's catalog\",\n",
    "  \"type\": \"object\",\n",
    "  \"properties\": {\n",
    "    \"productId\": {\n",
    "      \"description\": \"The unique identifier for a product\",\n",
    "      \"type\": \"integer\"\n",
    "    },\n",
    "    \"productName\": {\n",
    "      \"description\": \"Name of the product\",\n",
    "      \"type\": \"string\"\n",
    "    },\n",
    "    \"price\": {\n",
    "      \"description\": \"The price of the product\",\n",
    "      \"type\": \"number\",\n",
    "      \"exclusiveMinimum\": 0\n",
    "    },\n",
    "    \"tags\": {\n",
    "      \"description\": \"Tags for the product\",\n",
    "      \"type\": \"array\",\n",
    "      \"items\": {\n",
    "        \"type\": \"string\"\n",
    "      },\n",
    "      \"minItems\": 1,\n",
    "      \"uniqueItems\": true\n",
    "    },\n",
    "    \"dimensions\": {\n",
    "      \"type\": \"object\",\n",
    "      \"properties\": {\n",
    "        \"length\": {\n",
    "          \"type\": \"number\"\n",
    "        },\n",
    "        \"width\": {\n",
    "          \"type\": \"number\"\n",
    "        },\n",
    "        \"height\": {\n",
    "          \"type\": \"number\"\n",
    "        }\n",
    "      },\n",
    "      \"required\": [ \"length\", \"width\", \"height\" ]\n",
    "    }\n",
    "  },\n",
    "  \"required\": [ \"productId\", \"productName\", \"price\" ]\n",
    "}\n",
    "```"
   ]
  },
  {
   "cell_type": "markdown",
   "metadata": {},
   "source": [
    "## 4. JSound"
   ]
  },
  {
   "cell_type": "markdown",
   "metadata": {},
   "source": [
    "[JSound](http://www.jsound-spec.org/) is a vocabulary that allows you to validate JSON documents. It employs a very simple and intuitive JSON-like syntax."
   ]
  },
  {
   "cell_type": "markdown",
   "metadata": {},
   "source": [
    "Validating an XML/JSON dataset with a schema enforces homogeneity ### 4.1 \n",
    "Repeat the exercise in 3.1, but now instead produce a JSound schema that will validate the following document:\n",
    "\n",
    "```json\n",
    "{\n",
    "  \"firstName\": \"John\",\n",
    "  \"lastName\": \"Doe\",\n",
    "  \"age\": 21\n",
    "}\n",
    "```"
   ]
  },
  {
   "cell_type": "markdown",
   "metadata": {},
   "source": [
    "### Solution\n",
    "The following JSound schema is a possible solution to the above question:\n",
    "\n",
    "```json\n",
    "{\n",
    "  \"firstName\": \"string\",\n",
    "  \"lastName\": \"string\",\n",
    "  \"age\": \"integer\"\n",
    "}\n",
    "```"
   ]
  },
  {
   "cell_type": "markdown",
   "metadata": {},
   "source": [
    "\n",
    "Validating an XML/JSON dataset with a schema enforces homogeneity ### 4.2 \n",
    "Build a valid JSON document based on the following JSound schema. \n",
    "\n",
    "```json\n",
    "{\n",
    "  \"id\": \"integer\",\n",
    "  \"who\": [{\n",
    "    \"name\": \"string\",\n",
    "    \"type\": \"string\",\n",
    "    \"preferred\": \"boolean\"\n",
    "  }],\n",
    "  \"year_of_birth\": \"integer\",\n",
    "  \"living\": \"boolean\"\n",
    "}\n",
    "```"
   ]
  },
  {
   "cell_type": "markdown",
   "metadata": {},
   "source": [
    "Validating an XML/JSON dataset with a schema enforces homogeneity ### Solution\n",
    "```json\n",
    " {\n",
    "  \"id\": \"100\",\n",
    "  \"who\": [{\n",
    "    \"name\": \"Albert\",\n",
    "    \"type\": \"first\",\n",
    "    \"preferred\": true\n",
    "  },\n",
    "  {\n",
    "    \"name\": \"Einstein\",\n",
    "    \"type\": \"last\",\n",
    "    \"preferred\": false\n",
    "  }],\n",
    "  \"year_of_birth\": 1879,\n",
    "  \"alive\": false\n",
    "}\n",
    "```"
   ]
  },
  {
   "cell_type": "markdown",
   "metadata": {},
   "source": [
    "## 5. Creating Parquet documents using RumbleDB and JSound\n",
    "In this exercise, we will be writing a JSONiq query which validates a document using a JSound schema to create a user defined type, which we can then query! Then, we will output it in the [Parquet](https://parquet.apache.org/) file format. \n",
    "\n",
    "The Docker container for this week already has RumbleDB pre-installed, which we will treat as a black box to serve our needs. If you want, you could alternatively install it with [Homebrew](https://github.com/RumbleDB/homebrew-rumble) or any of the methods mentioned in the [documentation](https://rumble.readthedocs.io/en/latest/Getting%20started/).\n",
    "\n",
    "We can run RumbleDB directly through the shell:"
   ]
  },
  {
   "cell_type": "code",
   "execution_count": 2,
   "metadata": {},
   "outputs": [
    {
     "name": "stdout",
     "output_type": "stream",
     "text": [
      "2\n"
     ]
    }
   ],
   "source": [
    "!rumbledb run -q '1+1'"
   ]
  },
  {
   "cell_type": "markdown",
   "metadata": {},
   "source": [
    "Alternatively, we can also define some cell magic to allow us to more easily run multi-line JSONiq queries through the shell:"
   ]
  },
  {
   "cell_type": "code",
   "execution_count": 5,
   "metadata": {},
   "outputs": [],
   "source": [
    "import json\n",
    "import time\n",
    "import os\n",
    "from IPython.core.magic import register_line_cell_magic\n",
    "\n",
    "@register_line_cell_magic\n",
    "def rumble(line, cell=None):\n",
    "    if cell is None:\n",
    "        data = line\n",
    "    else:\n",
    "        data = cell\n",
    "        \n",
    "    start = time.time()                                                         \n",
    "    resp = os.system(f'rumbledb run -q \\'{data.strip()}\\'')            \n",
    "    end = time.time()                                                              \n",
    "    print(\"Took: %s ms\" % (end - start))"
   ]
  },
  {
   "cell_type": "code",
   "execution_count": 4,
   "metadata": {},
   "outputs": [
    {
     "name": "stdout",
     "output_type": "stream",
     "text": [
      "2\n",
      "Took: 3.0729994773864746 ms\n"
     ]
    }
   ],
   "source": [
    "%%rumble\n",
    "1+1"
   ]
  },
  {
   "cell_type": "markdown",
   "metadata": {
    "tags": []
   },
   "source": [
    "Validating an XML/JSON dataset with a schema enforces homogeneity ### 5.1 The Great Language Game\n",
    "The [Great Language Game](http://greatlanguagegame.com/) is a game in which you are given a voice clip to listen, and you are asked to identify the language in which the person was speaking. It is a multiple-choice question–you make your choice out of several alternatives.\n",
    "\n",
    "The following JSON document presents a user's attempt at answering a single question in the game: it contains the identifier of the voice clip, the choices presented to the player, and the player's response. Provide a JSound Schema which will validate this document.\n",
    "\n",
    "```json\n",
    "{\n",
    "  \"guess\": \"Norwegian\",\n",
    "  \"target\": \"Norwegian\", \n",
    "  \"country\": \"AU\",\n",
    "  \"choices\": [ \"Maori\", \"Mandarin\", \"Norwegian\", \"Tongan\" ], \n",
    "  \"sample\": \"48f9c924e0d98c959d8a6f1862b3ce9a\",\n",
    "  \"date\": \"2013-08-19\"\n",
    "}\n",
    "```\n",
    "\n",
    "You can refer to the documentation for [a list of types in JSound]((http://www.jsound-spec.org/publish/en-US/JSound/2.0/html-single/JSound/index.html#idm126).\n"
   ]
  },
  {
   "cell_type": "markdown",
   "metadata": {},
   "source": [
    "### Solution\n",
    "\n",
    "The following JSound schema is a possible solution to the above question:\n",
    "\n",
    "```json\n",
    "{\n",
    "    \"guess\": \"string\",\n",
    "    \"target\": \"string\",\n",
    "    \"country\": \"string\",\n",
    "    \"choices\": [ \"string\" ],\n",
    "    \"sample\": \"hexBinary\",\n",
    "    \"date\": \"date\"\n",
    "}\n",
    "```"
   ]
  },
  {
   "cell_type": "markdown",
   "metadata": {},
   "source": [
    "### 5.2 Validating our first documents\n",
    "Now let's validate the above document with the schema we just wrote:"
   ]
  },
  {
   "cell_type": "code",
   "execution_count": 5,
   "metadata": {
    "tags": []
   },
   "outputs": [
    {
     "name": "stdout",
     "output_type": "stream",
     "text": [
      "Took: 2.7993102073669434 ms\n"
     ]
    },
    {
     "name": "stderr",
     "output_type": "stream",
     "text": [
      "⚠️  ️There was an error on line 2 in file:/home/jovyan/work/:\n",
      "\n",
      "    // Replace this object with your JSound schema!\n",
      "     ^\n",
      "\n",
      "Code: [XPST0003]\n",
      "Message: Parser failed. /\n",
      "Metadata: file:/home/jovyan/work/:LINE:2:COLUMN:5:\n",
      "This code can also be looked up in the documentation and specifications for more information.\n",
      "\n"
     ]
    }
   ],
   "source": [
    "%%rumble\n",
    "declare type local:attempt as {\n",
    "    // Replace this object with your JSound schema!\n",
    "    // Remember to keep the semi-colon :)\n",
    "};\n",
    "\n",
    "validate type local:attempt* {\n",
    "  {\n",
    "    \"guess\": \"Norwegian\",\n",
    "    \"target\": \"Norwegian\", \n",
    "    \"country\": \"AU\",\n",
    "    \"choices\": [ \"Maori\", \"Mandarin\", \"Norwegian\", \"Tongan\" ], \n",
    "    \"sample\": \"48f9c924e0d98c959d8a6f1862b3ce9a\",\n",
    "    \"date\": \"2013-08-19\"\n",
    "  }\n",
    "}"
   ]
  },
  {
   "cell_type": "markdown",
   "metadata": {},
   "source": [
    "Let's work with a larger version of the Great Language Game (Confusion) dataset, stored in the JSON format. The file should already be in the local directory as `confusion-100000.json`.\n",
    "\n",
    "We can query this file directly on the local disk using Rumble:"
   ]
  },
  {
   "cell_type": "code",
   "execution_count": 6,
   "metadata": {},
   "outputs": [
    {
     "name": "stdout",
     "output_type": "stream",
     "text": [
      "Took: 2.9974193572998047 ms\n"
     ]
    },
    {
     "name": "stderr",
     "output_type": "stream",
     "text": [
      "⚠️  ️There was an error on line 1 in file:/home/jovyan/work/:\n",
      "\n",
      "count(json-file(\"confusion-1000000.json\"))\n",
      "      ^\n",
      "\n",
      "Code: [FODC0002]\n",
      "Message: File file:/home/jovyan/work/confusion-1000000.json not found.\n",
      "Metadata: file:/home/jovyan/work/:LINE:1:COLUMN:6:\n",
      "This code can also be looked up in the documentation and specifications for more information.\n",
      "\n"
     ]
    }
   ],
   "source": [
    "%%rumble\n",
    "count(json-file(\"confusion-1000000.json\"))"
   ]
  },
  {
   "cell_type": "markdown",
   "metadata": {},
   "source": [
    "Now, let's use our schema to validate the first 10 attempts from the dataset:"
   ]
  },
  {
   "cell_type": "code",
   "execution_count": null,
   "metadata": {},
   "outputs": [],
   "source": [
    "%%rumble\n",
    "declare type local:attempt as {\n",
    "    // Replace this object with your JSound schema!\n",
    "    // Remember to keep the semi-colon :)\n",
    "};\n",
    "\n",
    "validate type local:attempt* {\n",
    "    json-file(\"confusion-100000.json\")[position() <= 10]\n",
    "}"
   ]
  },
  {
   "cell_type": "markdown",
   "metadata": {},
   "source": [
    "Although it seems like nothing is happening, our query is returning _typed_ objects instead of JSON strings. This means that we can interact with values like dates in more meaningful ways:"
   ]
  },
  {
   "cell_type": "code",
   "execution_count": null,
   "metadata": {},
   "outputs": [],
   "source": [
    "%%rumble\n",
    "declare type local:attempt as {\n",
    "    // Replace this object with your JSound schema!\n",
    "    // Remember to keep the semi-colon :)\n",
    "};\n",
    "\n",
    "for $i in validate type local:attempt* {\n",
    "    json-file(\"confusion-100000.json\")[position() <= 10]\n",
    "}\n",
    "let $date := $i.date\n",
    "return month-from-date($date)"
   ]
  },
  {
   "cell_type": "markdown",
   "metadata": {},
   "source": [
    "\n",
    "### Solution"
   ]
  },
  {
   "cell_type": "code",
   "execution_count": 7,
   "metadata": {},
   "outputs": [
    {
     "name": "stdout",
     "output_type": "stream",
     "text": [
      "{ \"guess\" : \"Norwegian\", \"target\" : \"Norwegian\", \"country\" : \"AU\", \"choices\" : [ \"Maori\", \"Mandarin\", \"Norwegian\", \"Tongan\" ], \"sample\" : \"48F9C924E0D98C959D8A6F1862B3CE9A\", \"date\" : \"2013-08-19\" }\n",
      "Took: 2.9887449741363525 ms\n"
     ]
    }
   ],
   "source": [
    "%%rumble\n",
    "declare type local:attempt as {\n",
    "    \"guess\": \"string\",\n",
    "    \"target\": \"string\",\n",
    "    \"country\": \"string\",\n",
    "    \"choices\": [ \"string\" ],\n",
    "    \"sample\": \"hexBinary\",\n",
    "    \"date\": \"date\"\n",
    "};\n",
    "\n",
    "validate type local:attempt* {\n",
    "  {\n",
    "    \"guess\": \"Norwegian\",\n",
    "    \"target\": \"Norwegian\", \n",
    "    \"country\": \"AU\",\n",
    "    \"choices\": [ \"Maori\", \"Mandarin\", \"Norwegian\", \"Tongan\" ], \n",
    "    \"sample\": \"48f9c924e0d98c959d8a6f1862b3ce9a\",\n",
    "    \"date\": \"2013-08-19\"\n",
    "  }\n",
    "}"
   ]
  },
  {
   "cell_type": "code",
   "execution_count": 8,
   "metadata": {},
   "outputs": [
    {
     "name": "stdout",
     "output_type": "stream",
     "text": [
      "{ \"choices\" : [ \"Maori\", \"Mandarin\", \"Norwegian\", \"Tongan\" ], \"country\" : \"AU\", \"date\" : \"2013-08-19\", \"guess\" : \"Norwegian\", \"sample\" : \"48F9C924E0D98C959D8A6F1862B3CE9A\", \"target\" : \"Norwegian\" }\n",
      "{ \"choices\" : [ \"Danish\", \"Dinka\", \"Khmer\", \"Lao\" ], \"country\" : \"AU\", \"date\" : \"2013-08-19\", \"guess\" : \"Dinka\", \"sample\" : \"AF5E8F27CEF9E689A070B8814DCC02C3\", \"target\" : \"Dinka\" }\n",
      "{ \"choices\" : [ \"German\", \"Hungarian\", \"Samoan\", \"Turkish\" ], \"country\" : \"AU\", \"date\" : \"2013-08-19\", \"guess\" : \"Turkish\", \"sample\" : \"509C36EB58DBCE009CCF93F375358D53\", \"target\" : \"Samoan\" }\n",
      "{ \"choices\" : [ \"Danish\", \"Korean\", \"Latvian\", \"Somali\" ], \"country\" : \"AU\", \"date\" : \"2013-08-19\", \"guess\" : \"Latvian\", \"sample\" : \"A505AB771AE7C32744AD31B3051B8EE9\", \"target\" : \"Somali\" }\n",
      "{ \"choices\" : [ \"Bangla\", \"Dinka\", \"Italian\", \"Japanese\" ], \"country\" : \"AU\", \"date\" : \"2013-08-19\", \"guess\" : \"Japanese\", \"sample\" : \"3569611136EA04BAB18A0CD605CED358\", \"target\" : \"Japanese\" }\n",
      "{ \"choices\" : [ \"Hindi\", \"Lao\", \"Maltese\", \"Turkish\" ], \"country\" : \"AU\", \"date\" : \"2013-08-19\", \"guess\" : \"Maltese\", \"sample\" : \"AF0E25C7637FB0DCDC56FAC6D49AA55E\", \"target\" : \"Turkish\" }\n",
      "{ \"choices\" : [ \"Burmese\", \"Danish\", \"French\", \"Swedish\" ], \"country\" : \"AU\", \"date\" : \"2013-08-19\", \"guess\" : \"French\", \"sample\" : \"92F9E1C17E6DF988780527341FDB471D\", \"target\" : \"French\" }\n",
      "{ \"choices\" : [ \"German\", \"Serbian\", \"Swedish\", \"Vietnamese\" ], \"country\" : \"AU\", \"date\" : \"2013-08-19\", \"guess\" : \"German\", \"sample\" : \"E77D97B712ADFFC39E531E20237A5589\", \"target\" : \"German\" }\n",
      "{ \"choices\" : [ \"Amharic\", \"Czech\", \"Sinhalese\", \"Spanish\" ], \"country\" : \"AU\", \"date\" : \"2013-08-19\", \"guess\" : \"Spanish\", \"sample\" : \"DC3ACE49393DE518E87D4F8D3AE8D9DB\", \"target\" : \"Spanish\" }\n",
      "{ \"choices\" : [ \"Estonian\", \"Japanese\", \"Lao\", \"Romanian\" ], \"country\" : \"AU\", \"date\" : \"2013-08-19\", \"guess\" : \"Romanian\", \"sample\" : \"903FC45CBA5245F21DEAACA3966F825B\", \"target\" : \"Romanian\" }\n",
      "Took: 8.246618509292603 ms\n"
     ]
    }
   ],
   "source": [
    "%%rumble\n",
    "declare type local:attempt as {\n",
    "    \"guess\": \"string\",\n",
    "    \"target\": \"string\",\n",
    "    \"country\": \"string\",\n",
    "    \"choices\": [ \"string\" ],\n",
    "    \"sample\": \"hexBinary\",\n",
    "    \"date\": \"date\"\n",
    "};\n",
    "\n",
    "validate type local:attempt* {\n",
    "    json-file(\"confusion-100000.json\", 10)[position() <= 10]\n",
    "}"
   ]
  },
  {
   "cell_type": "code",
   "execution_count": 9,
   "metadata": {},
   "outputs": [
    {
     "name": "stdout",
     "output_type": "stream",
     "text": [
      "8\n",
      "8\n",
      "8\n",
      "8\n",
      "8\n",
      "8\n",
      "8\n",
      "8\n",
      "8\n",
      "8\n",
      "Took: 13.538018703460693 ms\n"
     ]
    }
   ],
   "source": [
    "%%rumble\n",
    "declare type local:attempt as {\n",
    "    \"guess\": \"string\",\n",
    "    \"target\": \"string\",\n",
    "    \"country\": \"string\",\n",
    "    \"choices\": [ \"string\" ],\n",
    "    \"sample\": \"hexBinary\",\n",
    "    \"date\": \"date\"\n",
    "};\n",
    "\n",
    "for $i in validate type local:attempt* {\n",
    "  json-file(\"confusion-100000.json\")[position() <= 10]\n",
    "}\n",
    "let $date := $i.date\n",
    "return month-from-date($date)"
   ]
  },
  {
   "cell_type": "markdown",
   "metadata": {},
   "source": [
    "### 5.3 From JSON to Parquet\n",
    "Now, let's try validate our entire dataset and output it as a Parquet file! We'll need the shell for this, so let's first create a JSONiq file containing our query. Modify and then copy the following query into a new file called `query.jq`.\n",
    "\n",
    "**Hint:** Date types in JSound can have timezones, but Parquet does not support dates with timezones at the moment. We should instead validate dates as strings for this exercise.\n",
    "\n",
    "```json\n",
    "declare type local:attempt as {\n",
    "    // Replace this object with your JSound schema!\n",
    "    // Remember to keep the semi-colon :)\n",
    "};\n",
    "\n",
    "validate type local:attempt* {\n",
    "    json-file(\"confusion-100000.json\", 10)\n",
    "}\n",
    "```"
   ]
  },
  {
   "cell_type": "markdown",
   "metadata": {},
   "source": [
    "Then, we can run the query through the shell, specifying the output format as Parquet:"
   ]
  },
  {
   "cell_type": "code",
   "execution_count": 1,
   "metadata": {},
   "outputs": [
    {
     "name": "stdout",
     "output_type": "stream",
     "text": [
      "[INFO] Validation against local:attempt compatible with data frames.\n",
      "[INFO] Validation against local:attempt compatible with data frames.\n",
      "[INFO] Validation against local:attempt compatible with data frames.\n",
      "[INFO] Writing to format parquet\n"
     ]
    }
   ],
   "source": [
    "!rumbledb run query.jq -o result.out -f parquet -P 1"
   ]
  },
  {
   "cell_type": "markdown",
   "metadata": {},
   "source": [
    "Then let's change the file name to be more representative of its contents:"
   ]
  },
  {
   "cell_type": "code",
   "execution_count": 2,
   "metadata": {},
   "outputs": [],
   "source": [
    "!cp `find result.out/part-00000*` greatlanguagegame.parquet"
   ]
  },
  {
   "cell_type": "markdown",
   "metadata": {},
   "source": [
    "Where, if we compare the sizes of the JSONL and Parquet files..."
   ]
  },
  {
   "cell_type": "code",
   "execution_count": 3,
   "metadata": {},
   "outputs": [
    {
     "name": "stdout",
     "output_type": "stream",
     "text": [
      "total 17M\n",
      "-rw-rw-r-- 1 jovyan jovyan  24K Apr 11 20:39 2022_Exercises_exercise06_Data_Models.ipynb\n",
      "-rw-rw-r-- 1 jovyan jovyan  41K Apr 12 09:05 2022_Exercises_exercise06_Data_Models_Solution.ipynb\n",
      "-rw-rw-r-- 1 jovyan jovyan  16M Apr  7 16:39 confusion-100000.json\n",
      "drwxrwxr-x 3 jovyan jovyan 4.0K Apr  7 16:39 docker\n",
      "-rw-rw-r-- 1 jovyan jovyan  367 Apr  7 16:39 docker-compose.yml\n",
      "-rw-rw-r-- 1 jovyan jovyan  144 Apr 12 07:53 document.jschema\n",
      "-rw-rw-r-- 1 jovyan jovyan   17 Apr 12 07:48 document.json\n",
      "-rw-r--r-- 1 jovyan jovyan 656K Apr 12 09:06 greatlanguagegame.parquet\n",
      "-rw-rw-r-- 1 jovyan jovyan  788 Apr 12 07:17 message.xml\n",
      "-rw-rw-r-- 1 jovyan jovyan  990 Apr 12 07:22 message.xsd\n",
      "-rw-rw-r-- 1 jovyan jovyan  266 Apr 12 07:38 movie.xml\n",
      "-rw-rw-r-- 1 jovyan jovyan  575 Apr 12 07:37 movie.xsd\n",
      "-rw-rw-r-- 1 jovyan jovyan  261 Apr 12 09:02 query.jq\n",
      "drwxrwxr-x 2 jovyan jovyan 4.0K Apr 12 09:06 result.out\n"
     ]
    }
   ],
   "source": [
    "!ls -lh"
   ]
  },
  {
   "cell_type": "markdown",
   "metadata": {},
   "source": [
    "...we can see how much smaller the Parquet file is! Parquet is a column-oriented binary storage format with efficient data compression schemes.\n",
    "\n",
    "Intuitively, reducing the size of a file while maintaining fixed throughput means that we can also scan the file much faster! Keep this in mind next time you need to work with a huge JSON dataset!"
   ]
  },
  {
   "cell_type": "code",
   "execution_count": 6,
   "metadata": {},
   "outputs": [
    {
     "name": "stdout",
     "output_type": "stream",
     "text": [
      "100000\n",
      "Took: 11.231056690216064 ms\n"
     ]
    }
   ],
   "source": [
    "%%rumble\n",
    "count(parquet-file(\"greatlanguagegame.parquet\"))"
   ]
  },
  {
   "cell_type": "markdown",
   "metadata": {},
   "source": [
    "### 5.4 Bigger data for a bigger benefit (optional)\n",
    "\n",
    "The dataset we used was just a subset of the full great language game dataset. When using a larger dataset, we will observe a much more noticeable decrease in time to scan the dataset in Parquet over JSON!\n",
    "\n",
    "We can download this dataset here:"
   ]
  },
  {
   "cell_type": "code",
   "execution_count": null,
   "metadata": {},
   "outputs": [],
   "source": [
    "!wget -O- http://data.greatlanguagegame.com.s3.amazonaws.com/confusion-2014-03-02.tbz2 | tar -jxv"
   ]
  },
  {
   "cell_type": "markdown",
   "metadata": {},
   "source": [
    "Then, let's try repeat several steps from above with the new dataset:"
   ]
  },
  {
   "cell_type": "code",
   "execution_count": null,
   "metadata": {},
   "outputs": [],
   "source": [
    "%%rumble\n",
    "count(json-file(\"confusion-2014-03-02/confusion-2014-03-02.json\"))"
   ]
  },
  {
   "cell_type": "markdown",
   "metadata": {},
   "source": [
    "Including creating a new query file to point to the larger dataset:\n",
    "\n",
    "```json\n",
    "declare type local:my-type as {\n",
    "    // Replace this object with your JSound schema!\n",
    "    // Remember to keep the semi-colon :)\n",
    "};\n",
    "\n",
    "validate type local:my-type* {\n",
    "    json-file(\"confusion-2014-03-02/confusion-2014-03-02.json\", 10)\n",
    "}\n",
    "```\n",
    "\n",
    "which should be named `query-large.jq`."
   ]
  },
  {
   "cell_type": "code",
   "execution_count": null,
   "metadata": {},
   "outputs": [],
   "source": [
    "!rumbledb run query-large.jq -o result-large.out -f parquet -P 1"
   ]
  },
  {
   "cell_type": "code",
   "execution_count": null,
   "metadata": {},
   "outputs": [],
   "source": [
    "!cp `find result-large.out/part-00000*` greatlanguagegame-large.parquet"
   ]
  },
  {
   "cell_type": "code",
   "execution_count": null,
   "metadata": {},
   "outputs": [],
   "source": [
    "%%rumble\n",
    "count(parquet-file(\"greatlanguagegame-large.parquet\"))"
   ]
  }
 ],
 "metadata": {
  "colab": {
   "name": "2021_Exercises_exercise06_Data_Models_Solutions.ipynb",
   "provenance": []
  },
  "kernelspec": {
   "display_name": "Python 3 (ipykernel)",
   "language": "python",
   "name": "python3"
  },
  "language_info": {
   "codemirror_mode": {
    "name": "ipython",
    "version": 3
   },
   "file_extension": ".py",
   "mimetype": "text/x-python",
   "name": "python",
   "nbconvert_exporter": "python",
   "pygments_lexer": "ipython3",
   "version": "3.9.10"
  }
 },
 "nbformat": 4,
 "nbformat_minor": 4
}
