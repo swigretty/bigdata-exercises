{
 "cells": [
  {
   "cell_type": "markdown",
   "metadata": {
    "id": "Zo6cemRekqqm"
   },
   "source": [
    "# Big Data for Engineers – Exercises \n",
    "\n",
    "# Spring 2022 -  Week 11 - Rumble\n",
    "\n"
   ]
  },
  {
   "cell_type": "markdown",
   "metadata": {
    "id": "FgAZKWlwkvrk"
   },
   "source": [
    "# 1. Install Rumble"
   ]
  },
  {
   "cell_type": "markdown",
   "metadata": {
    "id": "qE1xkwu8k_IA"
   },
   "source": [
    "### Option 1: Docker\n",
    "The first option is to run RumbleDB in a docker container with everything installed, open docker on your computer and run the following command on your command line. Note that where you run the command does not matter as it fetches a remote docker image:\n",
    "```\n",
    "docker run -i rumbledb/rumble --shell yes\n",
    "```\n",
    "\n",
    "This will open a shell where you can play around with rumble.\n",
    "\n",
    "Make sure to periodically run ```docker pull rumbledb/rumble``` to fetch newer versions.\n",
    "\n",
    "\n",
    "### Option 2: Locally\n",
    "To install the latest version of RumbleDB locally, you can follow the steps given on the official rumbledb website: \n",
    "https://rumble.readthedocs.io/en/latest/Getting%20started/\n",
    "\n",
    "Please follow very carefully the instructions, in particular, first install Spark and check that `spark-submit --version` works before proceeding with RumbleDB. Also mind the Java version as it is guaranteed that it will not work with Java 17.\n",
    "\n",
    "We strongly recommend using Spark 3.1, the corresponding jar is available here: https://github.com/RumbleDB/rumble/releases/download/v1.18.0/rumbledb-1.18.0-for-spark-3.1.jar. You can download the jar and put it into the exercise session repository.\n",
    "\n",
    "Now that you have everything needed, you can test your installation by runnning the following command\n",
    "```\n",
    "spark-submit rumbledb-1.18.0-for-spark-3.1.jar --shell yes\n",
    "```\n",
    "\n",
    "This gives access to the RumbleDB shell where you can try commands. Note that to run each command, you should press 'Enter' three times, and you can quit with 'exit'. \n",
    "\n",
    "\n"
   ]
  },
  {
   "cell_type": "markdown",
   "metadata": {},
   "source": [
    "Feel free to try the many functions available, here is a link with the exhaustive list: https://rumble.readthedocs.io/en/latest/Function%20library/."
   ]
  },
  {
   "cell_type": "markdown",
   "metadata": {
    "id": "UTrxum891_XB"
   },
   "source": [
    "# 2. Setup Rumble in Jupyter Notebook\n",
    "\n"
   ]
  },
  {
   "cell_type": "markdown",
   "metadata": {
    "id": "UfXWkkngcbnH"
   },
   "source": [
    "### Install Jupyter Notebook\n",
    "\n"
   ]
  },
  {
   "cell_type": "markdown",
   "metadata": {
    "id": "imeJuXbn20R5"
   },
   "source": [
    "In order to execute the queries in this notebook, you need to [install](https://jupyter.org/install) jupyter notebook on your **own machine**, and then download this notebook and [run](https://jupyter.readthedocs.io/en/latest/running.html#running) it locally rather than rely on the colab."
   ]
  },
  {
   "cell_type": "markdown",
   "metadata": {
    "id": "cTFVusbo1uT_"
   },
   "source": [
    "To get started, you first need to execute the cell below to activate the Rumble magic (you do not need to understand what it does, this is just initialization Python code)."
   ]
  },
  {
   "cell_type": "code",
   "execution_count": 1,
   "metadata": {
    "id": "E8wSdtz81-dt"
   },
   "outputs": [],
   "source": [
    "import requests\n",
    "import json\n",
    "import time\n",
    "from IPython.core.magic import register_line_cell_magic\n",
    "\n",
    "@register_line_cell_magic\n",
    "def rumble(line, cell=None):\n",
    "    if cell is None:\n",
    "        data = line\n",
    "    else:\n",
    "        data = cell\n",
    "\n",
    "    start = time.time()                                                         \n",
    "    response = json.loads(requests.post(server, data=data).text)                   \n",
    "    end = time.time()                                                              \n",
    "    print(\"Took: %s s\" % (end - start))\n",
    "\n",
    "    if 'warning' in response:\n",
    "        print(json.dumps(response['warning']))\n",
    "    if 'values' in response:\n",
    "        for e in response['values']:\n",
    "            print(json.dumps(e))\n",
    "    elif 'error-message' in response:\n",
    "        return response['error-message']\n",
    "    else:\n",
    "        return response"
   ]
  },
  {
   "cell_type": "markdown",
   "metadata": {
    "id": "TEJ2EaoE2YOQ"
   },
   "source": [
    "From now we want to run the code on the notebook instead of the shell, hence you can close the shell (Ctrl+C or type 'exit') and execute your own Rumble server by running:\n",
    "\n",
    "If you did the local installation\n",
    "```\n",
    "spark-submit rumbledb-1.18.0-for-spark-3.1.jar --server yes --port 8001\n",
    "```\n",
    "\n",
    "If you did the docker installation\n",
    "```\n",
    "docker run -p 8001:8001 --rm -it --mount type=bind,source=replace-with-path-to-exercise11-folder,target=/home  rumbledb/rumble --server yes --port 8001 --host 0.0.0.0 \n",
    "```\n",
    "\n",
    "The mount allows RumbleDB to directly read the files from your local disk. If you use Docker, make sure to update the path to `\"/home/confusion-2014-03-02/confusion-2014-03-02.json\"` in `json-file` calls.\n",
    "\n",
    "Running the command tells you on which port your server is running  on line\n",
    "**`[INFO] Starting Rumble in server mode on port ...`** "
   ]
  },
  {
   "cell_type": "code",
   "execution_count": null,
   "metadata": {},
   "outputs": [],
   "source": [
    "sudo docker run -p 8001:8001 --rm -it --mount type=bind,source=~/repositories/bigdata-exercises/Big_Data_For_Engineers/exercise11,target=/home  rumbledb/rumble --server yes --port 8001 --host 0.0.0.0 \n",
    "/home/confusion-100000.json"
   ]
  },
  {
   "cell_type": "code",
   "execution_count": 2,
   "metadata": {
    "id": "zmRmKvWZ2ZH7"
   },
   "outputs": [],
   "source": [
    "server = 'http://localhost:8001/jsoniq'"
   ]
  },
  {
   "cell_type": "markdown",
   "metadata": {
    "id": "C6lJq6kJ2HoB"
   },
   "source": [
    "Now we are all set! You can now start reading and executing the JSONiq queries in this notebook as you go, and you can even edit them!"
   ]
  },
  {
   "cell_type": "markdown",
   "metadata": {
    "id": "F892l0gs5bmV"
   },
   "source": [
    "# 3. Rumble Sandbox"
   ]
  },
  {
   "cell_type": "markdown",
   "metadata": {
    "id": "5_NuBtRy4gIp"
   },
   "source": [
    "## JSON\n",
    "\n",
    "As explained on the [official JSON Web site](http://www.json.org/), JSON is a lightweight data-interchange format designed for humans as well as for computers. It supports as values:\n",
    "- objects (string-to-value maps)\n",
    "- arrays (ordered sequences of values)\n",
    "- strings\n",
    "- numbers\n",
    "- booleans (true, false)\n",
    "- null\n",
    "\n",
    "JSONiq provides declarative querying and updating capabilities on JSON data.\n",
    "\n",
    "## Elevator Pitch\n",
    "\n",
    "JSONiq is based on XQuery, which is a W3C standard (like XML and HTML). XQuery is a very powerful declarative language that originally manipulates XML data, but it turns out that it is also a very good fit for manipulating JSON natively.\n",
    "JSONiq, since it extends XQuery, is a very powerful general-purpose declarative programming language. Our experience is that, for the same task, you will probably write about 80% less code compared to imperative languages like JavaScript, Python or Ruby. Additionally, you get the benefits of strong type checking without actually having to write type declarations.\n",
    "Here is an appetizer before we start the tutorial from scratch.\n"
   ]
  },
  {
   "cell_type": "code",
   "execution_count": 3,
   "metadata": {
    "colab": {
     "base_uri": "https://localhost:8080/"
    },
    "id": "mx4djkAV3zom",
    "outputId": "3a2cad17-fb4c-4f8a-c9e1-3eedfb15c2ed"
   },
   "outputs": [
    {
     "name": "stdout",
     "output_type": "stream",
     "text": [
      "Took: 0.6433248519897461 s\n",
      "[{\"nb\": 1, \"state\": \"MA\", \"sold\": \"broiler\"}, {\"nb\": 1, \"state\": \"MA\", \"sold\": \"socks\"}, {\"nb\": 2, \"state\": \"MA\", \"sold\": \"toaster\"}, {\"nb\": 2, \"state\": \"MA\", \"sold\": \"toaster\"}, {\"nb\": 2, \"state\": \"MA\", \"sold\": \"socks\"}, {\"nb\": 3, \"state\": \"CA\", \"sold\": \"toaster\"}, {\"nb\": 3, \"state\": \"CA\", \"sold\": \"blender\"}, {\"nb\": 3, \"state\": \"CA\", \"sold\": \"blender\"}, {\"nb\": 3, \"state\": \"CA\", \"sold\": \"shirt\"}]\n"
     ]
    }
   ],
   "source": [
    "%%rumble\n",
    "\n",
    "let $stores :=\n",
    "[\n",
    "  { \"store number\" : 1, \"state\" : \"MA\" },\n",
    "  { \"store number\" : 2, \"state\" : \"MA\" },\n",
    "  { \"store number\" : 3, \"state\" : \"CA\" },\n",
    "  { \"store number\" : 4, \"state\" : \"CA\" }\n",
    "]\n",
    "let $sales := [\n",
    "   { \"product\" : \"broiler\", \"store number\" : 1, \"quantity\" : 20  },\n",
    "   { \"product\" : \"toaster\", \"store number\" : 2, \"quantity\" : 100 },\n",
    "   { \"product\" : \"toaster\", \"store number\" : 2, \"quantity\" : 50 },\n",
    "   { \"product\" : \"toaster\", \"store number\" : 3, \"quantity\" : 50 },\n",
    "   { \"product\" : \"blender\", \"store number\" : 3, \"quantity\" : 100 },\n",
    "   { \"product\" : \"blender\", \"store number\" : 3, \"quantity\" : 150 },\n",
    "   { \"product\" : \"socks\", \"store number\" : 1, \"quantity\" : 500 },\n",
    "   { \"product\" : \"socks\", \"store number\" : 2, \"quantity\" : 10 },\n",
    "   { \"product\" : \"shirt\", \"store number\" : 3, \"quantity\" : 10 }\n",
    "]\n",
    "let $join :=\n",
    "  for $store in $stores[], $sale in $sales[]\n",
    "  where $store.\"store number\" = $sale.\"store number\"\n",
    "  return {\n",
    "    \"nb\" : $store.\"store number\",\n",
    "    \"state\" : $store.state,\n",
    "    \"sold\" : $sale.product\n",
    "  }\n",
    "return [$join]"
   ]
  },
  {
   "cell_type": "markdown",
   "metadata": {
    "id": "_L-2AVNj4xu9"
   },
   "source": [
    "## And here you go\n",
    "\n",
    "### Actually, you already knew some JSONiq\n",
    "\n",
    "The first thing you need to know is that a well-formed JSON document is a JSONiq expression as well.\n",
    "This means that you can copy-and-paste any JSON document into a query. The following are JSONiq queries that are \"idempotent\" (they just output themselves):"
   ]
  },
  {
   "cell_type": "code",
   "execution_count": 4,
   "metadata": {
    "colab": {
     "base_uri": "https://localhost:8080/"
    },
    "id": "CHCFKAio30Ri",
    "outputId": "fb0cea84-4649-43a9-8354-434115363038"
   },
   "outputs": [
    {
     "name": "stdout",
     "output_type": "stream",
     "text": [
      "Took: 0.05071234703063965 s\n",
      "{\"pi\": 3.14, \"sq2\": 1.4}\n"
     ]
    }
   ],
   "source": [
    "%%rumble\n",
    "{ \"pi\" : 3.14, \"sq2\" : 1.4 }"
   ]
  },
  {
   "cell_type": "code",
   "execution_count": 5,
   "metadata": {
    "colab": {
     "base_uri": "https://localhost:8080/"
    },
    "id": "_JmeeMZl45Ns",
    "outputId": "d191845d-3a72-4312-ffc5-d1349efdcdd1"
   },
   "outputs": [
    {
     "name": "stdout",
     "output_type": "stream",
     "text": [
      "Took: 0.054726600646972656 s\n",
      "[2, 3, 5, 7, 11, 13]\n"
     ]
    }
   ],
   "source": [
    "%%rumble\n",
    "[ 2, 3, 5, 7, 11, 13 ]"
   ]
  },
  {
   "cell_type": "code",
   "execution_count": 6,
   "metadata": {
    "colab": {
     "base_uri": "https://localhost:8080/"
    },
    "id": "HkvoBs9M46NF",
    "outputId": "516b8c65-c0d2-4119-ed0d-c0c45f861391"
   },
   "outputs": [
    {
     "name": "stdout",
     "output_type": "stream",
     "text": [
      "Took: 0.03936886787414551 s\n",
      "{\"operations\": [{\"binary\": [\"and\", \"or\"]}, {\"unary\": [\"not\"]}], \"bits\": [0, 1]}\n"
     ]
    }
   ],
   "source": [
    "%%rumble\n",
    "{\n",
    "      \"operations\" : [\n",
    "        { \"binary\" : [ \"and\", \"or\"] },\n",
    "        { \"unary\" : [\"not\"] }\n",
    "      ],\n",
    "      \"bits\" : [\n",
    "        0, 1\n",
    "      ]\n",
    "    }"
   ]
  },
  {
   "cell_type": "code",
   "execution_count": 7,
   "metadata": {
    "colab": {
     "base_uri": "https://localhost:8080/"
    },
    "id": "AHtMILv349g5",
    "outputId": "d1a7f9da-573d-4838-b130-b4d3fc88d9d1"
   },
   "outputs": [
    {
     "name": "stdout",
     "output_type": "stream",
     "text": [
      "Took: 0.04536318778991699 s\n",
      "[{\"Question\": \"Ultimate\"}, [\"Life\", \"the universe\", \"and everything\"]]\n"
     ]
    }
   ],
   "source": [
    "%%rumble\n",
    "[ { \"Question\" : \"Ultimate\" }, [\"Life\", \"the universe\", \"and everything\"] ]"
   ]
  },
  {
   "cell_type": "markdown",
   "metadata": {
    "id": "TsX2S4IG5CZ-"
   },
   "source": [
    "\n",
    "This works with objects, arrays (even nested), strings, numbers, booleans, null.\n",
    "\n",
    "It also works the other way round: if your query outputs an object or an array, you can use it as a JSON document. JSONiq is a declarative language. This means that you only need to say what you want - the compiler will take care of the how.\n",
    "\n",
    "In the above queries, you are basically saying: I want to output this JSON content, and here it is."
   ]
  },
  {
   "cell_type": "markdown",
   "metadata": {
    "id": "YyaQW8HIhrKW"
   },
   "source": [
    "## JSONiq basics\n",
    "\n",
    "### The real JSONiq Hello, World!\n",
    "\n",
    "Wondering what a hello world program looks like in JSONiq? Here it is:"
   ]
  },
  {
   "cell_type": "code",
   "execution_count": 8,
   "metadata": {
    "colab": {
     "base_uri": "https://localhost:8080/"
    },
    "id": "m2-VyECPhrKW",
    "outputId": "8240399c-f4e2-4093-9bab-730483682202"
   },
   "outputs": [
    {
     "name": "stdout",
     "output_type": "stream",
     "text": [
      "Took: 0.038410186767578125 s\n",
      "\"Hello, World!\"\n"
     ]
    }
   ],
   "source": [
    "%%rumble\n",
    "\"Hello, World!\""
   ]
  },
  {
   "cell_type": "markdown",
   "metadata": {
    "id": "Uy48JTprhrKW"
   },
   "source": [
    "Not surprisingly, it outputs the string \"Hello, World!\".\n",
    "\n",
    "### Numbers and arithmetic operations\n",
    "\n",
    "Okay, so, now, you might be thinking: \"What is the use of this language if it just outputs what I put in?\" Of course, JSONiq can more than that. And still in a declarative way. Here is how it works with numbers:"
   ]
  },
  {
   "cell_type": "code",
   "execution_count": 9,
   "metadata": {
    "colab": {
     "base_uri": "https://localhost:8080/"
    },
    "id": "3wBwni49hrKW",
    "outputId": "701bc69a-df71-4d98-ad24-58846f19d1e7"
   },
   "outputs": [
    {
     "name": "stdout",
     "output_type": "stream",
     "text": [
      "Took: 0.03821754455566406 s\n",
      "4\n"
     ]
    }
   ],
   "source": [
    "%%rumble\n",
    "2 + 2"
   ]
  },
  {
   "cell_type": "code",
   "execution_count": 10,
   "metadata": {
    "colab": {
     "base_uri": "https://localhost:8080/"
    },
    "id": "CWOO__4khrKW",
    "outputId": "eb96f30a-13aa-4bd7-aad6-aa26bef5d563"
   },
   "outputs": [
    {
     "name": "stdout",
     "output_type": "stream",
     "text": [
      "Took: 0.0730443000793457 s\n",
      "42\n"
     ]
    }
   ],
   "source": [
    "%%rumble\n",
    " (38 + 2) div 2 + 11 * 2\n"
   ]
  },
  {
   "cell_type": "markdown",
   "metadata": {
    "id": "5FZceBJWhrKW"
   },
   "source": [
    "(mind the division operator which is the \"div\" keyword. The slash operator has different semantics).\n",
    "\n",
    "Like JSON, JSONiq works with decimals and doubles:"
   ]
  },
  {
   "cell_type": "code",
   "execution_count": null,
   "metadata": {
    "colab": {
     "base_uri": "https://localhost:8080/"
    },
    "id": "KlAPfbwbhrKW",
    "outputId": "1fc65cbe-66a4-4e18-9753-23b8c064c98e"
   },
   "outputs": [],
   "source": [
    "%%rumble\n",
    " 6.022e23 * 42"
   ]
  },
  {
   "cell_type": "markdown",
   "metadata": {
    "id": "MmFfvP9lhrKW"
   },
   "source": [
    "### Logical operations\n",
    "\n",
    "JSONiq supports boolean operations."
   ]
  },
  {
   "cell_type": "code",
   "execution_count": null,
   "metadata": {
    "colab": {
     "base_uri": "https://localhost:8080/"
    },
    "id": "yClsI5LehrKW",
    "outputId": "a0c08cb6-460b-42a7-bbea-d1f607c9e851"
   },
   "outputs": [],
   "source": [
    "%%rumble\n",
    "true and false"
   ]
  },
  {
   "cell_type": "code",
   "execution_count": null,
   "metadata": {
    "colab": {
     "base_uri": "https://localhost:8080/"
    },
    "id": "KVQgXpgzhrKW",
    "outputId": "2e86627f-fa71-4558-c8d8-e35dfa21a310"
   },
   "outputs": [],
   "source": [
    "%%rumble\n",
    "(true or false) and (false or true)"
   ]
  },
  {
   "cell_type": "markdown",
   "metadata": {
    "id": "VDIvgk5khrKW"
   },
   "source": [
    "The unary not is also available:"
   ]
  },
  {
   "cell_type": "code",
   "execution_count": null,
   "metadata": {
    "cell_status": {
     "execute_time": {
      "duration": 243.537109375,
      "end_time": 1557235032261.665
     }
    },
    "colab": {
     "base_uri": "https://localhost:8080/"
    },
    "id": "djGZSV0MhrKW",
    "outputId": "a3ce0220-eacc-4ef5-fc6e-14c68ba15081"
   },
   "outputs": [],
   "source": [
    "%%rumble\n",
    "not true"
   ]
  },
  {
   "cell_type": "markdown",
   "metadata": {
    "id": "eELMD0pqhrKW"
   },
   "source": [
    "### Strings\n",
    "\n",
    "JSONiq is capable of manipulating strings as well, using functions:\n"
   ]
  },
  {
   "cell_type": "code",
   "execution_count": null,
   "metadata": {
    "cell_status": {
     "execute_time": {
      "duration": 21398.401123046875,
      "end_time": 1557212587338.105
     }
    },
    "colab": {
     "base_uri": "https://localhost:8080/"
    },
    "id": "6YwugMo5hrKW",
    "outputId": "0a9324ee-459a-40bf-f124-7bbf1c672f66"
   },
   "outputs": [],
   "source": [
    "%%rumble\n",
    "concat(\"Hello \", \"Captain \", \"Kirk\")"
   ]
  },
  {
   "cell_type": "code",
   "execution_count": null,
   "metadata": {
    "cell_status": {
     "execute_time": {
      "duration": 752.509033203125,
      "end_time": 1557234001018.501
     }
    },
    "colab": {
     "base_uri": "https://localhost:8080/"
    },
    "id": "lGrKFlHVhrKW",
    "outputId": "d87b2eb5-cacb-4dc4-bc0f-8248f8a0d590"
   },
   "outputs": [],
   "source": [
    "%%rumble\n",
    "substring(\"Mister Spock\", 8, 5)"
   ]
  },
  {
   "cell_type": "markdown",
   "metadata": {
    "id": "ZBusMnoShrKW"
   },
   "source": [
    "JSONiq comes up with a rich string function library out of the box, inherited from its base language. These functions are listed [here](https://www.w3.org/TR/xpath-functions-30/) (actually, you will find many more for numbers, dates, etc).\n"
   ]
  },
  {
   "cell_type": "markdown",
   "metadata": {
    "cell_status": {
     "execute_time": {
      "duration": 17337.39599609375,
      "end_time": 1557230774662.657
     }
    },
    "id": "FIA6t1cbhrKW"
   },
   "source": [
    "\n",
    "### Sequences\n",
    "\n",
    "Until now, we have only been working with single values (an object, an array, a number, a string, a boolean). JSONiq supports sequences of values. You can build a sequence using commas:\n"
   ]
  },
  {
   "cell_type": "code",
   "execution_count": null,
   "metadata": {
    "colab": {
     "base_uri": "https://localhost:8080/"
    },
    "id": "30E1G-s5hrKW",
    "outputId": "6dfb54e8-6dcd-4e2e-f96d-1af10b3c2e70"
   },
   "outputs": [],
   "source": [
    "%%rumble\n",
    " (1, 2, 3, 4, 5, 6, 7, 8, 9, 10)"
   ]
  },
  {
   "cell_type": "code",
   "execution_count": null,
   "metadata": {
    "cell_status": {
     "execute_time": {
      "duration": 222241.63500976562,
      "end_time": 1557387411306.792
     }
    },
    "colab": {
     "base_uri": "https://localhost:8080/"
    },
    "id": "FzbtJmhKhrKW",
    "outputId": "4aed1541-ca55-44d1-d82a-b4018abf842f"
   },
   "outputs": [],
   "source": [
    "%%rumble\n",
    "1, true, 4.2e1, \"Life\""
   ]
  },
  {
   "cell_type": "markdown",
   "metadata": {
    "id": "X_rMosG5hrKW"
   },
   "source": [
    "The \"to\" operator is very convenient, too:"
   ]
  },
  {
   "cell_type": "code",
   "execution_count": null,
   "metadata": {
    "cell_status": {
     "execute_time": {
      "duration": 39579.559814453125,
      "end_time": 1557387951481.842
     }
    },
    "colab": {
     "base_uri": "https://localhost:8080/"
    },
    "id": "IoBx9SdShrKW",
    "outputId": "2bc9365b-9eec-4d2e-ef87-028b462858ee"
   },
   "outputs": [],
   "source": [
    "%%rumble\n",
    " (1 to 100)"
   ]
  },
  {
   "cell_type": "markdown",
   "metadata": {
    "id": "v0cwsmaMhrKW"
   },
   "source": [
    "Some functions even work on sequences:"
   ]
  },
  {
   "cell_type": "code",
   "execution_count": null,
   "metadata": {
    "cell_status": {
     "execute_time": {
      "duration": 27601.31787109375,
      "end_time": 1557171455208.987
     }
    },
    "colab": {
     "base_uri": "https://localhost:8080/"
    },
    "id": "GRY2tHEQhrKX",
    "outputId": "5f311e43-149a-475f-ab75-d0ab1bda141e"
   },
   "outputs": [],
   "source": [
    "%%rumble\n",
    "sum(1 to 100)"
   ]
  },
  {
   "cell_type": "code",
   "execution_count": null,
   "metadata": {
    "cell_status": {
     "execute_time": {
      "duration": 55527.44091796875,
      "end_time": 1557229508578.007
     }
    },
    "colab": {
     "base_uri": "https://localhost:8080/"
    },
    "id": "khUaAhjjhrKX",
    "outputId": "e11a688a-0289-4258-dff7-f7bf6581af0e"
   },
   "outputs": [],
   "source": [
    "%%rumble\n",
    "string-join((\"These\", \"are\", \"some\", \"words\"), \"-\")"
   ]
  },
  {
   "cell_type": "code",
   "execution_count": null,
   "metadata": {
    "cell_status": {
     "execute_time": {
      "duration": 13343.739013671875,
      "end_time": 1557224627704.526
     }
    },
    "colab": {
     "base_uri": "https://localhost:8080/"
    },
    "id": "93Jz2DaFhrKX",
    "outputId": "12524661-04f4-4024-9a39-ee46952e55ea"
   },
   "outputs": [],
   "source": [
    "%%rumble\n",
    "count(10 to 20)"
   ]
  },
  {
   "cell_type": "code",
   "execution_count": null,
   "metadata": {
    "cell_status": {
     "execute_time": {
      "duration": 19340.81201171875,
      "end_time": 1557220260002.04
     }
    },
    "colab": {
     "base_uri": "https://localhost:8080/"
    },
    "id": "3FDtCtVChrKX",
    "outputId": "00a87695-4616-4754-f039-957e9d6abed2"
   },
   "outputs": [],
   "source": [
    "%%rumble\n",
    "avg(1 to 100)"
   ]
  },
  {
   "cell_type": "markdown",
   "metadata": {
    "id": "hG7zwtfWhrKX"
   },
   "source": [
    "Unlike arrays, sequences are flat. The sequence (3) is identical to the integer 3, and (1, (2, 3)) is identical to (1, 2, 3)."
   ]
  },
  {
   "cell_type": "markdown",
   "metadata": {
    "cell_status": {
     "execute_time": {
      "duration": 433204.9020996094,
      "end_time": 1557221766692.589
     }
    },
    "id": "t1Y_5iuBhrKX",
    "scrolled": false
   },
   "source": [
    "## A bit more in depth\n",
    "\n",
    "### Variables\n",
    "\n",
    "You can bind a sequence of values to a (dollar-prefixed) variable, like so:"
   ]
  },
  {
   "cell_type": "code",
   "execution_count": null,
   "metadata": {
    "colab": {
     "base_uri": "https://localhost:8080/"
    },
    "id": "IQZBFJlMhrKX",
    "outputId": "48e0fae3-e6dc-470f-9994-ebd1935413d5"
   },
   "outputs": [],
   "source": [
    "%%rumble\n",
    "let $x := \"Bearing 3 1 4 Mark 5. \"\n",
    "return concat($x, \"Engage!\")"
   ]
  },
  {
   "cell_type": "code",
   "execution_count": null,
   "metadata": {
    "colab": {
     "base_uri": "https://localhost:8080/"
    },
    "id": "-Zh0x645hrKX",
    "outputId": "4c28f554-c9ca-4340-c349-05a10b1b85c8"
   },
   "outputs": [],
   "source": [
    "%%rumble\n",
    "let $x := (\"Kirk\", \"Picard\", \"Sisko\")\n",
    "return string-join($x, \" and \")"
   ]
  },
  {
   "cell_type": "markdown",
   "metadata": {
    "id": "8zkA2HFAhrKX"
   },
   "source": [
    "You can bind as many variables as you want:"
   ]
  },
  {
   "cell_type": "code",
   "execution_count": null,
   "metadata": {
    "colab": {
     "base_uri": "https://localhost:8080/"
    },
    "id": "RQifv3ezhrKX",
    "outputId": "5fba50d8-5bf1-43ac-ce33-eab339ddbf01"
   },
   "outputs": [],
   "source": [
    "%%rumble\n",
    "let $x := 1\n",
    "let $y := $x * 2\n",
    "let $z := $y + $x\n",
    "return ($x, $y, $z)"
   ]
  },
  {
   "cell_type": "markdown",
   "metadata": {
    "id": "OLuNB3rbhrKX"
   },
   "source": [
    "and even reuse the same name to hide formerly declared variables:"
   ]
  },
  {
   "cell_type": "code",
   "execution_count": null,
   "metadata": {
    "colab": {
     "base_uri": "https://localhost:8080/"
    },
    "id": "itMBTXAGhrKX",
    "outputId": "a25d9255-5b1a-4b2c-d687-c63ab6fc9375"
   },
   "outputs": [],
   "source": [
    "%%rumble\n",
    "let $x := 1\n",
    "let $x := $x + 2\n",
    "let $x := $x + 3\n",
    "return $x"
   ]
  },
  {
   "cell_type": "markdown",
   "metadata": {
    "id": "U13Yla0ghrKX"
   },
   "source": [
    "### Iteration\n",
    "\n",
    "In a way very similar to let, you can iterate over a sequence of values with the \"for\" keyword. Instead of binding the entire sequence of the variable, it will bind each value of the sequence in turn to this variable."
   ]
  },
  {
   "cell_type": "code",
   "execution_count": null,
   "metadata": {
    "colab": {
     "base_uri": "https://localhost:8080/"
    },
    "id": "6p-sWqTbhrKX",
    "outputId": "f25f6777-06a9-4f92-d36d-259828410813"
   },
   "outputs": [],
   "source": [
    "%%rumble\n",
    "for $i in 1 to 10\n",
    "return $i * 2"
   ]
  },
  {
   "cell_type": "markdown",
   "metadata": {
    "id": "NlEgcpIGhrKX"
   },
   "source": [
    "More interestingly, you can combine fors and lets like so:"
   ]
  },
  {
   "cell_type": "code",
   "execution_count": null,
   "metadata": {
    "colab": {
     "base_uri": "https://localhost:8080/"
    },
    "id": "Ml_bcBOQhrKX",
    "outputId": "6f5cdb95-da52-4c21-d533-061471947ddd"
   },
   "outputs": [],
   "source": [
    "%%rumble\n",
    "let $sequence := 1 to 10\n",
    "for $value in $sequence\n",
    "let $square := $value * 2\n",
    "return $square"
   ]
  },
  {
   "cell_type": "markdown",
   "metadata": {
    "id": "wP-22ufxhrKX"
   },
   "source": [
    "and even filter out some values:"
   ]
  },
  {
   "cell_type": "code",
   "execution_count": null,
   "metadata": {
    "colab": {
     "base_uri": "https://localhost:8080/"
    },
    "id": "ERlSrAa7hrKX",
    "outputId": "de0fa418-52ac-4e66-d14d-06d2dc1fc764"
   },
   "outputs": [],
   "source": [
    "%%rumble\n",
    "let $sequence := 1 to 10\n",
    "for $value in $sequence\n",
    "let $square := $value * 2\n",
    "where $square < 10\n",
    "return $square"
   ]
  },
  {
   "cell_type": "markdown",
   "metadata": {
    "id": "SmCGI8DkhrKX"
   },
   "source": [
    "Note that you can only iterate over sequences, not arrays. To iterate over an array, you can obtain the sequence of its values with the [] operator, like so:\n"
   ]
  },
  {
   "cell_type": "code",
   "execution_count": null,
   "metadata": {
    "colab": {
     "base_uri": "https://localhost:8080/"
    },
    "id": "ntMrbesIhrKX",
    "outputId": "43de2799-bea4-4fc0-d12a-a1307142f327"
   },
   "outputs": [],
   "source": [
    "%%rumble\n",
    "[1, 2, 3][]"
   ]
  },
  {
   "cell_type": "markdown",
   "metadata": {
    "id": "kEJLBHoghrKX"
   },
   "source": [
    "### Conditions\n",
    "\n",
    "You can make the output depend on a condition with an if-then-else construct:"
   ]
  },
  {
   "cell_type": "code",
   "execution_count": null,
   "metadata": {
    "colab": {
     "base_uri": "https://localhost:8080/"
    },
    "id": "gwq7TT5bhrKX",
    "outputId": "5f7f6c0e-f8c5-4c5e-8318-364c8a5d99c6"
   },
   "outputs": [],
   "source": [
    "%%rumble\n",
    "for $x in 1 to 10\n",
    "return if ($x < 5) then $x\n",
    "                   else -$x"
   ]
  },
  {
   "cell_type": "markdown",
   "metadata": {
    "id": "gItSAnHAhrKX"
   },
   "source": [
    "Note that the else clause is required - however, it can be the empty sequence () which is often when you need if only the then clause is relevant to you."
   ]
  },
  {
   "cell_type": "markdown",
   "metadata": {
    "id": "bkJkimFphrKX"
   },
   "source": [
    "### Composability of Expressions\n",
    "\n",
    "Now that you know of a couple of elementary JSONiq expressions, you can combine them in more elaborate expressions. For example, you can put any sequence of values in an array:"
   ]
  },
  {
   "cell_type": "code",
   "execution_count": null,
   "metadata": {
    "colab": {
     "base_uri": "https://localhost:8080/"
    },
    "id": "-j-CBM7OhrKX",
    "outputId": "fea11cf0-d137-43f9-ccac-ccf9b6f85591"
   },
   "outputs": [],
   "source": [
    "%%rumble\n",
    "[ 1 to 10 ]"
   ]
  },
  {
   "cell_type": "markdown",
   "metadata": {
    "id": "bItRSk5mhrKY"
   },
   "source": [
    "Or you can dynamically compute the value of object pairs (or their key):"
   ]
  },
  {
   "cell_type": "code",
   "execution_count": null,
   "metadata": {
    "colab": {
     "base_uri": "https://localhost:8080/"
    },
    "id": "dh4HMny2hrKY",
    "outputId": "0c49c543-727a-4bea-bf68-efda10523f2c"
   },
   "outputs": [],
   "source": [
    "%%rumble\n",
    "{\n",
    "      \"Greeting\" : (let $d := \"Mister Spock\"\n",
    "                    return concat(\"Hello, \", $d)),\n",
    "      \"Farewell\" : string-join((\"Live\", \"long\", \"and\", \"prosper\"),\n",
    "                               \" \")\n",
    "}"
   ]
  },
  {
   "cell_type": "markdown",
   "metadata": {
    "id": "TWReZYhohrKY"
   },
   "source": [
    "You can dynamically generate object singletons (with a single pair):\n"
   ]
  },
  {
   "cell_type": "code",
   "execution_count": null,
   "metadata": {
    "colab": {
     "base_uri": "https://localhost:8080/"
    },
    "id": "QHDNi1QjhrKY",
    "outputId": "610be9b1-602c-4f2e-f7c3-9e2fb3661656"
   },
   "outputs": [],
   "source": [
    "%%rumble\n",
    "{ concat(\"Integer \", 2) : 2 * 2 }"
   ]
  },
  {
   "cell_type": "markdown",
   "metadata": {
    "id": "sPptIS_4hrKY"
   },
   "source": [
    "and then merge lots of them into a new object with the {| |} notation:"
   ]
  },
  {
   "cell_type": "code",
   "execution_count": null,
   "metadata": {
    "colab": {
     "base_uri": "https://localhost:8080/"
    },
    "id": "KEw2x-1jhrKY",
    "outputId": "a904a920-a640-4ca8-9210-b6ed363de203"
   },
   "outputs": [],
   "source": [
    "%%rumble\n",
    "{|\n",
    "    for $i in 1 to 10\n",
    "    return { concat(\"Square of \", $i) : $i * $i }\n",
    "|}"
   ]
  },
  {
   "cell_type": "code",
   "execution_count": null,
   "metadata": {
    "id": "gq8CgKbc6k6G"
   },
   "outputs": [],
   "source": []
  },
  {
   "cell_type": "markdown",
   "metadata": {
    "id": "Zj9AgqsBhrKY"
   },
   "source": [
    "## JSON Navigation\n",
    "\n",
    "Up to now, you have learnt how to compose expressions so as to do some computations and to build objects and arrays. It also works the other way round: if you have some JSON data, you can access it and navigate.\n",
    "All you need to know is: JSONiq views\n",
    "an array as an ordered list of values,\n",
    "an object as a set of name/value pairs\n"
   ]
  },
  {
   "cell_type": "markdown",
   "metadata": {
    "id": "4NMMWdnShrKY"
   },
   "source": [
    "### Objects\n",
    "\n",
    "You can use the dot operator to retrieve the value associated with a key. Quotes are optional, except if the key has special characters such as spaces. It will return the value associated thereto:"
   ]
  },
  {
   "cell_type": "code",
   "execution_count": 33,
   "metadata": {
    "colab": {
     "base_uri": "https://localhost:8080/"
    },
    "id": "VFfwP0nfhrKY",
    "outputId": "a9ce97bf-b2a8-48dc-9a95-ead2621e6e65"
   },
   "outputs": [
    {
     "name": "stdout",
     "output_type": "stream",
     "text": [
      "Took: 0.027853965759277344 s\n",
      "\"Sarah\"\n"
     ]
    }
   ],
   "source": [
    "%%rumble\n",
    "let $person := {\n",
    "    \"first name\" : \"Sarah\",\n",
    "    \"age\" : 13,\n",
    "    \"gender\" : \"female\",\n",
    "    \"friends\" : [ \"Jim\", \"Mary\", \"Jennifer\"]\n",
    "}\n",
    "return $person.\"first name\""
   ]
  },
  {
   "cell_type": "markdown",
   "metadata": {
    "id": "PkxiFID7hrKY"
   },
   "source": [
    "You can also ask for all keys in an object:"
   ]
  },
  {
   "cell_type": "code",
   "execution_count": null,
   "metadata": {
    "colab": {
     "base_uri": "https://localhost:8080/"
    },
    "id": "8T2OCFUghrKY",
    "outputId": "b8ea74a3-7bde-4267-a5be-a50cdf60a0cf"
   },
   "outputs": [],
   "source": [
    "%%rumble\n",
    "let $person := {\n",
    "    \"name\" : \"Sarah\",\n",
    "    \"age\" : 13,\n",
    "    \"gender\" : \"female\",\n",
    "    \"friends\" : [ \"Jim\", \"Mary\", \"Jennifer\"]\n",
    "}\n",
    "return { \"keys\" : [ keys($person)] }"
   ]
  },
  {
   "cell_type": "markdown",
   "metadata": {
    "id": "oim6bAQyhrKY"
   },
   "source": [
    "### Arrays\n",
    "\n",
    "The [[]] operator retrieves the entry at the given position:"
   ]
  },
  {
   "cell_type": "code",
   "execution_count": 68,
   "metadata": {
    "colab": {
     "base_uri": "https://localhost:8080/"
    },
    "id": "P14wlsn2hrKY",
    "outputId": "25e256e0-44b7-40c1-e58f-cd052957bad7"
   },
   "outputs": [
    {
     "name": "stdout",
     "output_type": "stream",
     "text": [
      "Took: 0.02591705322265625 s\n",
      "\"Mary\"\n"
     ]
    }
   ],
   "source": [
    "%%rumble\n",
    "let $friends := [ \"Jim\", \"Mary\", \"Jennifer\"]\n",
    "return $friends[[1+1]]"
   ]
  },
  {
   "cell_type": "markdown",
   "metadata": {
    "id": "drILINuehrKY"
   },
   "source": [
    "It is also possible to get the size of an array:"
   ]
  },
  {
   "cell_type": "code",
   "execution_count": null,
   "metadata": {
    "colab": {
     "base_uri": "https://localhost:8080/"
    },
    "id": "GPTzsEWuhrKY",
    "outputId": "a388685f-2c52-474a-d1d3-54e21b56da7a"
   },
   "outputs": [],
   "source": [
    "%%rumble\n",
    "let $person := {\n",
    "    \"name\" : \"Sarah\",\n",
    "    \"age\" : 13,\n",
    "    \"gender\" : \"female\",\n",
    "    \"friends\" : [ \"Jim\", \"Mary\", \"Jennifer\"]\n",
    "}\n",
    "return { \"how many friends\" : size($person.friends) }"
   ]
  },
  {
   "cell_type": "markdown",
   "metadata": {
    "id": "HnVfQuPYhrKY"
   },
   "source": [
    "Finally, the [] operator returns all elements in an array, as a sequence:"
   ]
  },
  {
   "cell_type": "code",
   "execution_count": 67,
   "metadata": {
    "colab": {
     "base_uri": "https://localhost:8080/"
    },
    "id": "cnr5WXjohrKY",
    "outputId": "b6ac5240-9c48-44e6-9114-6274931ff5f7"
   },
   "outputs": [
    {
     "name": "stdout",
     "output_type": "stream",
     "text": [
      "Took: 0.02712249755859375 s\n",
      "\"Jim\"\n",
      "\"Mary\"\n",
      "\"Jennifer\"\n"
     ]
    }
   ],
   "source": [
    "%%rumble\n",
    "let $person := {\n",
    "    \"name\" : \"Sarah\",\n",
    "    \"age\" : 13,\n",
    "    \"gender\" : \"female\",\n",
    "    \"friends\" : [ \"Jim\", \"Mary\", \"Jennifer\"]\n",
    "}\n",
    "return $person.friends[]"
   ]
  },
  {
   "cell_type": "markdown",
   "metadata": {
    "id": "kyzBECFMhrKY"
   },
   "source": [
    "### Relational Algebra\n",
    "\n",
    "Do you remember SQL's SELECT FROM WHERE statements? JSONiq inherits selection, projection and join capability from XQuery, too."
   ]
  },
  {
   "cell_type": "code",
   "execution_count": 31,
   "metadata": {
    "colab": {
     "base_uri": "https://localhost:8080/"
    },
    "id": "nqHxqtoYhrKY",
    "outputId": "6546f3ee-fd42-428f-91b4-c2619c79c8ee"
   },
   "outputs": [
    {
     "name": "stdout",
     "output_type": "stream",
     "text": [
      "Took: 0.041469573974609375 s\n",
      "[{\"nb\": 1, \"state\": \"MA\", \"sold\": \"broiler\"}, {\"nb\": 1, \"state\": \"MA\", \"sold\": \"socks\"}, {\"nb\": 2, \"state\": \"MA\", \"sold\": \"toaster\"}, {\"nb\": 2, \"state\": \"MA\", \"sold\": \"toaster\"}, {\"nb\": 2, \"state\": \"MA\", \"sold\": \"socks\"}, {\"nb\": 3, \"state\": \"CA\", \"sold\": \"toaster\"}, {\"nb\": 3, \"state\": \"CA\", \"sold\": \"blender\"}, {\"nb\": 3, \"state\": \"CA\", \"sold\": \"blender\"}, {\"nb\": 3, \"state\": \"CA\", \"sold\": \"shirt\"}]\n"
     ]
    }
   ],
   "source": [
    "%%rumble\n",
    "let $stores :=\n",
    "[\n",
    "    { \"store number\" : 1, \"state\" : \"MA\" },\n",
    "    { \"store number\" : 2, \"state\" : \"MA\" },\n",
    "    { \"store number\" : 3, \"state\" : \"CA\" },\n",
    "    { \"store number\" : 4, \"state\" : \"CA\" }\n",
    "]\n",
    "let $sales := [\n",
    "    { \"product\" : \"broiler\", \"store number\" : 1, \"quantity\" : 20  },\n",
    "    { \"product\" : \"toaster\", \"store number\" : 2, \"quantity\" : 100 },\n",
    "    { \"product\" : \"toaster\", \"store number\" : 2, \"quantity\" : 50 },\n",
    "    { \"product\" : \"toaster\", \"store number\" : 3, \"quantity\" : 50 },\n",
    "    { \"product\" : \"blender\", \"store number\" : 3, \"quantity\" : 100 },\n",
    "    { \"product\" : \"blender\", \"store number\" : 3, \"quantity\" : 150 },\n",
    "    { \"product\" : \"socks\", \"store number\" : 1, \"quantity\" : 500 },\n",
    "    { \"product\" : \"socks\", \"store number\" : 2, \"quantity\" : 10 },\n",
    "    { \"product\" : \"shirt\", \"store number\" : 3, \"quantity\" : 10 }\n",
    "]\n",
    "let $join :=\n",
    "    for $store in $stores[], $sale in $sales[]\n",
    "    where $store.\"store number\" = $sale.\"store number\"\n",
    "    return {\n",
    "        \"nb\" : $store.\"store number\",\n",
    "        \"state\" : $store.state,\n",
    "        \"sold\" : $sale.product\n",
    "    }\n",
    "return [$join]"
   ]
  },
  {
   "cell_type": "markdown",
   "metadata": {
    "id": "Bj5MkqjYhrKY"
   },
   "source": [
    "### Access datasets\n",
    "\n",
    "Rumble can read input from many file systems and many file formats. If you are using our backend, you can only use json-doc() with any URI pointing to a JSON file and navigate it as you see fit. "
   ]
  },
  {
   "cell_type": "code",
   "execution_count": null,
   "metadata": {
    "colab": {
     "base_uri": "https://localhost:8080/"
    },
    "id": "IvKabTMohrKY",
    "outputId": "97c9b90b-80ce-4377-fef3-44f28247d79b"
   },
   "outputs": [],
   "source": [
    "%%rumble\n",
    "json-doc(\"Put any HTTP URL pointing to a JSON document here!\").foo[[1]].bar.foobar[]"
   ]
  },
  {
   "cell_type": "markdown",
   "metadata": {
    "id": "4ryDS6RGhrKY"
   },
   "source": [
    "If you are using your own Rumble server on your cluster, you can also use any other function and scheme."
   ]
  },
  {
   "cell_type": "code",
   "execution_count": null,
   "metadata": {
    "colab": {
     "base_uri": "https://localhost:8080/"
    },
    "id": "P100xHh4hrKY",
    "outputId": "fb2a4098-fe35-44ae-b763-fe3fcd8f3746"
   },
   "outputs": [],
   "source": [
    "%%rumble\n",
    "json-file(\"put the path to a JSON lines file here. This will only work against your own Rumble backend and Spark cluster, though.\")"
   ]
  },
  {
   "cell_type": "markdown",
   "metadata": {
    "cell_status": {
     "execute_time": {
      "duration": 44.55712890625,
      "end_time": 1557044256642.663
     }
    },
    "collapsed": true,
    "id": "YzHCdZ2Ld-kt"
   },
   "source": [
    "# 4. The Great Language Game\n",
    "\n",
    "This week you will be using again the [language confusion dataset](http://lars.yencken.org/datasets/languagegame/). You will write queries with Rumble. You will have to submit the results of this exercise to Moodle to obtain the weekly bonus. You will need these things:\n",
    "- The query you wrote\n",
    "- Something related to its output (which you will be graded on)\n",
    "- The time it took you to run it\n",
    "\n",
    "The execution time of the queries will be reported by Rumble.\n",
    "\n",
    "Download and decompress the dataset in the same folder as `rumbledb-1.18.0.jar` with the following:\n",
    "```\n",
    "wget http://data.greatlanguagegame.com.s3.amazonaws.com/confusion-2014-03-02.tbz2\n",
    "tar -jxvf confusion-2014-03-02.tbz2\n",
    "```\n",
    "or, if wget command is not found,\n",
    "```\n",
    "curl -o confusion-2014-03-02.tbz2 http://data.greatlanguagegame.com.s3.amazonaws.com/confusion-2014-03-02.tbz2\n",
    "tar -jxvf confusion-2014-03-02.tbz2\n",
    "```"
   ]
  },
  {
   "cell_type": "markdown",
   "metadata": {
    "id": "rUS6Y9IqDS4Y"
   },
   "source": [
    "Afterwards, you should a folder with a (large) json file inside."
   ]
  },
  {
   "cell_type": "markdown",
   "metadata": {},
   "source": [
    "## 4.0 Check the data"
   ]
  },
  {
   "cell_type": "markdown",
   "metadata": {
    "id": "er5XQjCVd-kt"
   },
   "source": [
    "We provide you with two datasets, you can already check that you get the correct number of records. The full dataset should contain 16511224 records. We also provided you with a second small dataset to test your queries faster, it contains 100000 records."
   ]
  },
  {
   "cell_type": "code",
   "execution_count": 13,
   "metadata": {},
   "outputs": [
    {
     "name": "stdout",
     "output_type": "stream",
     "text": [
      "Took: 54.64579510688782 s\n",
      "16511224\n"
     ]
    }
   ],
   "source": [
    "%%rumble\n",
    "count(for $i in json-file(\"/home/confusion-2014-03-02/confusion-2014-03-02.json\")\n",
    "return $i)"
   ]
  },
  {
   "cell_type": "code",
   "execution_count": null,
   "metadata": {},
   "outputs": [],
   "source": [
    "%%rumble\n",
    "count(for $i in json-file(\"/home/confusion-100000.json\")\n",
    "return $i)"
   ]
  },
  {
   "cell_type": "markdown",
   "metadata": {
    "id": "3Pcf7FL7Aetl"
   },
   "source": [
    "## 4.1 Query the data"
   ]
  },
  {
   "cell_type": "markdown",
   "metadata": {
    "id": "er5XQjCVd-kt"
   },
   "source": [
    "You can read data from a json file with `json-file`. For example, the following query will read and print the entries in the confusion dataset:\n",
    "\n",
    "\n"
   ]
  },
  {
   "cell_type": "code",
   "execution_count": null,
   "metadata": {
    "colab": {
     "base_uri": "https://localhost:8080/"
    },
    "id": "nPHu0ODR9vAE",
    "outputId": "155b6dae-f100-4551-b1c7-0101b86c69b0"
   },
   "outputs": [],
   "source": [
    "%%rumble\n",
    "for $i in json-file(\"confusion-100000.json\")\n",
    "return $i"
   ]
  },
  {
   "cell_type": "markdown",
   "metadata": {
    "id": "a1ovg4Ga9xVp"
   },
   "source": [
    "After the results of your query are printed, Rumble will report the execution runtime in milliseconds:\n",
    "```\n",
    "Took: 62.02618598937988 ms\n",
    "```\n",
    "\n",
    "In the `json-file` method you can optionally specify the number of partitions, which may allow your query to be parallelized and executed faster. This offers great advantage on cluster, but is not much faster locally. For example:\n"
   ]
  },
  {
   "cell_type": "code",
   "execution_count": 15,
   "metadata": {
    "colab": {
     "base_uri": "https://localhost:8080/"
    },
    "id": "8G7eI0UE93BH",
    "outputId": "ae02d63f-9909-47e7-e5a9-de54ea7fac1f"
   },
   "outputs": [
    {
     "name": "stdout",
     "output_type": "stream",
     "text": [
      "Took: 1.2252178192138672 s\n",
      "\"Warning! The output sequence contains 100000 items but its materialization was capped at 200 items. This value can be configured with the result-size parameter in the query string of the HTTP request.\"\n",
      "{\"choices\": [\"Maori\", \"Mandarin\", \"Norwegian\", \"Tongan\"], \"country\": \"AU\", \"date\": \"2013-08-19\", \"guess\": \"Norwegian\", \"sample\": \"48f9c924e0d98c959d8a6f1862b3ce9a\", \"target\": \"Norwegian\"}\n",
      "{\"choices\": [\"Danish\", \"Dinka\", \"Khmer\", \"Lao\"], \"country\": \"AU\", \"date\": \"2013-08-19\", \"guess\": \"Dinka\", \"sample\": \"af5e8f27cef9e689a070b8814dcc02c3\", \"target\": \"Dinka\"}\n",
      "{\"choices\": [\"German\", \"Hungarian\", \"Samoan\", \"Turkish\"], \"country\": \"AU\", \"date\": \"2013-08-19\", \"guess\": \"Turkish\", \"sample\": \"509c36eb58dbce009ccf93f375358d53\", \"target\": \"Samoan\"}\n",
      "{\"choices\": [\"Danish\", \"Korean\", \"Latvian\", \"Somali\"], \"country\": \"AU\", \"date\": \"2013-08-19\", \"guess\": \"Latvian\", \"sample\": \"a505ab771ae7c32744ad31b3051b8ee9\", \"target\": \"Somali\"}\n",
      "{\"choices\": [\"Bangla\", \"Dinka\", \"Italian\", \"Japanese\"], \"country\": \"AU\", \"date\": \"2013-08-19\", \"guess\": \"Japanese\", \"sample\": \"3569611136ea04bab18a0cd605ced358\", \"target\": \"Japanese\"}\n",
      "{\"choices\": [\"Hindi\", \"Lao\", \"Maltese\", \"Turkish\"], \"country\": \"AU\", \"date\": \"2013-08-19\", \"guess\": \"Maltese\", \"sample\": \"af0e25c7637fb0dcdc56fac6d49aa55e\", \"target\": \"Turkish\"}\n",
      "{\"choices\": [\"Burmese\", \"Danish\", \"French\", \"Swedish\"], \"country\": \"AU\", \"date\": \"2013-08-19\", \"guess\": \"French\", \"sample\": \"92f9e1c17e6df988780527341fdb471d\", \"target\": \"French\"}\n",
      "{\"choices\": [\"German\", \"Serbian\", \"Swedish\", \"Vietnamese\"], \"country\": \"AU\", \"date\": \"2013-08-19\", \"guess\": \"German\", \"sample\": \"e77d97b712adffc39e531e20237a5589\", \"target\": \"German\"}\n",
      "{\"choices\": [\"Amharic\", \"Czech\", \"Sinhalese\", \"Spanish\"], \"country\": \"AU\", \"date\": \"2013-08-19\", \"guess\": \"Spanish\", \"sample\": \"dc3ace49393de518e87d4f8d3ae8d9db\", \"target\": \"Spanish\"}\n",
      "{\"choices\": [\"Estonian\", \"Japanese\", \"Lao\", \"Romanian\"], \"country\": \"AU\", \"date\": \"2013-08-19\", \"guess\": \"Romanian\", \"sample\": \"903fc45cba5245f21deaaca3966f825b\", \"target\": \"Romanian\"}\n",
      "{\"choices\": [\"Burmese\", \"Cantonese\", \"Serbian\", \"Ukrainian\"], \"country\": \"AU\", \"date\": \"2013-08-19\", \"guess\": \"Cantonese\", \"sample\": \"203628f42619d301e642b3553b7a684a\", \"target\": \"Cantonese\"}\n",
      "{\"choices\": [\"Amharic\", \"Dinka\", \"Indonesian\", \"Thai\"], \"country\": \"AU\", \"date\": \"2013-08-19\", \"guess\": \"Amharic\", \"sample\": \"cd3dffdb83f221e09710cbfbcaffdb31\", \"target\": \"Dinka\"}\n",
      "{\"choices\": [\"Assyrian\", \"Finnish\", \"Norwegian\", \"Turkish\"], \"country\": \"AU\", \"date\": \"2013-08-19\", \"guess\": \"Assyrian\", \"sample\": \"16ac545260ae198b7a3d882e06e5f261\", \"target\": \"Assyrian\"}\n",
      "{\"choices\": [\"Hebrew\", \"Hindi\", \"Ukrainian\", \"Yiddish\"], \"country\": \"AU\", \"date\": \"2013-08-19\", \"guess\": \"Hebrew\", \"sample\": \"1dc9a1bf90e4e788906dc716dc18d878\", \"target\": \"Hebrew\"}\n",
      "{\"choices\": [\"Cantonese\", \"Kurdish\", \"Maltese\", \"Somali\"], \"country\": \"AU\", \"date\": \"2013-08-19\", \"guess\": \"Kurdish\", \"sample\": \"9f849ff225f0d94a52c186924e225231\", \"target\": \"Kurdish\"}\n",
      "{\"choices\": [\"Assyrian\", \"Dari\", \"Italian\", \"Khmer\"], \"country\": \"AU\", \"date\": \"2013-08-19\", \"guess\": \"Italian\", \"sample\": \"88f3e5120091cffdf8abeb92b5da90a2\", \"target\": \"Italian\"}\n",
      "{\"choices\": [\"Tagalog\", \"Japanese\", \"Maltese\", \"Tamil\"], \"country\": \"AU\", \"date\": \"2013-08-19\", \"guess\": \"Maltese\", \"sample\": \"589feca2e2009ad2e63458f17568cd13\", \"target\": \"Maltese\"}\n",
      "{\"choices\": [\"Italian\", \"Kannada\", \"Mandarin\", \"Serbian\"], \"country\": \"AU\", \"date\": \"2013-08-19\", \"guess\": \"Kannada\", \"sample\": \"c11a7723bd3fcd00e33e90c90a3492e5\", \"target\": \"Kannada\"}\n",
      "{\"choices\": [\"Amharic\", \"Dinka\", \"Mandarin\", \"Yiddish\"], \"country\": \"AU\", \"date\": \"2013-08-19\", \"guess\": \"Dinka\", \"sample\": \"cd3dffdb83f221e09710cbfbcaffdb31\", \"target\": \"Dinka\"}\n",
      "{\"choices\": [\"Assyrian\", \"Dinka\", \"Estonian\", \"German\"], \"country\": \"AU\", \"date\": \"2013-08-19\", \"guess\": \"German\", \"sample\": \"78213fa858b9a45d83121a8bf71712d1\", \"target\": \"German\"}\n",
      "{\"choices\": [\"Arabic\", \"Hebrew\", \"Hungarian\", \"Lao\"], \"country\": \"AU\", \"date\": \"2013-08-19\", \"guess\": \"Hebrew\", \"sample\": \"1dc9a1bf90e4e788906dc716dc18d878\", \"target\": \"Hebrew\"}\n",
      "{\"choices\": [\"Albanian\", \"Maori\", \"Croatian\", \"Indonesian\"], \"country\": \"AU\", \"date\": \"2013-08-19\", \"guess\": \"Croatian\", \"sample\": \"00b85faa8b878a14f8781be334deb137\", \"target\": \"Albanian\"}\n",
      "{\"choices\": [\"Assyrian\", \"Tagalog\", \"Lao\", \"Tongan\"], \"country\": \"AU\", \"date\": \"2013-08-19\", \"guess\": \"Lao\", \"sample\": \"4cf041f244960196b98c7d6ae8c79ed3\", \"target\": \"Lao\"}\n",
      "{\"choices\": [\"Hungarian\", \"Swedish\", \"Thai\", \"Turkish\"], \"country\": \"AU\", \"date\": \"2013-08-19\", \"guess\": \"Hungarian\", \"sample\": \"af0e25c7637fb0dcdc56fac6d49aa55e\", \"target\": \"Turkish\"}\n",
      "{\"choices\": [\"Bosnian\", \"Khmer\", \"Swahili\", \"Turkish\"], \"country\": \"AU\", \"date\": \"2013-08-19\", \"guess\": \"Khmer\", \"sample\": \"ac1275769d8aaf8758f95409271f8a2f\", \"target\": \"Swahili\"}\n",
      "{\"choices\": [\"Czech\", \"Japanese\", \"Tamil\", \"Vietnamese\"], \"country\": \"AU\", \"date\": \"2013-08-19\", \"guess\": \"Vietnamese\", \"sample\": \"8ea6892d1ddca321adc07b05176e3605\", \"target\": \"Vietnamese\"}\n",
      "{\"choices\": [\"Dari\", \"Hebrew\", \"Kurdish\", \"Portuguese\"], \"country\": \"AU\", \"date\": \"2013-08-19\", \"guess\": \"Portuguese\", \"sample\": \"5fd851c9e87a6b9b9da9eb2ab0de6686\", \"target\": \"Portuguese\"}\n",
      "{\"choices\": [\"Amharic\", \"Greek\", \"Nepali\", \"Ukrainian\"], \"country\": \"AU\", \"date\": \"2013-08-19\", \"guess\": \"Nepali\", \"sample\": \"faa86f6efaf2ee67f95239685d26fd88\", \"target\": \"Nepali\"}\n",
      "{\"choices\": [\"Bulgarian\", \"Indonesian\", \"Malayalam\", \"Russian\"], \"country\": \"AU\", \"date\": \"2013-08-19\", \"guess\": \"Malayalam\", \"sample\": \"ff8fcb796b7fdc540dd567c144024f82\", \"target\": \"Indonesian\"}\n",
      "{\"choices\": [\"Finnish\", \"Kurdish\", \"Turkish\", \"Yiddish\"], \"country\": \"AU\", \"date\": \"2013-08-19\", \"guess\": \"Finnish\", \"sample\": \"4a3dfa40ed621940a0a38408956b86e0\", \"target\": \"Finnish\"}\n",
      "{\"choices\": [\"German\", \"Hindi\", \"Somali\", \"Tamil\"], \"country\": \"AU\", \"date\": \"2013-08-19\", \"guess\": \"German\", \"sample\": \"78213fa858b9a45d83121a8bf71712d1\", \"target\": \"German\"}\n",
      "{\"choices\": [\"Fijian\", \"Greek\", \"Mandarin\", \"Vietnamese\"], \"country\": \"AU\", \"date\": \"2013-08-19\", \"guess\": \"Greek\", \"sample\": \"f53c7596c141ee6d5d2b3ab90361f802\", \"target\": \"Fijian\"}\n",
      "{\"choices\": [\"Burmese\", \"Danish\", \"French\", \"Kurdish\"], \"country\": \"AU\", \"date\": \"2013-08-19\", \"guess\": \"Burmese\", \"sample\": \"878d3d845ccb0859aa05e80e1d35730f\", \"target\": \"Burmese\"}\n",
      "{\"choices\": [\"Khmer\", \"Sinhalese\", \"Swahili\", \"Turkish\"], \"country\": \"AU\", \"date\": \"2013-08-19\", \"guess\": \"Turkish\", \"sample\": \"714795c596ef0639a385fe620d2c42ab\", \"target\": \"Khmer\"}\n",
      "{\"choices\": [\"Arabic\", \"Dinka\", \"Fijian\", \"Thai\"], \"country\": \"AU\", \"date\": \"2013-08-19\", \"guess\": \"Fijian\", \"sample\": \"192e7c59bb734ee762a323219846295b\", \"target\": \"Dinka\"}\n",
      "{\"choices\": [\"Hebrew\", \"Malay\", \"Swahili\", \"Swedish\"], \"country\": \"AU\", \"date\": \"2013-08-19\", \"guess\": \"Swahili\", \"sample\": \"1b959fe55794f6d4e1ea038bfe336759\", \"target\": \"Swahili\"}\n",
      "{\"choices\": [\"Indonesian\", \"Kannada\", \"Norwegian\", \"Polish\"], \"country\": \"AU\", \"date\": \"2013-08-19\", \"guess\": \"Norwegian\", \"sample\": \"f1aac78bec424c4d6c716553719b0b70\", \"target\": \"Polish\"}\n",
      "{\"choices\": [\"Burmese\", \"Cantonese\", \"Dutch\", \"Swedish\"], \"country\": \"AU\", \"date\": \"2013-08-19\", \"guess\": \"Swedish\", \"sample\": \"5cd22cbf16be1a93d304d589431c3ec3\", \"target\": \"Dutch\"}\n",
      "{\"choices\": [\"Albanian\", \"Bulgarian\", \"Japanese\", \"Ukrainian\"], \"country\": \"AU\", \"date\": \"2013-08-19\", \"guess\": \"Ukrainian\", \"sample\": \"efcd813daec1c836d9f030b30caa07ce\", \"target\": \"Albanian\"}\n",
      "{\"choices\": [\"Dinka\", \"Hebrew\", \"Hindi\", \"Vietnamese\"], \"country\": \"AU\", \"date\": \"2013-08-19\", \"guess\": \"Hebrew\", \"sample\": \"157085744728e35079622c71804cf722\", \"target\": \"Hebrew\"}\n",
      "{\"choices\": [\"Dinka\", \"Nepali\", \"Norwegian\", \"Slovenian\"], \"country\": \"AU\", \"date\": \"2013-08-19\", \"guess\": \"Slovenian\", \"sample\": \"208e1606aa365f3ed573adc7111f58e9\", \"target\": \"Norwegian\"}\n",
      "{\"choices\": [\"Lao\", \"Nepali\", \"Russian\", \"Tongan\"], \"country\": \"AU\", \"date\": \"2013-08-19\", \"guess\": \"Russian\", \"sample\": \"8a59d48e99e8a1df7e366c4648095e27\", \"target\": \"Russian\"}\n",
      "{\"choices\": [\"Albanian\", \"Bulgarian\", \"Russian\", \"Ukrainian\"], \"country\": \"AU\", \"date\": \"2013-08-19\", \"guess\": \"Bulgarian\", \"sample\": \"00b85faa8b878a14f8781be334deb137\", \"target\": \"Albanian\"}\n",
      "{\"choices\": [\"Dinka\", \"Mandarin\", \"Slovenian\", \"Turkish\"], \"country\": \"AU\", \"date\": \"2013-08-19\", \"guess\": \"Turkish\", \"sample\": \"cd3dffdb83f221e09710cbfbcaffdb31\", \"target\": \"Dinka\"}\n",
      "{\"choices\": [\"Maori\", \"French\", \"Maltese\", \"Vietnamese\"], \"country\": \"AU\", \"date\": \"2013-08-19\", \"guess\": \"Maltese\", \"sample\": \"36d2f4e9173e2d4cad8b8594310c856b\", \"target\": \"Maltese\"}\n",
      "{\"choices\": [\"Amharic\", \"Estonian\", \"Hebrew\", \"Urdu\"], \"country\": \"AU\", \"date\": \"2013-08-19\", \"guess\": \"Urdu\", \"sample\": \"5af9790de5ecef3853d6d89f8e75916c\", \"target\": \"Estonian\"}\n",
      "{\"choices\": [\"Dinka\", \"Finnish\", \"Gujarati\", \"Portuguese\"], \"country\": \"AU\", \"date\": \"2013-08-19\", \"guess\": \"Portuguese\", \"sample\": \"5fd851c9e87a6b9b9da9eb2ab0de6686\", \"target\": \"Portuguese\"}\n",
      "{\"choices\": [\"Bosnian\", \"Indonesian\", \"Romanian\", \"Serbian\"], \"country\": \"AU\", \"date\": \"2013-08-19\", \"guess\": \"Serbian\", \"sample\": \"ec4d6dad1be487091ec2b1b63820e329\", \"target\": \"Serbian\"}\n",
      "{\"choices\": [\"Amharic\", \"Arabic\", \"Dinka\", \"Samoan\"], \"country\": \"AU\", \"date\": \"2013-08-19\", \"guess\": \"Dinka\", \"sample\": \"509c36eb58dbce009ccf93f375358d53\", \"target\": \"Samoan\"}\n",
      "{\"choices\": [\"French\", \"Japanese\", \"Russian\", \"Ukrainian\"], \"country\": \"AU\", \"date\": \"2013-08-19\", \"guess\": \"Japanese\", \"sample\": \"3569611136ea04bab18a0cd605ced358\", \"target\": \"Japanese\"}\n",
      "{\"choices\": [\"Bulgarian\", \"Tagalog\", \"Greek\", \"Turkish\"], \"country\": \"AU\", \"date\": \"2013-08-19\", \"guess\": \"Tagalog\", \"sample\": \"34df5eca0db3967da23f8a210337c9d6\", \"target\": \"Tagalog\"}\n",
      "{\"choices\": [\"Khmer\", \"Latvian\", \"Serbian\", \"Vietnamese\"], \"country\": \"AU\", \"date\": \"2013-08-19\", \"guess\": \"Serbian\", \"sample\": \"ec4d6dad1be487091ec2b1b63820e329\", \"target\": \"Serbian\"}\n",
      "{\"choices\": [\"Bulgarian\", \"Macedonian\", \"Russian\", \"Samoan\"], \"country\": \"AU\", \"date\": \"2013-08-19\", \"guess\": \"Bulgarian\", \"sample\": \"ff5b5a0d34c77d2e2027dad7e4deb094\", \"target\": \"Russian\"}\n",
      "{\"choices\": [\"Bosnian\", \"Polish\", \"Sinhalese\", \"Slovenian\"], \"country\": \"AU\", \"date\": \"2013-08-19\", \"guess\": \"Polish\", \"sample\": \"f2f07eb5c50e64c627f66566b3c7cc4a\", \"target\": \"Slovenian\"}\n",
      "{\"choices\": [\"Danish\", \"Dinka\", \"Hebrew\", \"Nepali\"], \"country\": \"AU\", \"date\": \"2013-08-19\", \"guess\": \"Nepali\", \"sample\": \"192e7c59bb734ee762a323219846295b\", \"target\": \"Dinka\"}\n",
      "{\"choices\": [\"Dutch\", \"Italian\", \"Latvian\", \"Portuguese\"], \"country\": \"AU\", \"date\": \"2013-08-19\", \"guess\": \"Latvian\", \"sample\": \"5aea2b93784263ae4b5a2524ddebebb2\", \"target\": \"Latvian\"}\n",
      "{\"choices\": [\"Czech\", \"Estonian\", \"Hungarian\", \"Slovak\"], \"country\": \"AU\", \"date\": \"2013-08-19\", \"guess\": \"Hungarian\", \"sample\": \"56626a14b479e47d5eb9568161dad285\", \"target\": \"Czech\"}\n",
      "{\"choices\": [\"Croatian\", \"Hebrew\", \"Malay\", \"Nepali\"], \"country\": \"AU\", \"date\": \"2013-08-19\", \"guess\": \"Nepali\", \"sample\": \"faa86f6efaf2ee67f95239685d26fd88\", \"target\": \"Nepali\"}\n",
      "{\"choices\": [\"Kannada\", \"Korean\", \"Nepali\", \"Urdu\"], \"country\": \"AU\", \"date\": \"2013-08-19\", \"guess\": \"Urdu\", \"sample\": \"3520fdcdf2658685928fc37e72ab2134\", \"target\": \"Urdu\"}\n",
      "{\"choices\": [\"Assyrian\", \"Czech\", \"German\", \"Hungarian\"], \"country\": \"AU\", \"date\": \"2013-08-19\", \"guess\": \"Assyrian\", \"sample\": \"a7d34c215264677c8385e90fa5363ec1\", \"target\": \"Assyrian\"}\n",
      "{\"choices\": [\"Tagalog\", \"Greek\", \"Swahili\", \"Tigrinya\"], \"country\": \"AU\", \"date\": \"2013-08-19\", \"guess\": \"Swahili\", \"sample\": \"3ec316c78773bb826dd924926f5c0d07\", \"target\": \"Tigrinya\"}\n",
      "{\"choices\": [\"Estonian\", \"Malay\", \"Russian\", \"Tamil\"], \"country\": \"AU\", \"date\": \"2013-08-19\", \"guess\": \"Tamil\", \"sample\": \"cc305dcad696147e28c6f36615aa0952\", \"target\": \"Tamil\"}\n",
      "{\"choices\": [\"Danish\", \"Hebrew\", \"Korean\", \"Kurdish\"], \"country\": \"AU\", \"date\": \"2013-08-19\", \"guess\": \"Danish\", \"sample\": \"5fdcb0979e1c546ea05d7bd780bd4bc3\", \"target\": \"Danish\"}\n",
      "{\"choices\": [\"Burmese\", \"Danish\", \"Romanian\", \"Ukrainian\"], \"country\": \"AU\", \"date\": \"2013-08-19\", \"guess\": \"Burmese\", \"sample\": \"31cba304794d1828c93d7b3c63aa840a\", \"target\": \"Burmese\"}\n",
      "{\"choices\": [\"German\", \"Maltese\", \"Polish\", \"Sinhalese\"], \"country\": \"AU\", \"date\": \"2013-08-19\", \"guess\": \"Maltese\", \"sample\": \"36d2f4e9173e2d4cad8b8594310c856b\", \"target\": \"Maltese\"}\n",
      "{\"choices\": [\"Burmese\", \"Czech\", \"French\", \"Maltese\"], \"country\": \"AU\", \"date\": \"2013-08-19\", \"guess\": \"Maltese\", \"sample\": \"589feca2e2009ad2e63458f17568cd13\", \"target\": \"Maltese\"}\n",
      "{\"choices\": [\"Albanian\", \"Bangla\", \"Dutch\", \"Mandarin\"], \"country\": \"AU\", \"date\": \"2013-08-19\", \"guess\": \"Dutch\", \"sample\": \"bf0f1eec2e9f147aba20ea9b3e9564bb\", \"target\": \"Dutch\"}\n",
      "{\"choices\": [\"Czech\", \"Estonian\", \"Maltese\", \"Mandarin\"], \"country\": \"AU\", \"date\": \"2013-08-19\", \"guess\": \"Mandarin\", \"sample\": \"01f51995ae86ff85e899d40768ab81a8\", \"target\": \"Mandarin\"}\n",
      "{\"choices\": [\"Estonian\", \"Fijian\", \"Khmer\", \"Urdu\"], \"country\": \"AU\", \"date\": \"2013-08-19\", \"guess\": \"Estonian\", \"sample\": \"b7e986bd3a0d5fd1db661e3bedf36111\", \"target\": \"Estonian\"}\n",
      "{\"choices\": [\"Armenian\", \"Dutch\", \"Serbian\", \"Yiddish\"], \"country\": \"AU\", \"date\": \"2013-08-19\", \"guess\": \"Serbian\", \"sample\": \"d34689ff8c3532426256b0963d7df2bb\", \"target\": \"Armenian\"}\n",
      "{\"choices\": [\"French\", \"Indonesian\", \"Macedonian\", \"Romanian\"], \"country\": \"AU\", \"date\": \"2013-08-19\", \"guess\": \"Indonesian\", \"sample\": \"ff8fcb796b7fdc540dd567c144024f82\", \"target\": \"Indonesian\"}\n",
      "{\"choices\": [\"Latvian\", \"Mandarin\", \"Sinhalese\", \"Urdu\"], \"country\": \"AU\", \"date\": \"2013-08-19\", \"guess\": \"Sinhalese\", \"sample\": \"755de9092b301614712fae5e1d2d47d3\", \"target\": \"Sinhalese\"}\n",
      "{\"choices\": [\"Assyrian\", \"Bangla\", \"Danish\", \"Yiddish\"], \"country\": \"AU\", \"date\": \"2013-08-19\", \"guess\": \"Bangla\", \"sample\": \"b2132278200e1e601b6814a15fdabcc1\", \"target\": \"Bangla\"}\n",
      "{\"choices\": [\"Albanian\", \"Dinka\", \"Spanish\", \"Thai\"], \"country\": \"AU\", \"date\": \"2013-08-19\", \"guess\": \"Spanish\", \"sample\": \"c8f4f097079404bf9a0e94d604efd1d5\", \"target\": \"Spanish\"}\n",
      "{\"choices\": [\"Estonian\", \"Tagalog\", \"Italian\", \"Malayalam\"], \"country\": \"AU\", \"date\": \"2013-08-19\", \"guess\": \"Italian\", \"sample\": \"88f3e5120091cffdf8abeb92b5da90a2\", \"target\": \"Italian\"}\n",
      "{\"choices\": [\"Arabic\", \"Bulgarian\", \"Latvian\", \"Urdu\"], \"country\": \"AU\", \"date\": \"2013-08-19\", \"guess\": \"Arabic\", \"sample\": \"8903e496bf04c3a85a70e1dc5e0da5f1\", \"target\": \"Arabic\"}\n",
      "{\"choices\": [\"Armenian\", \"Punjabi\", \"Serbian\", \"Tongan\"], \"country\": \"AU\", \"date\": \"2013-08-19\", \"guess\": \"Punjabi\", \"sample\": \"10ff356faf50696b30f8a58b9dd919b2\", \"target\": \"Punjabi\"}\n",
      "{\"choices\": [\"Arabic\", \"Bulgarian\", \"Hindi\", \"Spanish\"], \"country\": \"AU\", \"date\": \"2013-08-19\", \"guess\": \"Hindi\", \"sample\": \"568bfed6715c43735f95faef578d7cd5\", \"target\": \"Hindi\"}\n",
      "{\"choices\": [\"Assyrian\", \"Dari\", \"Kannada\", \"Tamil\"], \"country\": \"AU\", \"date\": \"2013-08-19\", \"guess\": \"Dari\", \"sample\": \"cad47cd466a2d8c25fa7a21c15cbb3cf\", \"target\": \"Dari\"}\n",
      "{\"choices\": [\"Armenian\", \"Danish\", \"Khmer\", \"Tongan\"], \"country\": \"AU\", \"date\": \"2013-08-19\", \"guess\": \"Tongan\", \"sample\": \"838cfe7f928e1a41710e01b3ee12088f\", \"target\": \"Tongan\"}\n",
      "{\"choices\": [\"Dinka\", \"Italian\", \"Khmer\", \"Samoan\"], \"country\": \"AU\", \"date\": \"2013-08-19\", \"guess\": \"Khmer\", \"sample\": \"714795c596ef0639a385fe620d2c42ab\", \"target\": \"Khmer\"}\n",
      "{\"choices\": [\"Amharic\", \"Fijian\", \"Hindi\", \"Romanian\"], \"country\": \"AU\", \"date\": \"2013-08-19\", \"guess\": \"Romanian\", \"sample\": \"903fc45cba5245f21deaaca3966f825b\", \"target\": \"Romanian\"}\n",
      "{\"choices\": [\"Bosnian\", \"Cantonese\", \"Greek\", \"Malay\"], \"country\": \"AU\", \"date\": \"2013-08-19\", \"guess\": \"Malay\", \"sample\": \"610d45322ed5aa122cf9b4a79d603781\", \"target\": \"Malay\"}\n",
      "{\"choices\": [\"Bangla\", \"Burmese\", \"Dari\", \"Portuguese\"], \"country\": \"AU\", \"date\": \"2013-08-19\", \"guess\": \"Bangla\", \"sample\": \"b2132278200e1e601b6814a15fdabcc1\", \"target\": \"Bangla\"}\n",
      "{\"choices\": [\"Albanian\", \"Croatian\", \"Hindi\", \"Maltese\"], \"country\": \"AU\", \"date\": \"2013-08-19\", \"guess\": \"Hindi\", \"sample\": \"9dac641f173f2a225501e8e50fc4e66e\", \"target\": \"Hindi\"}\n",
      "{\"choices\": [\"Romanian\", \"Tamil\", \"Tongan\", \"Turkish\"], \"country\": \"AU\", \"date\": \"2013-08-19\", \"guess\": \"Romanian\", \"sample\": \"6560ff4ce0b53a1b0bad2e7734f52381\", \"target\": \"Romanian\"}\n",
      "{\"choices\": [\"French\", \"Lao\", \"Malay\", \"Portuguese\"], \"country\": \"AU\", \"date\": \"2013-08-19\", \"guess\": \"Lao\", \"sample\": \"4cf041f244960196b98c7d6ae8c79ed3\", \"target\": \"Lao\"}\n",
      "{\"choices\": [\"Hungarian\", \"Japanese\", \"Slovenian\", \"Vietnamese\"], \"country\": \"AU\", \"date\": \"2013-08-19\", \"guess\": \"Vietnamese\", \"sample\": \"8ea6892d1ddca321adc07b05176e3605\", \"target\": \"Vietnamese\"}\n",
      "{\"choices\": [\"Tagalog\", \"Lao\", \"Slovak\", \"Ukrainian\"], \"country\": \"AU\", \"date\": \"2013-08-19\", \"guess\": \"Tagalog\", \"sample\": \"34df5eca0db3967da23f8a210337c9d6\", \"target\": \"Tagalog\"}\n",
      "{\"choices\": [\"Danish\", \"Hungarian\", \"Korean\", \"Samoan\"], \"country\": \"AU\", \"date\": \"2013-08-19\", \"guess\": \"Hungarian\", \"sample\": \"5fdcb0979e1c546ea05d7bd780bd4bc3\", \"target\": \"Danish\"}\n",
      "{\"choices\": [\"Greek\", \"Korean\", \"Polish\", \"Slovenian\"], \"country\": \"AU\", \"date\": \"2013-08-19\", \"guess\": \"Polish\", \"sample\": \"f2f07eb5c50e64c627f66566b3c7cc4a\", \"target\": \"Slovenian\"}\n",
      "{\"choices\": [\"Arabic\", \"Bosnian\", \"Kannada\", \"Thai\"], \"country\": \"AU\", \"date\": \"2013-08-19\", \"guess\": \"Kannada\", \"sample\": \"cf08af2ccb8382aa6c624095ec4f93fb\", \"target\": \"Kannada\"}\n",
      "{\"choices\": [\"Maori\", \"Dari\", \"Korean\", \"Spanish\"], \"country\": \"AU\", \"date\": \"2013-08-19\", \"guess\": \"Spanish\", \"sample\": \"c8f4f097079404bf9a0e94d604efd1d5\", \"target\": \"Spanish\"}\n",
      "{\"choices\": [\"Armenian\", \"Hebrew\", \"Italian\", \"Urdu\"], \"country\": \"AU\", \"date\": \"2013-08-19\", \"guess\": \"Urdu\", \"sample\": \"b46fa4a310d337db8f055083c68ba863\", \"target\": \"Armenian\"}\n",
      "{\"choices\": [\"Assyrian\", \"Tagalog\", \"Tongan\", \"Urdu\"], \"country\": \"AU\", \"date\": \"2013-08-19\", \"guess\": \"Tagalog\", \"sample\": \"6ba74243165c6e7fb5255890b18f8807\", \"target\": \"Tongan\"}\n",
      "{\"choices\": [\"Korean\", \"Nepali\", \"Farsi\", \"Tongan\"], \"country\": \"AU\", \"date\": \"2013-08-19\", \"guess\": \"Farsi\", \"sample\": \"d7a4029f42521d56af05c9f947a516c1\", \"target\": \"Farsi\"}\n",
      "{\"choices\": [\"Croatian\", \"Indonesian\", \"Italian\", \"Japanese\"], \"country\": \"AU\", \"date\": \"2013-08-19\", \"guess\": \"Indonesian\", \"sample\": \"ff8fcb796b7fdc540dd567c144024f82\", \"target\": \"Indonesian\"}\n",
      "{\"choices\": [\"Japanese\", \"Malayalam\", \"Slovak\", \"Vietnamese\"], \"country\": \"AU\", \"date\": \"2013-08-19\", \"guess\": \"Japanese\", \"sample\": \"3569611136ea04bab18a0cd605ced358\", \"target\": \"Japanese\"}\n",
      "{\"choices\": [\"Arabic\", \"Dutch\", \"Spanish\", \"Yiddish\"], \"country\": \"AU\", \"date\": \"2013-08-19\", \"guess\": \"Spanish\", \"sample\": \"dc3ace49393de518e87d4f8d3ae8d9db\", \"target\": \"Spanish\"}\n",
      "{\"choices\": [\"Assyrian\", \"Khmer\", \"Lao\", \"Punjabi\"], \"country\": \"AU\", \"date\": \"2013-08-19\", \"guess\": \"Khmer\", \"sample\": \"b5aa4ea31e44899dc4d58d4a35e05504\", \"target\": \"Lao\"}\n",
      "{\"choices\": [\"Czech\", \"Indonesian\", \"Kurdish\", \"Spanish\"], \"country\": \"AU\", \"date\": \"2013-08-19\", \"guess\": \"Spanish\", \"sample\": \"dc3ace49393de518e87d4f8d3ae8d9db\", \"target\": \"Spanish\"}\n",
      "{\"choices\": [\"Burmese\", \"Fijian\", \"Kurdish\", \"Maltese\"], \"country\": \"AU\", \"date\": \"2013-08-19\", \"guess\": \"Burmese\", \"sample\": \"f53c7596c141ee6d5d2b3ab90361f802\", \"target\": \"Fijian\"}\n",
      "{\"choices\": [\"Czech\", \"Korean\", \"Lao\", \"Ukrainian\"], \"country\": \"AU\", \"date\": \"2013-08-19\", \"guess\": \"Ukrainian\", \"sample\": \"6d86f6da48a5d151593317f64da0421f\", \"target\": \"Ukrainian\"}\n",
      "{\"choices\": [\"Indonesian\", \"Macedonian\", \"Swedish\", \"Vietnamese\"], \"country\": \"AU\", \"date\": \"2013-08-19\", \"guess\": \"Indonesian\", \"sample\": \"ff8fcb796b7fdc540dd567c144024f82\", \"target\": \"Indonesian\"}\n",
      "{\"choices\": [\"Korean\", \"Latvian\", \"Farsi\", \"Urdu\"], \"country\": \"AU\", \"date\": \"2013-08-19\", \"guess\": \"Farsi\", \"sample\": \"3520fdcdf2658685928fc37e72ab2134\", \"target\": \"Urdu\"}\n",
      "{\"choices\": [\"Greek\", \"Italian\", \"Samoan\", \"Slovenian\"], \"country\": \"AU\", \"date\": \"2013-08-19\", \"guess\": \"Italian\", \"sample\": \"0f43daadf6a1ce6d769fa0daa630b5f6\", \"target\": \"Greek\"}\n",
      "{\"choices\": [\"Kannada\", \"Mandarin\", \"Somali\", \"Spanish\"], \"country\": \"AU\", \"date\": \"2013-08-19\", \"guess\": \"Mandarin\", \"sample\": \"01f51995ae86ff85e899d40768ab81a8\", \"target\": \"Mandarin\"}\n",
      "{\"choices\": [\"Hindi\", \"Romanian\", \"Tigrinya\", \"Vietnamese\"], \"country\": \"AU\", \"date\": \"2013-08-19\", \"guess\": \"Vietnamese\", \"sample\": \"3aab36435babaea46064d7f173bb0ba3\", \"target\": \"Vietnamese\"}\n",
      "{\"choices\": [\"Bangla\", \"Maori\", \"Indonesian\", \"Polish\"], \"country\": \"AU\", \"date\": \"2013-08-19\", \"guess\": \"Polish\", \"sample\": \"1e94210c21a6af48b9c418a7d6380a1c\", \"target\": \"Maori\"}\n",
      "{\"choices\": [\"Dari\", \"German\", \"Hebrew\", \"Italian\"], \"country\": \"AU\", \"date\": \"2013-08-19\", \"guess\": \"Hebrew\", \"sample\": \"830854fd9c28424c604eaef2e97e61b3\", \"target\": \"Hebrew\"}\n",
      "{\"choices\": [\"Bosnian\", \"Gujarati\", \"Spanish\", \"Vietnamese\"], \"country\": \"AU\", \"date\": \"2013-08-19\", \"guess\": \"Vietnamese\", \"sample\": \"3aab36435babaea46064d7f173bb0ba3\", \"target\": \"Vietnamese\"}\n",
      "{\"choices\": [\"Arabic\", \"Estonian\", \"Greek\", \"Russian\"], \"country\": \"AU\", \"date\": \"2013-08-19\", \"guess\": \"Russian\", \"sample\": \"8a59d48e99e8a1df7e366c4648095e27\", \"target\": \"Russian\"}\n",
      "{\"choices\": [\"Amharic\", \"Bangla\", \"Hindi\", \"Punjabi\"], \"country\": \"AU\", \"date\": \"2013-08-19\", \"guess\": \"Punjabi\", \"sample\": \"9dac641f173f2a225501e8e50fc4e66e\", \"target\": \"Hindi\"}\n",
      "{\"choices\": [\"Assyrian\", \"Tagalog\", \"Spanish\", \"Swedish\"], \"country\": \"AU\", \"date\": \"2013-08-19\", \"guess\": \"Spanish\", \"sample\": \"c8f4f097079404bf9a0e94d604efd1d5\", \"target\": \"Spanish\"}\n",
      "{\"choices\": [\"Estonian\", \"Hebrew\", \"Malayalam\", \"Swahili\"], \"country\": \"AU\", \"date\": \"2013-08-19\", \"guess\": \"Hebrew\", \"sample\": \"830854fd9c28424c604eaef2e97e61b3\", \"target\": \"Hebrew\"}\n",
      "{\"choices\": [\"Arabic\", \"Croatian\", \"Malay\", \"Serbian\"], \"country\": \"AU\", \"date\": \"2013-08-19\", \"guess\": \"Arabic\", \"sample\": \"8903e496bf04c3a85a70e1dc5e0da5f1\", \"target\": \"Arabic\"}\n",
      "{\"choices\": [\"Dinka\", \"German\", \"Hungarian\", \"Kurdish\"], \"country\": \"AU\", \"date\": \"2013-08-19\", \"guess\": \"German\", \"sample\": \"78213fa858b9a45d83121a8bf71712d1\", \"target\": \"German\"}\n",
      "{\"choices\": [\"Latvian\", \"Maltese\", \"Thai\", \"Urdu\"], \"country\": \"AU\", \"date\": \"2013-08-19\", \"guess\": \"Urdu\", \"sample\": \"36d2f4e9173e2d4cad8b8594310c856b\", \"target\": \"Maltese\"}\n",
      "{\"choices\": [\"Gujarati\", \"Sinhalese\", \"Slovenian\", \"Turkish\"], \"country\": \"AU\", \"date\": \"2013-08-19\", \"guess\": \"Gujarati\", \"sample\": \"16d80eee6659268a90460422dd2a2896\", \"target\": \"Gujarati\"}\n",
      "{\"choices\": [\"Maori\", \"Finnish\", \"Urdu\", \"Yiddish\"], \"country\": \"AU\", \"date\": \"2013-08-19\", \"guess\": \"Urdu\", \"sample\": \"491ce6f2acb4a588a4e6ff3570d429a5\", \"target\": \"Yiddish\"}\n",
      "{\"choices\": [\"Assyrian\", \"Bosnian\", \"Mandarin\", \"Yiddish\"], \"country\": \"AU\", \"date\": \"2013-08-19\", \"guess\": \"Mandarin\", \"sample\": \"fc3712715ddc748286256eb7a64f25ab\", \"target\": \"Mandarin\"}\n",
      "{\"choices\": [\"Italian\", \"Macedonian\", \"Punjabi\", \"Spanish\"], \"country\": \"AU\", \"date\": \"2013-08-19\", \"guess\": \"Spanish\", \"sample\": \"d8d9dfa02ff280d107d54fd8f19ab5bb\", \"target\": \"Spanish\"}\n",
      "{\"choices\": [\"Maori\", \"Danish\", \"Hebrew\", \"Punjabi\"], \"country\": \"AU\", \"date\": \"2013-08-19\", \"guess\": \"Danish\", \"sample\": \"5fdcb0979e1c546ea05d7bd780bd4bc3\", \"target\": \"Danish\"}\n",
      "{\"choices\": [\"Khmer\", \"Macedonian\", \"Serbian\", \"Ukrainian\"], \"country\": \"AU\", \"date\": \"2013-08-19\", \"guess\": \"Serbian\", \"sample\": \"968e9c700742f65c43ad3cb99209e787\", \"target\": \"Macedonian\"}\n",
      "{\"choices\": [\"Arabic\", \"Bangla\", \"Danish\", \"Greek\"], \"country\": \"AU\", \"date\": \"2013-08-19\", \"guess\": \"Greek\", \"sample\": \"17527de743e8a5b5c339fb8ff117f65b\", \"target\": \"Greek\"}\n",
      "{\"choices\": [\"Maori\", \"Gujarati\", \"Punjabi\", \"Sinhalese\"], \"country\": \"AU\", \"date\": \"2013-08-19\", \"guess\": \"Sinhalese\", \"sample\": \"755de9092b301614712fae5e1d2d47d3\", \"target\": \"Sinhalese\"}\n",
      "{\"choices\": [\"Bosnian\", \"Hungarian\", \"Japanese\", \"Maltese\"], \"country\": \"AU\", \"date\": \"2013-08-19\", \"guess\": \"Bosnian\", \"sample\": \"589feca2e2009ad2e63458f17568cd13\", \"target\": \"Maltese\"}\n",
      "{\"choices\": [\"Greek\", \"Gujarati\", \"Mandarin\", \"Slovenian\"], \"country\": \"AU\", \"date\": \"2013-08-19\", \"guess\": \"Mandarin\", \"sample\": \"01f51995ae86ff85e899d40768ab81a8\", \"target\": \"Mandarin\"}\n",
      "{\"choices\": [\"Czech\", \"Somali\", \"Tamil\", \"Turkish\"], \"country\": \"AU\", \"date\": \"2013-08-19\", \"guess\": \"Tamil\", \"sample\": \"cc305dcad696147e28c6f36615aa0952\", \"target\": \"Tamil\"}\n",
      "{\"choices\": [\"Bosnian\", \"Latvian\", \"Portuguese\", \"Sinhalese\"], \"country\": \"AU\", \"date\": \"2013-08-19\", \"guess\": \"Portuguese\", \"sample\": \"439672210d1feb96e012590ff2a73590\", \"target\": \"Portuguese\"}\n",
      "{\"choices\": [\"Italian\", \"Lao\", \"Farsi\", \"Tongan\"], \"country\": \"AU\", \"date\": \"2013-08-19\", \"guess\": \"Tongan\", \"sample\": \"838cfe7f928e1a41710e01b3ee12088f\", \"target\": \"Tongan\"}\n",
      "{\"choices\": [\"Albanian\", \"German\", \"Slovenian\", \"Swahili\"], \"country\": \"AU\", \"date\": \"2013-08-19\", \"guess\": \"Slovenian\", \"sample\": \"efcd813daec1c836d9f030b30caa07ce\", \"target\": \"Albanian\"}\n",
      "{\"choices\": [\"Gujarati\", \"Hebrew\", \"Somali\", \"Yiddish\"], \"country\": \"AU\", \"date\": \"2013-08-19\", \"guess\": \"Gujarati\", \"sample\": \"16d80eee6659268a90460422dd2a2896\", \"target\": \"Gujarati\"}\n",
      "{\"choices\": [\"Czech\", \"Farsi\", \"Russian\", \"Swedish\"], \"country\": \"AU\", \"date\": \"2013-08-19\", \"guess\": \"Czech\", \"sample\": \"dfe8192c1bbd80b44ea4409d9889dc90\", \"target\": \"Swedish\"}\n",
      "{\"choices\": [\"Hindi\", \"Kannada\", \"Farsi\", \"Turkish\"], \"country\": \"AU\", \"date\": \"2013-08-19\", \"guess\": \"Kannada\", \"sample\": \"70154ea13cf1c633cfe62d44919a347c\", \"target\": \"Farsi\"}\n",
      "{\"choices\": [\"Bangla\", \"Estonian\", \"Italian\", \"Khmer\"], \"country\": \"AU\", \"date\": \"2013-08-19\", \"guess\": \"Khmer\", \"sample\": \"714795c596ef0639a385fe620d2c42ab\", \"target\": \"Khmer\"}\n",
      "{\"choices\": [\"Danish\", \"German\", \"Russian\", \"Turkish\"], \"country\": \"AU\", \"date\": \"2013-08-19\", \"guess\": \"German\", \"sample\": \"5fdcb0979e1c546ea05d7bd780bd4bc3\", \"target\": \"Danish\"}\n",
      "{\"choices\": [\"Assyrian\", \"Korean\", \"Serbian\", \"Somali\"], \"country\": \"AU\", \"date\": \"2013-08-19\", \"guess\": \"Korean\", \"sample\": \"ec371adb75ab6c7431adae3ef8fc9fc9\", \"target\": \"Korean\"}\n",
      "{\"choices\": [\"Cantonese\", \"Fijian\", \"Slovak\", \"Somali\"], \"country\": \"AU\", \"date\": \"2013-08-19\", \"guess\": \"Fijian\", \"sample\": \"93b8857d01978401e679f0bde0a7b5b0\", \"target\": \"Fijian\"}\n",
      "{\"choices\": [\"Tagalog\", \"Maltese\", \"Portuguese\", \"Sinhalese\"], \"country\": \"AU\", \"date\": \"2013-08-19\", \"guess\": \"Portuguese\", \"sample\": \"439672210d1feb96e012590ff2a73590\", \"target\": \"Portuguese\"}\n",
      "{\"choices\": [\"Bulgarian\", \"French\", \"Japanese\", \"Punjabi\"], \"country\": \"AU\", \"date\": \"2013-08-19\", \"guess\": \"Japanese\", \"sample\": \"3569611136ea04bab18a0cd605ced358\", \"target\": \"Japanese\"}\n",
      "{\"choices\": [\"Bangla\", \"Khmer\", \"Kurdish\", \"Latvian\"], \"country\": \"AU\", \"date\": \"2013-08-19\", \"guess\": \"Khmer\", \"sample\": \"84f7df7508e423234fd1adec4f84e528\", \"target\": \"Khmer\"}\n",
      "{\"choices\": [\"Dutch\", \"Estonian\", \"Hungarian\", \"Swedish\"], \"country\": \"AU\", \"date\": \"2013-08-19\", \"guess\": \"Estonian\", \"sample\": \"bf0f1eec2e9f147aba20ea9b3e9564bb\", \"target\": \"Dutch\"}\n",
      "{\"choices\": [\"Dinka\", \"Hungarian\", \"Spanish\", \"Thai\"], \"country\": \"AU\", \"date\": \"2013-08-19\", \"guess\": \"Spanish\", \"sample\": \"dc3ace49393de518e87d4f8d3ae8d9db\", \"target\": \"Spanish\"}\n",
      "{\"choices\": [\"Bangla\", \"Cantonese\", \"Malay\", \"Somali\"], \"country\": \"AU\", \"date\": \"2013-08-19\", \"guess\": \"Cantonese\", \"sample\": \"78e21624c41e6efc3ac790735180615d\", \"target\": \"Cantonese\"}\n",
      "{\"choices\": [\"Cantonese\", \"Latvian\", \"Tamil\", \"Turkish\"], \"country\": \"AU\", \"date\": \"2013-08-19\", \"guess\": \"Turkish\", \"sample\": \"447bcafdbe5d7d69e0db72ab5bfa043a\", \"target\": \"Latvian\"}\n",
      "{\"choices\": [\"Assyrian\", \"Bulgarian\", \"Indonesian\", \"Khmer\"], \"country\": \"AU\", \"date\": \"2013-08-19\", \"guess\": \"Bulgarian\", \"sample\": \"69a5c674fe40942aaae4d10c9df46ee0\", \"target\": \"Bulgarian\"}\n",
      "{\"choices\": [\"Italian\", \"Korean\", \"Latvian\", \"Polish\"], \"country\": \"AU\", \"date\": \"2013-08-19\", \"guess\": \"Polish\", \"sample\": \"98890a26d68bcf75f6087566971f126f\", \"target\": \"Polish\"}\n",
      "{\"choices\": [\"Amharic\", \"Maltese\", \"Farsi\", \"Slovak\"], \"country\": \"AU\", \"date\": \"2013-08-19\", \"guess\": \"Farsi\", \"sample\": \"2c5efbd7364036976ec403a9ee36f614\", \"target\": \"Slovak\"}\n",
      "{\"choices\": [\"Bulgarian\", \"Maori\", \"Latvian\", \"Russian\"], \"country\": \"AU\", \"date\": \"2013-08-19\", \"guess\": \"Latvian\", \"sample\": \"447bcafdbe5d7d69e0db72ab5bfa043a\", \"target\": \"Latvian\"}\n",
      "{\"choices\": [\"Albanian\", \"Amharic\", \"Malay\", \"Tongan\"], \"country\": \"AU\", \"date\": \"2013-08-19\", \"guess\": \"Malay\", \"sample\": \"6650448a5456ba88ea0971f2265f2bc7\", \"target\": \"Malay\"}\n",
      "{\"choices\": [\"Dinka\", \"Khmer\", \"Polish\", \"Urdu\"], \"country\": \"AU\", \"date\": \"2013-08-19\", \"guess\": \"Khmer\", \"sample\": \"84f7df7508e423234fd1adec4f84e528\", \"target\": \"Khmer\"}\n",
      "{\"choices\": [\"Armenian\", \"Dinka\", \"Farsi\", \"Portuguese\"], \"country\": \"AU\", \"date\": \"2013-08-19\", \"guess\": \"Farsi\", \"sample\": \"e4588d7c735b9a87d93ada6d24a7bd53\", \"target\": \"Armenian\"}\n",
      "{\"choices\": [\"Tagalog\", \"French\", \"Hebrew\", \"Romanian\"], \"country\": \"AU\", \"date\": \"2013-08-19\", \"guess\": \"Romanian\", \"sample\": \"6560ff4ce0b53a1b0bad2e7734f52381\", \"target\": \"Romanian\"}\n",
      "{\"choices\": [\"Burmese\", \"Dinka\", \"Greek\", \"Indonesian\"], \"country\": \"AU\", \"date\": \"2013-08-19\", \"guess\": \"Burmese\", \"sample\": \"192e7c59bb734ee762a323219846295b\", \"target\": \"Dinka\"}\n",
      "{\"choices\": [\"Cantonese\", \"Gujarati\", \"Italian\", \"Sinhalese\"], \"country\": \"AU\", \"date\": \"2013-08-19\", \"guess\": \"Gujarati\", \"sample\": \"56ecf19cff578aa76b81edb580ff343f\", \"target\": \"Gujarati\"}\n",
      "{\"choices\": [\"Armenian\", \"Finnish\", \"Italian\", \"Mandarin\"], \"country\": \"AU\", \"date\": \"2013-08-19\", \"guess\": \"Mandarin\", \"sample\": \"fc3712715ddc748286256eb7a64f25ab\", \"target\": \"Mandarin\"}\n",
      "{\"choices\": [\"Japanese\", \"Sinhalese\", \"Swahili\", \"Vietnamese\"], \"country\": \"AU\", \"date\": \"2013-08-19\", \"guess\": \"Japanese\", \"sample\": \"3569611136ea04bab18a0cd605ced358\", \"target\": \"Japanese\"}\n",
      "{\"choices\": [\"Dinka\", \"Samoan\", \"Somali\", \"Tongan\"], \"country\": \"AU\", \"date\": \"2013-08-19\", \"guess\": \"Tongan\", \"sample\": \"838cfe7f928e1a41710e01b3ee12088f\", \"target\": \"Tongan\"}\n",
      "{\"choices\": [\"Bulgarian\", \"Mandarin\", \"Nepali\", \"Tamil\"], \"country\": \"AU\", \"date\": \"2013-08-19\", \"guess\": \"Nepali\", \"sample\": \"faa86f6efaf2ee67f95239685d26fd88\", \"target\": \"Nepali\"}\n",
      "{\"choices\": [\"Maori\", \"Estonian\", \"Nepali\", \"Portuguese\"], \"country\": \"AU\", \"date\": \"2013-08-19\", \"guess\": \"Estonian\", \"sample\": \"1e94210c21a6af48b9c418a7d6380a1c\", \"target\": \"Maori\"}\n",
      "{\"choices\": [\"Danish\", \"Latvian\", \"Norwegian\", \"Sinhalese\"], \"country\": \"AU\", \"date\": \"2013-08-19\", \"guess\": \"Latvian\", \"sample\": \"c4d4db8bf910cf4350fc87b3f3667976\", \"target\": \"Sinhalese\"}\n",
      "{\"choices\": [\"Indonesian\", \"Nepali\", \"Sinhalese\", \"Turkish\"], \"country\": \"AU\", \"date\": \"2013-08-19\", \"guess\": \"Nepali\", \"sample\": \"e178a0abbbb171d9b785d8350a45f203\", \"target\": \"Nepali\"}\n",
      "{\"choices\": [\"Dutch\", \"Hindi\", \"Lao\", \"Norwegian\"], \"country\": \"AU\", \"date\": \"2013-08-20\", \"guess\": \"Norwegian\", \"sample\": \"48f9c924e0d98c959d8a6f1862b3ce9a\", \"target\": \"Norwegian\"}\n",
      "{\"choices\": [\"Finnish\", \"Hebrew\", \"Malay\", \"Urdu\"], \"country\": \"AU\", \"date\": \"2013-08-20\", \"guess\": \"Hebrew\", \"sample\": \"1dc9a1bf90e4e788906dc716dc18d878\", \"target\": \"Hebrew\"}\n",
      "{\"choices\": [\"Dutch\", \"Finnish\", \"Ukrainian\", \"Yiddish\"], \"country\": \"AU\", \"date\": \"2013-08-20\", \"guess\": \"Ukrainian\", \"sample\": \"064ca74dff16ce8dade4a7acdc0def8a\", \"target\": \"Ukrainian\"}\n",
      "{\"choices\": [\"Arabic\", \"Korean\", \"Punjabi\", \"Vietnamese\"], \"country\": \"AU\", \"date\": \"2013-08-20\", \"guess\": \"Vietnamese\", \"sample\": \"8ea6892d1ddca321adc07b05176e3605\", \"target\": \"Vietnamese\"}\n",
      "{\"choices\": [\"Dutch\", \"French\", \"Kannada\", \"Serbian\"], \"country\": \"AU\", \"date\": \"2013-08-20\", \"guess\": \"Dutch\", \"sample\": \"bf0f1eec2e9f147aba20ea9b3e9564bb\", \"target\": \"Dutch\"}\n",
      "{\"choices\": [\"Cantonese\", \"Polish\", \"Portuguese\", \"Punjabi\"], \"country\": \"AU\", \"date\": \"2013-08-20\", \"guess\": \"Portuguese\", \"sample\": \"5fd851c9e87a6b9b9da9eb2ab0de6686\", \"target\": \"Portuguese\"}\n",
      "{\"choices\": [\"Dari\", \"Serbian\", \"Sinhalese\", \"Vietnamese\"], \"country\": \"AU\", \"date\": \"2013-08-20\", \"guess\": \"Dari\", \"sample\": \"0d5b697ebb326b5043ce7fa60a7b968d\", \"target\": \"Serbian\"}\n",
      "{\"choices\": [\"French\", \"Kannada\", \"Nepali\", \"Sinhalese\"], \"country\": \"AU\", \"date\": \"2013-08-20\", \"guess\": \"Nepali\", \"sample\": \"e178a0abbbb171d9b785d8350a45f203\", \"target\": \"Nepali\"}\n",
      "{\"choices\": [\"Amharic\", \"Czech\", \"Korean\", \"Macedonian\"], \"country\": \"AU\", \"date\": \"2013-08-20\", \"guess\": \"Czech\", \"sample\": \"9769bab1b0b25eb730c704ef42a3e7a6\", \"target\": \"Czech\"}\n",
      "{\"choices\": [\"Kannada\", \"Kurdish\", \"Latvian\", \"Tongan\"], \"country\": \"AU\", \"date\": \"2013-08-20\", \"guess\": \"Kurdish\", \"sample\": \"8df0a7cae5bb52d889fdbab7def4b5aa\", \"target\": \"Kurdish\"}\n",
      "{\"choices\": [\"Maori\", \"Czech\", \"Kurdish\", \"Tongan\"], \"country\": \"AU\", \"date\": \"2013-08-20\", \"guess\": \"Czech\", \"sample\": \"1787b5c79a00b3513ce76847bc1f5b75\", \"target\": \"Czech\"}\n",
      "{\"choices\": [\"Tagalog\", \"French\", \"Latvian\", \"Slovenian\"], \"country\": \"AU\", \"date\": \"2013-08-20\", \"guess\": \"Latvian\", \"sample\": \"447bcafdbe5d7d69e0db72ab5bfa043a\", \"target\": \"Latvian\"}\n",
      "{\"choices\": [\"Lao\", \"Maltese\", \"Swedish\", \"Ukrainian\"], \"country\": \"AU\", \"date\": \"2013-08-20\", \"guess\": \"Swedish\", \"sample\": \"dfe8192c1bbd80b44ea4409d9889dc90\", \"target\": \"Swedish\"}\n",
      "{\"choices\": [\"Assyrian\", \"Burmese\", \"Khmer\", \"Russian\"], \"country\": \"AU\", \"date\": \"2013-08-20\", \"guess\": \"Khmer\", \"sample\": \"31cba304794d1828c93d7b3c63aa840a\", \"target\": \"Burmese\"}\n",
      "{\"choices\": [\"Japanese\", \"Malay\", \"Maltese\", \"Ukrainian\"], \"country\": \"AU\", \"date\": \"2013-08-20\", \"guess\": \"Malay\", \"sample\": \"3569611136ea04bab18a0cd605ced358\", \"target\": \"Japanese\"}\n",
      "{\"choices\": [\"Amharic\", \"Maori\", \"German\", \"Kannada\"], \"country\": \"AU\", \"date\": \"2013-08-20\", \"guess\": \"Amharic\", \"sample\": \"1e94210c21a6af48b9c418a7d6380a1c\", \"target\": \"Maori\"}\n",
      "{\"choices\": [\"Finnish\", \"Somali\", \"Turkish\", \"Urdu\"], \"country\": \"AU\", \"date\": \"2013-08-20\", \"guess\": \"Turkish\", \"sample\": \"752c4c30d475748a342c68ebfba24d1e\", \"target\": \"Turkish\"}\n",
      "{\"choices\": [\"Burmese\", \"Czech\", \"Fijian\", \"Somali\"], \"country\": \"AU\", \"date\": \"2013-08-20\", \"guess\": \"Somali\", \"sample\": \"93b8857d01978401e679f0bde0a7b5b0\", \"target\": \"Fijian\"}\n",
      "{\"choices\": [\"Gujarati\", \"Norwegian\", \"Sinhalese\", \"Tamil\"], \"country\": \"AU\", \"date\": \"2013-08-20\", \"guess\": \"Tamil\", \"sample\": \"755de9092b301614712fae5e1d2d47d3\", \"target\": \"Sinhalese\"}\n",
      "{\"choices\": [\"Cantonese\", \"Dari\", \"Nepali\", \"Spanish\"], \"country\": \"AU\", \"date\": \"2013-08-20\", \"guess\": \"Nepali\", \"sample\": \"da6ed723fe60684a231c3e22a42610a7\", \"target\": \"Cantonese\"}\n",
      "{\"choices\": [\"Arabic\", \"Cantonese\", \"Maltese\", \"Samoan\"], \"country\": \"AU\", \"date\": \"2013-08-20\", \"guess\": \"Arabic\", \"sample\": \"83c6ffcb085ce9c18c0e2aff00dda865\", \"target\": \"Arabic\"}\n",
      "{\"choices\": [\"Amharic\", \"Cantonese\", \"Fijian\", \"Kurdish\"], \"country\": \"AU\", \"date\": \"2013-08-20\", \"guess\": \"Amharic\", \"sample\": \"50a52cc16828c9cd27b9c26c75974e6d\", \"target\": \"Amharic\"}\n",
      "{\"choices\": [\"Tagalog\", \"Hebrew\", \"Hungarian\", \"Latvian\"], \"country\": \"AU\", \"date\": \"2013-08-20\", \"guess\": \"Hungarian\", \"sample\": \"5e609abac81edbf76a58bc1d2a850f12\", \"target\": \"Latvian\"}\n",
      "{\"choices\": [\"Tagalog\", \"Gujarati\", \"Portuguese\", \"Sinhalese\"], \"country\": \"AU\", \"date\": \"2013-08-20\", \"guess\": \"Gujarati\", \"sample\": \"650061b92e1bf9fc20bc9757f333ddbb\", \"target\": \"Sinhalese\"}\n",
      "{\"choices\": [\"Gujarati\", \"Latvian\", \"Russian\", \"Tamil\"], \"country\": \"AU\", \"date\": \"2013-08-20\", \"guess\": \"Gujarati\", \"sample\": \"447bcafdbe5d7d69e0db72ab5bfa043a\", \"target\": \"Latvian\"}\n",
      "{\"choices\": [\"Dari\", \"Tagalog\", \"Slovenian\", \"Spanish\"], \"country\": \"AU\", \"date\": \"2013-08-20\", \"guess\": \"Spanish\", \"sample\": \"dc3ace49393de518e87d4f8d3ae8d9db\", \"target\": \"Spanish\"}\n",
      "{\"choices\": [\"Czech\", \"Dinka\", \"Farsi\", \"Somali\"], \"country\": \"AU\", \"date\": \"2013-08-20\", \"guess\": \"Farsi\", \"sample\": \"c73ee42a45debb00fbcc86eb29682757\", \"target\": \"Farsi\"}\n",
      "{\"choices\": [\"Bosnian\", \"Estonian\", \"Kurdish\", \"Nepali\"], \"country\": \"AU\", \"date\": \"2013-08-20\", \"guess\": \"Nepali\", \"sample\": \"faa86f6efaf2ee67f95239685d26fd88\", \"target\": \"Nepali\"}\n",
      "{\"choices\": [\"Assyrian\", \"Bangla\", \"Nepali\", \"Tamil\"], \"country\": \"AU\", \"date\": \"2013-08-20\", \"guess\": \"Tamil\", \"sample\": \"cc305dcad696147e28c6f36615aa0952\", \"target\": \"Tamil\"}\n",
      "{\"choices\": [\"Armenian\", \"Dutch\", \"Estonian\", \"Ukrainian\"], \"country\": \"AU\", \"date\": \"2013-08-20\", \"guess\": \"Estonian\", \"sample\": \"064ca74dff16ce8dade4a7acdc0def8a\", \"target\": \"Ukrainian\"}\n",
      "{\"choices\": [\"Estonian\", \"Khmer\", \"Latvian\", \"Thai\"], \"country\": \"AU\", \"date\": \"2013-08-20\", \"guess\": \"Khmer\", \"sample\": \"714795c596ef0639a385fe620d2c42ab\", \"target\": \"Khmer\"}\n",
      "{\"choices\": [\"Mandarin\", \"Polish\", \"Portuguese\", \"Romanian\"], \"country\": \"AU\", \"date\": \"2013-08-20\", \"guess\": \"Portuguese\", \"sample\": \"6560ff4ce0b53a1b0bad2e7734f52381\", \"target\": \"Romanian\"}\n",
      "{\"choices\": [\"Croatian\", \"Dinka\", \"French\", \"Hungarian\"], \"country\": \"AU\", \"date\": \"2013-08-20\", \"guess\": \"French\", \"sample\": \"92f9e1c17e6df988780527341fdb471d\", \"target\": \"French\"}\n",
      "{\"choices\": [\"Khmer\", \"Maltese\", \"Norwegian\", \"Swedish\"], \"country\": \"AU\", \"date\": \"2013-08-20\", \"guess\": \"Maltese\", \"sample\": \"589feca2e2009ad2e63458f17568cd13\", \"target\": \"Maltese\"}\n",
      "{\"choices\": [\"Fijian\", \"Hebrew\", \"Samoan\", \"Ukrainian\"], \"country\": \"AU\", \"date\": \"2013-08-20\", \"guess\": \"Hebrew\", \"sample\": \"1dc9a1bf90e4e788906dc716dc18d878\", \"target\": \"Hebrew\"}\n",
      "{\"choices\": [\"Dinka\", \"Norwegian\", \"Sinhalese\", \"Urdu\"], \"country\": \"AU\", \"date\": \"2013-08-20\", \"guess\": \"Sinhalese\", \"sample\": \"192e7c59bb734ee762a323219846295b\", \"target\": \"Dinka\"}\n",
      "{\"choices\": [\"Bosnian\", \"Latvian\", \"Spanish\", \"Vietnamese\"], \"country\": \"AU\", \"date\": \"2013-08-20\", \"guess\": \"Spanish\", \"sample\": \"421df072ac5abde4883d50b1fc789b14\", \"target\": \"Bosnian\"}\n"
     ]
    }
   ],
   "source": [
    "%%rumble\n",
    "for $i in json-file(\"/home/confusion-100000.json\", 10)\n",
    "return $i"
   ]
  },
  {
   "cell_type": "markdown",
   "metadata": {
    "id": "oDF2EAwwAwTM"
   },
   "source": [
    "## 4.2 SQL to Rumble"
   ]
  },
  {
   "cell_type": "markdown",
   "metadata": {
    "id": "W2ppgHl4d-kt"
   },
   "source": [
    "The following examples, show how SQL queries can be converted to JSONiq queries. Assume that the dataset is accessible with SQL through the table \"entries\".\n",
    "\n",
    "\n",
    "\n"
   ]
  },
  {
   "cell_type": "markdown",
   "metadata": {
    "id": "P8q9Rwq8IzPn"
   },
   "source": [
    "### 4.2.1 Get all games played from Switzerland\n",
    "\n",
    "\n",
    "```sql\n",
    "SELECT *\n",
    "FROM entries\n",
    "WHERE country == \"CH\"\n",
    "```\n"
   ]
  },
  {
   "cell_type": "code",
   "execution_count": 40,
   "metadata": {
    "id": "A3ZQK0gVHkoI"
   },
   "outputs": [
    {
     "name": "stdout",
     "output_type": "stream",
     "text": [
      "Took: 1.3356537818908691 s\n",
      "\"Warning! The output sequence contains 308 items but its materialization was capped at 200 items. This value can be configured with the result-size parameter in the query string of the HTTP request.\"\n",
      "{\"choices\": [\"Amharic\", \"Dari\"], \"country\": \"CH\", \"date\": \"2013-09-01\", \"guess\": \"Amharic\", \"sample\": \"9b1340b8343bb267783e1bfb2dc55bf1\", \"target\": \"Amharic\"}\n",
      "{\"choices\": [\"Burmese\", \"Korean\"], \"country\": \"CH\", \"date\": \"2013-09-01\", \"guess\": \"Korean\", \"sample\": \"0f8e6818d2be77b75712bc9ea4e87171\", \"target\": \"Korean\"}\n",
      "{\"choices\": [\"Farsi\", \"Thai\"], \"country\": \"CH\", \"date\": \"2013-09-01\", \"guess\": \"Thai\", \"sample\": \"74b5340a230b1e0c1d45787bc4280b05\", \"target\": \"Thai\"}\n",
      "{\"choices\": [\"Finnish\", \"German\", \"Hungarian\"], \"country\": \"CH\", \"date\": \"2013-09-01\", \"guess\": \"Finnish\", \"sample\": \"cb1a1c1c93ab6e802560855ca5f015f7\", \"target\": \"Hungarian\"}\n",
      "{\"choices\": [\"Czech\", \"Japanese\", \"Russian\"], \"country\": \"CH\", \"date\": \"2013-09-01\", \"guess\": \"Russian\", \"sample\": \"b7df3f9d67cef259fbcaa5abcad9d774\", \"target\": \"Russian\"}\n",
      "{\"choices\": [\"Albanian\", \"Punjabi\", \"Swahili\"], \"country\": \"CH\", \"date\": \"2013-09-01\", \"guess\": \"Punjabi\", \"sample\": \"d720bf82f29b3f6d835a4f7dcb9c2dcb\", \"target\": \"Swahili\"}\n",
      "{\"choices\": [\"Croatian\", \"Danish\", \"Swedish\"], \"country\": \"CH\", \"date\": \"2013-09-01\", \"guess\": \"Swedish\", \"sample\": \"2ca0534b652c09262b71bced44b4afd7\", \"target\": \"Danish\"}\n",
      "{\"choices\": [\"Cantonese\", \"Italian\"], \"country\": \"CH\", \"date\": \"2013-09-02\", \"guess\": \"Cantonese\", \"sample\": \"203628f42619d301e642b3553b7a684a\", \"target\": \"Cantonese\"}\n",
      "{\"choices\": [\"Burmese\", \"Danish\"], \"country\": \"CH\", \"date\": \"2013-09-02\", \"guess\": \"Danish\", \"sample\": \"2a7c43c1d50df8ab3d92f0bcacc637f9\", \"target\": \"Danish\"}\n",
      "{\"choices\": [\"Lao\", \"Spanish\"], \"country\": \"CH\", \"date\": \"2013-09-02\", \"guess\": \"Lao\", \"sample\": \"b5aa4ea31e44899dc4d58d4a35e05504\", \"target\": \"Lao\"}\n",
      "{\"choices\": [\"Arabic\", \"Punjabi\", \"Sinhalese\"], \"country\": \"CH\", \"date\": \"2013-09-02\", \"guess\": \"Arabic\", \"sample\": \"755de9092b301614712fae5e1d2d47d3\", \"target\": \"Sinhalese\"}\n",
      "{\"choices\": [\"Gujarati\", \"Swahili\", \"Ukrainian\"], \"country\": \"CH\", \"date\": \"2013-09-02\", \"guess\": \"Ukrainian\", \"sample\": \"064ca74dff16ce8dade4a7acdc0def8a\", \"target\": \"Ukrainian\"}\n",
      "{\"choices\": [\"Bangla\", \"Italian\", \"Tagalog\"], \"country\": \"CH\", \"date\": \"2013-09-02\", \"guess\": \"Bangla\", \"sample\": \"2097edfb7d3a9b59fffad5ddc8aea4d4\", \"target\": \"Bangla\"}\n",
      "{\"choices\": [\"Amharic\", \"Hebrew\", \"Tigrinya\"], \"country\": \"CH\", \"date\": \"2013-09-02\", \"guess\": \"Hebrew\", \"sample\": \"1dc9a1bf90e4e788906dc716dc18d878\", \"target\": \"Hebrew\"}\n",
      "{\"choices\": [\"Armenian\", \"Burmese\", \"Dinka\", \"Dutch\"], \"country\": \"CH\", \"date\": \"2013-09-02\", \"guess\": \"Dutch\", \"sample\": \"65bf2aceadf2520f36a5e548a0471fcf\", \"target\": \"Dutch\"}\n",
      "{\"choices\": [\"Albanian\", \"Dinka\", \"Italian\", \"Kannada\"], \"country\": \"CH\", \"date\": \"2013-09-02\", \"guess\": \"Italian\", \"sample\": \"efcd813daec1c836d9f030b30caa07ce\", \"target\": \"Albanian\"}\n",
      "{\"choices\": [\"Dari\", \"Norwegian\", \"Serbian\", \"Urdu\"], \"country\": \"CH\", \"date\": \"2013-09-02\", \"guess\": \"Norwegian\", \"sample\": \"ac81d9c1d39252811bf5d9fcfddc2231\", \"target\": \"Serbian\"}\n",
      "{\"choices\": [\"Nepali\", \"Turkish\"], \"country\": \"CH\", \"date\": \"2013-09-02\", \"guess\": \"Turkish\", \"sample\": \"d8a4ee3f4b430af016b2dc5902fccd75\", \"target\": \"Nepali\"}\n",
      "{\"choices\": [\"Lao\", \"Tamil\"], \"country\": \"CH\", \"date\": \"2013-09-02\", \"guess\": \"Lao\", \"sample\": \"4cf041f244960196b98c7d6ae8c79ed3\", \"target\": \"Lao\"}\n",
      "{\"choices\": [\"Burmese\", \"Finnish\"], \"country\": \"CH\", \"date\": \"2013-09-02\", \"guess\": \"Finnish\", \"sample\": \"65b5bf9df0f8ec61111d20c6b48db671\", \"target\": \"Finnish\"}\n",
      "{\"choices\": [\"Amharic\", \"Greek\"], \"country\": \"CH\", \"date\": \"2013-09-02\", \"guess\": \"Greek\", \"sample\": \"4d83917583d5f4b47486f508bb2b8e7e\", \"target\": \"Amharic\"}\n",
      "{\"choices\": [\"Hindi\", \"Mandarin\"], \"country\": \"CH\", \"date\": \"2013-09-02\", \"guess\": \"Mandarin\", \"sample\": \"d741b71a302261bdd5571023ee8e5131\", \"target\": \"Mandarin\"}\n",
      "{\"choices\": [\"Cantonese\", \"Maltese\"], \"country\": \"CH\", \"date\": \"2013-09-02\", \"guess\": \"Maltese\", \"sample\": \"da6ed723fe60684a231c3e22a42610a7\", \"target\": \"Cantonese\"}\n",
      "{\"choices\": [\"Bulgarian\", \"Indonesian\"], \"country\": \"CH\", \"date\": \"2013-09-02\", \"guess\": \"Bulgarian\", \"sample\": \"69a5c674fe40942aaae4d10c9df46ee0\", \"target\": \"Bulgarian\"}\n",
      "{\"choices\": [\"Bosnian\", \"Dutch\", \"Lao\"], \"country\": \"CH\", \"date\": \"2013-09-02\", \"guess\": \"Lao\", \"sample\": \"4cf041f244960196b98c7d6ae8c79ed3\", \"target\": \"Lao\"}\n",
      "{\"choices\": [\"Fijian\", \"Malay\"], \"country\": \"CH\", \"date\": \"2013-09-02\", \"guess\": \"Malay\", \"sample\": \"f53c7596c141ee6d5d2b3ab90361f802\", \"target\": \"Fijian\"}\n",
      "{\"choices\": [\"Korean\", \"Maltese\", \"Sinhalese\"], \"country\": \"CH\", \"date\": \"2013-09-02\", \"guess\": \"Korean\", \"sample\": \"ec371adb75ab6c7431adae3ef8fc9fc9\", \"target\": \"Korean\"}\n",
      "{\"choices\": [\"Arabic\", \"Dutch\", \"Ukrainian\"], \"country\": \"CH\", \"date\": \"2013-09-02\", \"guess\": \"Ukrainian\", \"sample\": \"590cc524a179707e101ac84848523c4a\", \"target\": \"Ukrainian\"}\n",
      "{\"choices\": [\"Farsi\", \"French\", \"Tagalog\", \"Turkish\"], \"country\": \"CH\", \"date\": \"2013-09-02\", \"guess\": \"French\", \"sample\": \"a892b7fd27c34fc81b65c0bb93113846\", \"target\": \"French\"}\n",
      "{\"choices\": [\"Indonesian\", \"Maori\", \"Serbian\", \"Swahili\"], \"country\": \"CH\", \"date\": \"2013-09-02\", \"guess\": \"Maori\", \"sample\": \"90ae678a85eac78bc4b4f52809a7c09d\", \"target\": \"Maori\"}\n",
      "{\"choices\": [\"Italian\", \"Mandarin\", \"Samoan\", \"Tamil\"], \"country\": \"CH\", \"date\": \"2013-09-02\", \"guess\": \"Samoan\", \"sample\": \"cd9592f5c1899461ee5defa7423458b6\", \"target\": \"Samoan\"}\n",
      "{\"choices\": [\"Danish\", \"Hungarian\", \"Norwegian\", \"Slovenian\", \"Swedish\"], \"country\": \"CH\", \"date\": \"2013-09-02\", \"guess\": \"Hungarian\", \"sample\": \"f2f07eb5c50e64c627f66566b3c7cc4a\", \"target\": \"Slovenian\"}\n",
      "{\"choices\": [\"Czech\", \"French\"], \"country\": \"CH\", \"date\": \"2013-09-02\", \"guess\": \"French\", \"sample\": \"9b2e27d1ff24961daaa87fa439a00c06\", \"target\": \"French\"}\n",
      "{\"choices\": [\"Amharic\", \"Korean\"], \"country\": \"CH\", \"date\": \"2013-09-02\", \"guess\": \"Korean\", \"sample\": \"871c938ad3b1243f42eec04057930d7e\", \"target\": \"Korean\"}\n",
      "{\"choices\": [\"Fijian\", \"Khmer\"], \"country\": \"CH\", \"date\": \"2013-09-02\", \"guess\": \"Khmer\", \"sample\": \"714795c596ef0639a385fe620d2c42ab\", \"target\": \"Khmer\"}\n",
      "{\"choices\": [\"Croatian\", \"Turkish\"], \"country\": \"CH\", \"date\": \"2013-09-02\", \"guess\": \"Turkish\", \"sample\": \"ee702400fc1f020752ba3381a1b3cf9b\", \"target\": \"Turkish\"}\n",
      "{\"choices\": [\"Amharic\", \"Czech\"], \"country\": \"CH\", \"date\": \"2013-09-02\", \"guess\": \"Czech\", \"sample\": \"9769bab1b0b25eb730c704ef42a3e7a6\", \"target\": \"Czech\"}\n",
      "{\"choices\": [\"Croatian\", \"Slovak\", \"Thai\"], \"country\": \"CH\", \"date\": \"2013-09-02\", \"guess\": \"Slovak\", \"sample\": \"2c5efbd7364036976ec403a9ee36f614\", \"target\": \"Slovak\"}\n",
      "{\"choices\": [\"French\", \"Latvian\", \"Slovenian\"], \"country\": \"CH\", \"date\": \"2013-09-02\", \"guess\": \"Latvian\", \"sample\": \"539d72aa7f2e6971b2e927c5816cd7a7\", \"target\": \"Slovenian\"}\n",
      "{\"choices\": [\"Korean\", \"Maori\", \"Somali\"], \"country\": \"CH\", \"date\": \"2013-09-02\", \"guess\": \"Somali\", \"sample\": \"e0d71c2632a4fe69b42a49c8aeeec811\", \"target\": \"Maori\"}\n",
      "{\"choices\": [\"Bangla\", \"Estonian\", \"Hindi\"], \"country\": \"CH\", \"date\": \"2013-09-02\", \"guess\": \"Estonian\", \"sample\": \"b7e986bd3a0d5fd1db661e3bedf36111\", \"target\": \"Estonian\"}\n",
      "{\"choices\": [\"Indonesian\", \"Maltese\"], \"country\": \"CH\", \"date\": \"2013-09-02\", \"guess\": \"Indonesian\", \"sample\": \"36d2f4e9173e2d4cad8b8594310c856b\", \"target\": \"Maltese\"}\n",
      "{\"choices\": [\"Assyrian\", \"Italian\", \"Malayalam\"], \"country\": \"CH\", \"date\": \"2013-09-02\", \"guess\": \"Assyrian\", \"sample\": \"ccebbc271377f7173e39564c74901f7c\", \"target\": \"Assyrian\"}\n",
      "{\"choices\": [\"Arabic\", \"Assyrian\", \"Khmer\", \"Yiddish\"], \"country\": \"CH\", \"date\": \"2013-09-02\", \"guess\": \"Arabic\", \"sample\": \"16ac545260ae198b7a3d882e06e5f261\", \"target\": \"Assyrian\"}\n",
      "{\"choices\": [\"Kannada\", \"Portuguese\"], \"country\": \"CH\", \"date\": \"2013-09-02\", \"guess\": \"Kannada\", \"sample\": \"1d7fea3522c8607f5ec4168b2a5cd206\", \"target\": \"Portuguese\"}\n",
      "{\"choices\": [\"Finnish\", \"Serbian\", \"Tagalog\", \"Vietnamese\"], \"country\": \"CH\", \"date\": \"2013-09-02\", \"guess\": \"Serbian\", \"sample\": \"ac81d9c1d39252811bf5d9fcfddc2231\", \"target\": \"Serbian\"}\n",
      "{\"choices\": [\"Khmer\", \"Somali\"], \"country\": \"CH\", \"date\": \"2013-09-02\", \"guess\": \"Khmer\", \"sample\": \"ee5ffba9c5cf1d6a1e2d95b0220c06d4\", \"target\": \"Somali\"}\n",
      "{\"choices\": [\"Kurdish\", \"Latvian\", \"Malayalam\", \"Slovak\"], \"country\": \"CH\", \"date\": \"2013-09-02\", \"guess\": \"Latvian\", \"sample\": \"447bcafdbe5d7d69e0db72ab5bfa043a\", \"target\": \"Latvian\"}\n",
      "{\"choices\": [\"Norwegian\", \"Spanish\"], \"country\": \"CH\", \"date\": \"2013-09-02\", \"guess\": \"Spanish\", \"sample\": \"dc3ace49393de518e87d4f8d3ae8d9db\", \"target\": \"Spanish\"}\n",
      "{\"choices\": [\"Danish\", \"Russian\"], \"country\": \"CH\", \"date\": \"2013-09-02\", \"guess\": \"Danish\", \"sample\": \"2ca0534b652c09262b71bced44b4afd7\", \"target\": \"Danish\"}\n",
      "{\"choices\": [\"Albanian\", \"Latvian\", \"Russian\", \"Turkish\"], \"country\": \"CH\", \"date\": \"2013-09-02\", \"guess\": \"Russian\", \"sample\": \"b7df3f9d67cef259fbcaa5abcad9d774\", \"target\": \"Russian\"}\n",
      "{\"choices\": [\"Farsi\", \"Portuguese\"], \"country\": \"CH\", \"date\": \"2013-09-02\", \"guess\": \"Portuguese\", \"sample\": \"1d7fea3522c8607f5ec4168b2a5cd206\", \"target\": \"Portuguese\"}\n",
      "{\"choices\": [\"Burmese\", \"Czech\", \"Finnish\", \"Somali\", \"Tagalog\"], \"country\": \"CH\", \"date\": \"2013-09-02\", \"guess\": \"Czech\", \"sample\": \"1787b5c79a00b3513ce76847bc1f5b75\", \"target\": \"Czech\"}\n",
      "{\"choices\": [\"Dari\", \"Russian\", \"Serbian\"], \"country\": \"CH\", \"date\": \"2013-09-02\", \"guess\": \"Russian\", \"sample\": \"b7df3f9d67cef259fbcaa5abcad9d774\", \"target\": \"Russian\"}\n",
      "{\"choices\": [\"Albanian\", \"Burmese\", \"Czech\", \"French\", \"Malayalam\"], \"country\": \"CH\", \"date\": \"2013-09-02\", \"guess\": \"Burmese\", \"sample\": \"30839a9f51bf6fb209b527cc42a35899\", \"target\": \"Burmese\"}\n",
      "{\"choices\": [\"Dari\", \"Slovenian\", \"Yiddish\"], \"country\": \"CH\", \"date\": \"2013-09-02\", \"guess\": \"Dari\", \"sample\": \"33f2084165c0cca6303b45440623c88c\", \"target\": \"Dari\"}\n",
      "{\"choices\": [\"Burmese\", \"Farsi\", \"Khmer\"], \"country\": \"CH\", \"date\": \"2013-09-02\", \"guess\": \"Khmer\", \"sample\": \"84f7df7508e423234fd1adec4f84e528\", \"target\": \"Khmer\"}\n",
      "{\"choices\": [\"Assyrian\", \"Estonian\", \"Norwegian\", \"Tigrinya\", \"Ukrainian\"], \"country\": \"CH\", \"date\": \"2013-09-02\", \"guess\": \"Assyrian\", \"sample\": \"3ec316c78773bb826dd924926f5c0d07\", \"target\": \"Tigrinya\"}\n",
      "{\"choices\": [\"Croatian\", \"Hindi\", \"Spanish\", \"Tagalog\"], \"country\": \"CH\", \"date\": \"2013-09-02\", \"guess\": \"Spanish\", \"sample\": \"c57afc7ca3b4a454bf53dbca84bb4523\", \"target\": \"Spanish\"}\n",
      "{\"choices\": [\"Macedonian\", \"Maltese\", \"Polish\", \"Swahili\"], \"country\": \"CH\", \"date\": \"2013-09-02\", \"guess\": \"Polish\", \"sample\": \"98890a26d68bcf75f6087566971f126f\", \"target\": \"Polish\"}\n",
      "{\"choices\": [\"Estonian\", \"Kurdish\", \"Maltese\", \"Nepali\"], \"country\": \"CH\", \"date\": \"2013-09-02\", \"guess\": \"Estonian\", \"sample\": \"b8e22e10dbc944d7aaa9c00414c70be8\", \"target\": \"Estonian\"}\n",
      "{\"choices\": [\"Finnish\", \"Italian\"], \"country\": \"CH\", \"date\": \"2013-09-02\", \"guess\": \"Italian\", \"sample\": \"88f3e5120091cffdf8abeb92b5da90a2\", \"target\": \"Italian\"}\n",
      "{\"choices\": [\"Arabic\", \"Hebrew\", \"Russian\", \"Slovenian\", \"Swedish\"], \"country\": \"CH\", \"date\": \"2013-09-02\", \"guess\": \"Hebrew\", \"sample\": \"157085744728e35079622c71804cf722\", \"target\": \"Hebrew\"}\n",
      "{\"choices\": [\"Czech\", \"Tagalog\"], \"country\": \"CH\", \"date\": \"2013-09-02\", \"guess\": \"Czech\", \"sample\": \"56626a14b479e47d5eb9568161dad285\", \"target\": \"Czech\"}\n",
      "{\"choices\": [\"Bosnian\", \"Finnish\", \"Japanese\", \"Korean\", \"Tamil\"], \"country\": \"CH\", \"date\": \"2013-09-02\", \"guess\": \"Finnish\", \"sample\": \"4a3dfa40ed621940a0a38408956b86e0\", \"target\": \"Finnish\"}\n",
      "{\"choices\": [\"Portuguese\", \"Vietnamese\"], \"country\": \"CH\", \"date\": \"2013-09-02\", \"guess\": \"Portuguese\", \"sample\": \"439672210d1feb96e012590ff2a73590\", \"target\": \"Portuguese\"}\n",
      "{\"choices\": [\"Croatian\", \"Estonian\", \"Indonesian\", \"Malay\", \"Spanish\"], \"country\": \"CH\", \"date\": \"2013-09-02\", \"guess\": \"Estonian\", \"sample\": \"bd3eefed0e12797c6e2b45b8db8d88d9\", \"target\": \"Croatian\"}\n",
      "{\"choices\": [\"Danish\", \"Hungarian\", \"Indonesian\"], \"country\": \"CH\", \"date\": \"2013-09-02\", \"guess\": \"Danish\", \"sample\": \"2a7c43c1d50df8ab3d92f0bcacc637f9\", \"target\": \"Danish\"}\n",
      "{\"choices\": [\"Bangla\", \"Hungarian\", \"Norwegian\", \"Thai\", \"Tigrinya\"], \"country\": \"CH\", \"date\": \"2013-09-02\", \"guess\": \"Thai\", \"sample\": \"a1fcc86068b72ed9d9f1c0b291d7819d\", \"target\": \"Tigrinya\"}\n",
      "{\"choices\": [\"Bangla\", \"Kannada\", \"Portuguese\"], \"country\": \"CH\", \"date\": \"2013-09-02\", \"guess\": \"Portuguese\", \"sample\": \"5fd851c9e87a6b9b9da9eb2ab0de6686\", \"target\": \"Portuguese\"}\n",
      "{\"choices\": [\"Indonesian\", \"Khmer\", \"Malayalam\"], \"country\": \"CH\", \"date\": \"2013-09-02\", \"guess\": \"Khmer\", \"sample\": \"96c0ad21acaedd52f652903794afb6f4\", \"target\": \"Indonesian\"}\n",
      "{\"choices\": [\"Bosnian\", \"Macedonian\", \"Swahili\", \"Tamil\", \"Tongan\"], \"country\": \"CH\", \"date\": \"2013-09-02\", \"guess\": \"Macedonian\", \"sample\": \"421df072ac5abde4883d50b1fc789b14\", \"target\": \"Bosnian\"}\n",
      "{\"choices\": [\"Danish\", \"Spanish\", \"Tigrinya\"], \"country\": \"CH\", \"date\": \"2013-09-02\", \"guess\": \"Danish\", \"sample\": \"2ca0534b652c09262b71bced44b4afd7\", \"target\": \"Danish\"}\n",
      "{\"choices\": [\"Hindi\", \"Khmer\"], \"country\": \"CH\", \"date\": \"2013-09-02\", \"guess\": \"Hindi\", \"sample\": \"9dac641f173f2a225501e8e50fc4e66e\", \"target\": \"Hindi\"}\n",
      "{\"choices\": [\"Czech\", \"Danish\", \"Dinka\", \"Thai\"], \"country\": \"CH\", \"date\": \"2013-09-02\", \"guess\": \"Dinka\", \"sample\": \"cd3dffdb83f221e09710cbfbcaffdb31\", \"target\": \"Dinka\"}\n",
      "{\"choices\": [\"German\", \"Spanish\"], \"country\": \"CH\", \"date\": \"2013-09-02\", \"guess\": \"German\", \"sample\": \"1f8b9a59cd75fc429db54dceb6e0594b\", \"target\": \"German\"}\n",
      "{\"choices\": [\"Czech\", \"Tamil\"], \"country\": \"CH\", \"date\": \"2013-09-02\", \"guess\": \"Tamil\", \"sample\": \"cc305dcad696147e28c6f36615aa0952\", \"target\": \"Tamil\"}\n",
      "{\"choices\": [\"Hungarian\", \"Kurdish\", \"Tongan\"], \"country\": \"CH\", \"date\": \"2013-09-02\", \"guess\": \"Tongan\", \"sample\": \"7efab6f0c61694ba6e8aa72843d1bf15\", \"target\": \"Hungarian\"}\n",
      "{\"choices\": [\"Korean\", \"Latvian\", \"Russian\", \"Tamil\"], \"country\": \"CH\", \"date\": \"2013-09-02\", \"guess\": \"Latvian\", \"sample\": \"5aea2b93784263ae4b5a2524ddebebb2\", \"target\": \"Latvian\"}\n",
      "{\"choices\": [\"Korean\", \"Sinhalese\", \"Somali\"], \"country\": \"CH\", \"date\": \"2013-09-02\", \"guess\": \"Korean\", \"sample\": \"871c938ad3b1243f42eec04057930d7e\", \"target\": \"Korean\"}\n",
      "{\"choices\": [\"Kannada\", \"Nepali\", \"Swedish\", \"Yiddish\"], \"country\": \"CH\", \"date\": \"2013-09-02\", \"guess\": \"Yiddish\", \"sample\": \"07468dc58acd4228a618bcdafed773f9\", \"target\": \"Yiddish\"}\n",
      "{\"choices\": [\"Assyrian\", \"Kannada\", \"Korean\", \"Malayalam\", \"Spanish\"], \"country\": \"CH\", \"date\": \"2013-09-02\", \"guess\": \"Korean\", \"sample\": \"0f8e6818d2be77b75712bc9ea4e87171\", \"target\": \"Korean\"}\n",
      "{\"choices\": [\"Gujarati\", \"Lao\", \"Portuguese\"], \"country\": \"CH\", \"date\": \"2013-09-02\", \"guess\": \"Gujarati\", \"sample\": \"b5aa4ea31e44899dc4d58d4a35e05504\", \"target\": \"Lao\"}\n",
      "{\"choices\": [\"Bangla\", \"Dutch\", \"Macedonian\"], \"country\": \"CH\", \"date\": \"2013-09-02\", \"guess\": \"Bangla\", \"sample\": \"ca0d5c366b1eeb2115054e6a8518f778\", \"target\": \"Bangla\"}\n",
      "{\"choices\": [\"Bulgarian\", \"Korean\", \"Kurdish\", \"Malay\", \"Swedish\"], \"country\": \"CH\", \"date\": \"2013-09-02\", \"guess\": \"Malay\", \"sample\": \"610d45322ed5aa122cf9b4a79d603781\", \"target\": \"Malay\"}\n",
      "{\"choices\": [\"Spanish\", \"Swedish\", \"Tongan\"], \"country\": \"CH\", \"date\": \"2013-09-02\", \"guess\": \"Swedish\", \"sample\": \"bd17f93a45c823198b790b7ba99975dd\", \"target\": \"Swedish\"}\n",
      "{\"choices\": [\"Farsi\", \"Khmer\", \"Slovenian\", \"Tagalog\"], \"country\": \"CH\", \"date\": \"2013-09-02\", \"guess\": \"Tagalog\", \"sample\": \"70154ea13cf1c633cfe62d44919a347c\", \"target\": \"Farsi\"}\n",
      "{\"choices\": [\"Dari\", \"Kannada\", \"Serbian\", \"Tagalog\", \"Tongan\"], \"country\": \"CH\", \"date\": \"2013-09-02\", \"guess\": \"Tagalog\", \"sample\": \"0c951f12af48b7ead6a3549707695906\", \"target\": \"Tagalog\"}\n",
      "{\"choices\": [\"Bulgarian\", \"Cantonese\"], \"country\": \"CH\", \"date\": \"2013-09-02\", \"guess\": \"Bulgarian\", \"sample\": \"8102c4494405873dd7b8258a97396351\", \"target\": \"Bulgarian\"}\n",
      "{\"choices\": [\"Arabic\", \"Estonian\", \"Finnish\", \"Maltese\", \"Ukrainian\", \"Yiddish\"], \"country\": \"CH\", \"date\": \"2013-09-02\", \"guess\": \"Finnish\", \"sample\": \"76e16d2ed298968ff397294b18f04831\", \"target\": \"Finnish\"}\n",
      "{\"choices\": [\"Mandarin\", \"Urdu\"], \"country\": \"CH\", \"date\": \"2013-09-02\", \"guess\": \"Urdu\", \"sample\": \"b01dde8ca2fcec5196a9b37d656d6e74\", \"target\": \"Urdu\"}\n",
      "{\"choices\": [\"Japanese\", \"Vietnamese\"], \"country\": \"CH\", \"date\": \"2013-09-02\", \"guess\": \"Vietnamese\", \"sample\": \"8ea6892d1ddca321adc07b05176e3605\", \"target\": \"Vietnamese\"}\n",
      "{\"choices\": [\"Burmese\", \"Hebrew\", \"Punjabi\"], \"country\": \"CH\", \"date\": \"2013-09-02\", \"guess\": \"Hebrew\", \"sample\": \"1dc9a1bf90e4e788906dc716dc18d878\", \"target\": \"Hebrew\"}\n",
      "{\"choices\": [\"Dutch\", \"Slovenian\", \"Urdu\"], \"country\": \"CH\", \"date\": \"2013-09-02\", \"guess\": \"Slovenian\", \"sample\": \"4a691f8bf52b406ccc65a95899de7bd2\", \"target\": \"Slovenian\"}\n",
      "{\"choices\": [\"Assyrian\", \"Romanian\", \"Vietnamese\"], \"country\": \"CH\", \"date\": \"2013-09-02\", \"guess\": \"Romanian\", \"sample\": \"903fc45cba5245f21deaaca3966f825b\", \"target\": \"Romanian\"}\n",
      "{\"choices\": [\"Croatian\", \"Danish\", \"German\", \"Lao\"], \"country\": \"CH\", \"date\": \"2013-09-02\", \"guess\": \"Croatian\", \"sample\": \"a0d2070edd63b46a3e71b4fb7ffe5375\", \"target\": \"Croatian\"}\n",
      "{\"choices\": [\"Hebrew\", \"Latvian\", \"Maori\", \"Portuguese\", \"Swedish\", \"Urdu\"], \"country\": \"CH\", \"date\": \"2013-09-02\", \"guess\": \"Latvian\", \"sample\": \"447bcafdbe5d7d69e0db72ab5bfa043a\", \"target\": \"Latvian\"}\n",
      "{\"choices\": [\"Burmese\", \"Estonian\", \"Swedish\", \"Yiddish\"], \"country\": \"CH\", \"date\": \"2013-09-02\", \"guess\": \"Yiddish\", \"sample\": \"491ce6f2acb4a588a4e6ff3570d429a5\", \"target\": \"Yiddish\"}\n",
      "{\"choices\": [\"Arabic\", \"Croatian\", \"Khmer\", \"Macedonian\", \"Samoan\", \"Tigrinya\"], \"country\": \"CH\", \"date\": \"2013-09-02\", \"guess\": \"Tigrinya\", \"sample\": \"a1fcc86068b72ed9d9f1c0b291d7819d\", \"target\": \"Tigrinya\"}\n",
      "{\"choices\": [\"Korean\", \"Kurdish\", \"Sinhalese\", \"Slovenian\"], \"country\": \"CH\", \"date\": \"2013-09-02\", \"guess\": \"Kurdish\", \"sample\": \"755de9092b301614712fae5e1d2d47d3\", \"target\": \"Sinhalese\"}\n",
      "{\"choices\": [\"Bangla\", \"Dinka\", \"Fijian\", \"Indonesian\", \"Maltese\", \"Portuguese\", \"Punjabi\"], \"country\": \"CH\", \"date\": \"2013-09-02\", \"guess\": \"Dinka\", \"sample\": \"192e7c59bb734ee762a323219846295b\", \"target\": \"Dinka\"}\n",
      "{\"choices\": [\"Hebrew\", \"Kurdish\", \"Nepali\", \"Vietnamese\"], \"country\": \"CH\", \"date\": \"2013-09-02\", \"guess\": \"Kurdish\", \"sample\": \"d8a4ee3f4b430af016b2dc5902fccd75\", \"target\": \"Nepali\"}\n",
      "{\"choices\": [\"Bosnian\", \"Hindi\", \"Serbian\", \"Slovenian\"], \"country\": \"CH\", \"date\": \"2013-09-02\", \"guess\": \"Bosnian\", \"sample\": \"08d1b7f052aa2014d54d699b2466910f\", \"target\": \"Bosnian\"}\n",
      "{\"choices\": [\"Bangla\", \"Finnish\", \"Gujarati\", \"Lao\", \"Somali\", \"Thai\", \"Vietnamese\"], \"country\": \"CH\", \"date\": \"2013-09-02\", \"guess\": \"Somali\", \"sample\": \"a505ab771ae7c32744ad31b3051b8ee9\", \"target\": \"Somali\"}\n",
      "{\"choices\": [\"Albanian\", \"Amharic\", \"French\", \"Greek\", \"Korean\"], \"country\": \"CH\", \"date\": \"2013-09-02\", \"guess\": \"Greek\", \"sample\": \"0f43daadf6a1ce6d769fa0daa630b5f6\", \"target\": \"Greek\"}\n",
      "{\"choices\": [\"Greek\", \"Japanese\", \"Korean\", \"Turkish\", \"Yiddish\"], \"country\": \"CH\", \"date\": \"2013-09-02\", \"guess\": \"Korean\", \"sample\": \"0f8e6818d2be77b75712bc9ea4e87171\", \"target\": \"Korean\"}\n",
      "{\"choices\": [\"Japanese\", \"Khmer\", \"Korean\", \"Portuguese\", \"Swahili\", \"Tagalog\", \"Vietnamese\"], \"country\": \"CH\", \"date\": \"2013-09-02\", \"guess\": \"Tagalog\", \"sample\": \"34df5eca0db3967da23f8a210337c9d6\", \"target\": \"Tagalog\"}\n",
      "{\"choices\": [\"Arabic\", \"Bangla\", \"Korean\", \"Kurdish\", \"Yiddish\"], \"country\": \"CH\", \"date\": \"2013-09-02\", \"guess\": \"Bangla\", \"sample\": \"83c6ffcb085ce9c18c0e2aff00dda865\", \"target\": \"Arabic\"}\n",
      "{\"choices\": [\"Albanian\", \"Bangla\", \"Greek\", \"Mandarin\", \"Spanish\", \"Swedish\", \"Thai\", \"Tongan\"], \"country\": \"CH\", \"date\": \"2013-09-02\", \"guess\": \"Tongan\", \"sample\": \"5a16cc76dc960f980d030d7b3e9f052b\", \"target\": \"Tongan\"}\n",
      "{\"choices\": [\"Burmese\", \"Dari\", \"Finnish\", \"Greek\", \"Malayalam\", \"Maltese\", \"Sinhalese\", \"Turkish\"], \"country\": \"CH\", \"date\": \"2013-09-02\", \"guess\": \"Greek\", \"sample\": \"0f43daadf6a1ce6d769fa0daa630b5f6\", \"target\": \"Greek\"}\n",
      "{\"choices\": [\"Fijian\", \"Gujarati\", \"Indonesian\", \"Khmer\", \"Maltese\", \"Portuguese\", \"Romanian\", \"Slovenian\"], \"country\": \"CH\", \"date\": \"2013-09-02\", \"guess\": \"Gujarati\", \"sample\": \"b8d5d0e85e06b3abe3fe32b6f3f59e50\", \"target\": \"Indonesian\"}\n",
      "{\"choices\": [\"Burmese\", \"Danish\", \"Dinka\", \"Farsi\", \"French\", \"Mandarin\", \"Serbian\", \"Spanish\"], \"country\": \"CH\", \"date\": \"2013-09-02\", \"guess\": \"Danish\", \"sample\": \"2a7c43c1d50df8ab3d92f0bcacc637f9\", \"target\": \"Danish\"}\n",
      "{\"choices\": [\"Albanian\", \"Farsi\", \"Finnish\", \"Greek\", \"Hindi\", \"Italian\", \"Romanian\", \"Russian\", \"Swedish\"], \"country\": \"CH\", \"date\": \"2013-09-02\", \"guess\": \"Finnish\", \"sample\": \"76e16d2ed298968ff397294b18f04831\", \"target\": \"Finnish\"}\n",
      "{\"choices\": [\"Amharic\", \"Bosnian\", \"Croatian\", \"Dari\", \"Greek\", \"Japanese\", \"Korean\", \"Maori\", \"Tagalog\"], \"country\": \"CH\", \"date\": \"2013-09-02\", \"guess\": \"Amharic\", \"sample\": \"cad47cd466a2d8c25fa7a21c15cbb3cf\", \"target\": \"Dari\"}\n",
      "{\"choices\": [\"Korean\", \"Thai\"], \"country\": \"CH\", \"date\": \"2013-09-02\", \"guess\": \"Thai\", \"sample\": \"ec09e573de88d0ace4c1ddd9cb531e90\", \"target\": \"Thai\"}\n",
      "{\"choices\": [\"Bangla\", \"Dutch\"], \"country\": \"CH\", \"date\": \"2013-09-02\", \"guess\": \"Dutch\", \"sample\": \"5cd22cbf16be1a93d304d589431c3ec3\", \"target\": \"Dutch\"}\n",
      "{\"choices\": [\"Gujarati\", \"Japanese\"], \"country\": \"CH\", \"date\": \"2013-09-02\", \"guess\": \"Gujarati\", \"sample\": \"56ecf19cff578aa76b81edb580ff343f\", \"target\": \"Gujarati\"}\n",
      "{\"choices\": [\"Dinka\", \"Latvian\", \"Malayalam\"], \"country\": \"CH\", \"date\": \"2013-09-02\", \"guess\": \"Latvian\", \"sample\": \"5aea2b93784263ae4b5a2524ddebebb2\", \"target\": \"Latvian\"}\n",
      "{\"choices\": [\"French\", \"Hebrew\", \"Hindi\"], \"country\": \"CH\", \"date\": \"2013-09-02\", \"guess\": \"French\", \"sample\": \"a892b7fd27c34fc81b65c0bb93113846\", \"target\": \"French\"}\n",
      "{\"choices\": [\"Dutch\", \"Lao\", \"Thai\"], \"country\": \"CH\", \"date\": \"2013-09-02\", \"guess\": \"Lao\", \"sample\": \"b5aa4ea31e44899dc4d58d4a35e05504\", \"target\": \"Lao\"}\n",
      "{\"choices\": [\"Albanian\", \"Indonesian\", \"Portuguese\", \"Tigrinya\"], \"country\": \"CH\", \"date\": \"2013-09-02\", \"guess\": \"Indonesian\", \"sample\": \"ff8fcb796b7fdc540dd567c144024f82\", \"target\": \"Indonesian\"}\n",
      "{\"choices\": [\"Czech\", \"Italian\", \"Portuguese\", \"Vietnamese\"], \"country\": \"CH\", \"date\": \"2013-09-02\", \"guess\": \"Italian\", \"sample\": \"b64869a674fbf588fa2ace46d717bed6\", \"target\": \"Italian\"}\n",
      "{\"choices\": [\"Finnish\", \"Korean\", \"Tamil\", \"Tongan\"], \"country\": \"CH\", \"date\": \"2013-09-02\", \"guess\": \"Finnish\", \"sample\": \"fba08911805472f37575d2cece186654\", \"target\": \"Tongan\"}\n",
      "{\"choices\": [\"Finnish\", \"Sinhalese\", \"Tagalog\", \"Tongan\"], \"country\": \"CH\", \"date\": \"2013-09-02\", \"guess\": \"Tagalog\", \"sample\": \"34df5eca0db3967da23f8a210337c9d6\", \"target\": \"Tagalog\"}\n",
      "{\"choices\": [\"Danish\", \"Farsi\", \"Hungarian\", \"Latvian\", \"Tagalog\"], \"country\": \"CH\", \"date\": \"2013-09-02\", \"guess\": \"Hungarian\", \"sample\": \"cb1a1c1c93ab6e802560855ca5f015f7\", \"target\": \"Hungarian\"}\n",
      "{\"choices\": [\"Danish\", \"Italian\", \"Japanese\", \"Malay\", \"Romanian\"], \"country\": \"CH\", \"date\": \"2013-09-02\", \"guess\": \"Romanian\", \"sample\": \"0b4ddbcac7e75c14f25fabeaff89a787\", \"target\": \"Romanian\"}\n",
      "{\"choices\": [\"Greek\", \"Hindi\", \"Italian\", \"Malay\", \"Slovenian\"], \"country\": \"CH\", \"date\": \"2013-09-02\", \"guess\": \"Italian\", \"sample\": \"b64869a674fbf588fa2ace46d717bed6\", \"target\": \"Italian\"}\n",
      "{\"choices\": [\"Bosnian\", \"Czech\", \"Finnish\", \"Hebrew\", \"Hungarian\", \"Spanish\"], \"country\": \"CH\", \"date\": \"2013-09-02\", \"guess\": \"Spanish\", \"sample\": \"c8f4f097079404bf9a0e94d604efd1d5\", \"target\": \"Spanish\"}\n",
      "{\"choices\": [\"Bulgarian\", \"Czech\", \"Farsi\", \"Malay\", \"Samoan\", \"Somali\"], \"country\": \"CH\", \"date\": \"2013-09-02\", \"guess\": \"Farsi\", \"sample\": \"610d45322ed5aa122cf9b4a79d603781\", \"target\": \"Malay\"}\n",
      "{\"choices\": [\"Arabic\", \"Assyrian\", \"Farsi\", \"Sinhalese\", \"Slovenian\", \"Thai\"], \"country\": \"CH\", \"date\": \"2013-09-02\", \"guess\": \"Slovenian\", \"sample\": \"f2f07eb5c50e64c627f66566b3c7cc4a\", \"target\": \"Slovenian\"}\n",
      "{\"choices\": [\"Amharic\", \"Danish\", \"Hungarian\", \"Kannada\", \"Serbian\", \"Ukrainian\"], \"country\": \"CH\", \"date\": \"2013-09-02\", \"guess\": \"Kannada\", \"sample\": \"c11a7723bd3fcd00e33e90c90a3492e5\", \"target\": \"Kannada\"}\n",
      "{\"choices\": [\"Cantonese\", \"Czech\", \"Korean\", \"Latvian\", \"Maltese\", \"Mandarin\", \"Vietnamese\"], \"country\": \"CH\", \"date\": \"2013-09-02\", \"guess\": \"Cantonese\", \"sample\": \"3aab36435babaea46064d7f173bb0ba3\", \"target\": \"Vietnamese\"}\n",
      "{\"choices\": [\"Burmese\", \"Dinka\"], \"country\": \"CH\", \"date\": \"2013-09-02\", \"guess\": \"Burmese\", \"sample\": \"cd3dffdb83f221e09710cbfbcaffdb31\", \"target\": \"Dinka\"}\n",
      "{\"choices\": [\"Hebrew\", \"Maori\"], \"country\": \"CH\", \"date\": \"2013-09-02\", \"guess\": \"Hebrew\", \"sample\": \"157085744728e35079622c71804cf722\", \"target\": \"Hebrew\"}\n",
      "{\"choices\": [\"Japanese\", \"Tagalog\"], \"country\": \"CH\", \"date\": \"2013-09-02\", \"guess\": \"Japanese\", \"sample\": \"bae93d7864edf7c70ca869113e45433c\", \"target\": \"Japanese\"}\n",
      "{\"choices\": [\"Czech\", \"Mandarin\"], \"country\": \"CH\", \"date\": \"2013-09-02\", \"guess\": \"Czech\", \"sample\": \"1787b5c79a00b3513ce76847bc1f5b75\", \"target\": \"Czech\"}\n",
      "{\"choices\": [\"Croatian\", \"Latvian\", \"Polish\"], \"country\": \"CH\", \"date\": \"2013-09-02\", \"guess\": \"Polish\", \"sample\": \"5e609abac81edbf76a58bc1d2a850f12\", \"target\": \"Latvian\"}\n",
      "{\"choices\": [\"Albanian\", \"Cantonese\", \"Thai\"], \"country\": \"CH\", \"date\": \"2013-09-02\", \"guess\": \"Cantonese\", \"sample\": \"203628f42619d301e642b3553b7a684a\", \"target\": \"Cantonese\"}\n",
      "{\"choices\": [\"Somali\", \"Swedish\", \"Yiddish\"], \"country\": \"CH\", \"date\": \"2013-09-02\", \"guess\": \"Somali\", \"sample\": \"ee5ffba9c5cf1d6a1e2d95b0220c06d4\", \"target\": \"Somali\"}\n",
      "{\"choices\": [\"Assyrian\", \"Nepali\", \"Samoan\"], \"country\": \"CH\", \"date\": \"2013-09-02\", \"guess\": \"Assyrian\", \"sample\": \"16ac545260ae198b7a3d882e06e5f261\", \"target\": \"Assyrian\"}\n",
      "{\"choices\": [\"Nepali\", \"Punjabi\", \"Tigrinya\", \"Vietnamese\"], \"country\": \"CH\", \"date\": \"2013-09-02\", \"guess\": \"Tigrinya\", \"sample\": \"d8a4ee3f4b430af016b2dc5902fccd75\", \"target\": \"Nepali\"}\n",
      "{\"choices\": [\"Bangla\", \"Burmese\", \"Kurdish\", \"Vietnamese\"], \"country\": \"CH\", \"date\": \"2013-09-02\", \"guess\": \"Kurdish\", \"sample\": \"f54dad4973f899ba8e9e26dcca58d625\", \"target\": \"Kurdish\"}\n",
      "{\"choices\": [\"Indonesian\", \"Malay\", \"Tongan\", \"Urdu\"], \"country\": \"CH\", \"date\": \"2013-09-02\", \"guess\": \"Malay\", \"sample\": \"fba08911805472f37575d2cece186654\", \"target\": \"Tongan\"}\n",
      "{\"choices\": [\"Albanian\", \"Russian\"], \"country\": \"CH\", \"date\": \"2013-09-02\", \"guess\": \"Russian\", \"sample\": \"ff5b5a0d34c77d2e2027dad7e4deb094\", \"target\": \"Russian\"}\n",
      "{\"choices\": [\"Greek\", \"Kurdish\"], \"country\": \"CH\", \"date\": \"2013-09-02\", \"guess\": \"Kurdish\", \"sample\": \"6c50f5972917a1ab11328233ef50db72\", \"target\": \"Kurdish\"}\n",
      "{\"choices\": [\"Hindi\", \"Portuguese\"], \"country\": \"CH\", \"date\": \"2013-09-02\", \"guess\": \"Hindi\", \"sample\": \"9dac641f173f2a225501e8e50fc4e66e\", \"target\": \"Hindi\"}\n",
      "{\"choices\": [\"Assyrian\", \"Italian\", \"Slovenian\"], \"country\": \"CH\", \"date\": \"2013-09-02\", \"guess\": \"Italian\", \"sample\": \"88f3e5120091cffdf8abeb92b5da90a2\", \"target\": \"Italian\"}\n",
      "{\"choices\": [\"Amharic\", \"Danish\", \"Tongan\"], \"country\": \"CH\", \"date\": \"2013-09-02\", \"guess\": \"Danish\", \"sample\": \"2ca0534b652c09262b71bced44b4afd7\", \"target\": \"Danish\"}\n",
      "{\"choices\": [\"Dinka\", \"Hungarian\", \"Macedonian\"], \"country\": \"CH\", \"date\": \"2013-09-02\", \"guess\": \"Dinka\", \"sample\": \"af5e8f27cef9e689a070b8814dcc02c3\", \"target\": \"Dinka\"}\n",
      "{\"choices\": [\"Kurdish\", \"Maltese\", \"Mandarin\", \"Swahili\"], \"country\": \"CH\", \"date\": \"2013-09-02\", \"guess\": \"Maltese\", \"sample\": \"36d2f4e9173e2d4cad8b8594310c856b\", \"target\": \"Maltese\"}\n",
      "{\"choices\": [\"German\", \"Lao\", \"Malayalam\", \"Swedish\"], \"country\": \"CH\", \"date\": \"2013-09-02\", \"guess\": \"Malayalam\", \"sample\": \"b5aa4ea31e44899dc4d58d4a35e05504\", \"target\": \"Lao\"}\n",
      "{\"choices\": [\"Bangla\", \"Estonian\", \"Turkish\", \"Vietnamese\"], \"country\": \"CH\", \"date\": \"2013-09-02\", \"guess\": \"Vietnamese\", \"sample\": \"3aab36435babaea46064d7f173bb0ba3\", \"target\": \"Vietnamese\"}\n",
      "{\"choices\": [\"Dutch\", \"Russian\", \"Swedish\", \"Turkish\"], \"country\": \"CH\", \"date\": \"2013-09-02\", \"guess\": \"Swedish\", \"sample\": \"dfe8192c1bbd80b44ea4409d9889dc90\", \"target\": \"Swedish\"}\n",
      "{\"choices\": [\"Assyrian\", \"Macedonian\", \"Malay\", \"Turkish\", \"Urdu\"], \"country\": \"CH\", \"date\": \"2013-09-02\", \"guess\": \"Turkish\", \"sample\": \"752c4c30d475748a342c68ebfba24d1e\", \"target\": \"Turkish\"}\n",
      "{\"choices\": [\"Bosnian\", \"Cantonese\", \"Hindi\", \"Maori\", \"Punjabi\"], \"country\": \"CH\", \"date\": \"2013-09-02\", \"guess\": \"Punjabi\", \"sample\": \"568bfed6715c43735f95faef578d7cd5\", \"target\": \"Hindi\"}\n",
      "{\"choices\": [\"Dutch\", \"Farsi\", \"Gujarati\", \"Khmer\", \"Yiddish\"], \"country\": \"CH\", \"date\": \"2013-09-02\", \"guess\": \"Gujarati\", \"sample\": \"56ecf19cff578aa76b81edb580ff343f\", \"target\": \"Gujarati\"}\n",
      "{\"choices\": [\"Bangla\", \"Hebrew\", \"Italian\", \"Mandarin\", \"Norwegian\"], \"country\": \"CH\", \"date\": \"2013-09-02\", \"guess\": \"Hebrew\", \"sample\": \"1dc9a1bf90e4e788906dc716dc18d878\", \"target\": \"Hebrew\"}\n",
      "{\"choices\": [\"Arabic\", \"Croatian\", \"Danish\", \"Dutch\", \"French\", \"Slovenian\"], \"country\": \"CH\", \"date\": \"2013-09-02\", \"guess\": \"Dutch\", \"sample\": \"65bf2aceadf2520f36a5e548a0471fcf\", \"target\": \"Dutch\"}\n",
      "{\"choices\": [\"Gujarati\", \"Macedonian\", \"Mandarin\", \"Swedish\", \"Tamil\", \"Urdu\"], \"country\": \"CH\", \"date\": \"2013-09-02\", \"guess\": \"Urdu\", \"sample\": \"16d80eee6659268a90460422dd2a2896\", \"target\": \"Gujarati\"}\n",
      "{\"choices\": [\"Macedonian\", \"Maori\"], \"country\": \"CH\", \"date\": \"2013-09-02\", \"guess\": \"Macedonian\", \"sample\": \"f2b6086f0918df15f3c6a457ce8cc8d4\", \"target\": \"Macedonian\"}\n",
      "{\"choices\": [\"Japanese\", \"Serbian\"], \"country\": \"CH\", \"date\": \"2013-09-02\", \"guess\": \"Serbian\", \"sample\": \"ec4d6dad1be487091ec2b1b63820e329\", \"target\": \"Serbian\"}\n",
      "{\"choices\": [\"Hungarian\", \"Serbian\"], \"country\": \"CH\", \"date\": \"2013-09-02\", \"guess\": \"Hungarian\", \"sample\": \"0d5b697ebb326b5043ce7fa60a7b968d\", \"target\": \"Serbian\"}\n",
      "{\"choices\": [\"Maltese\", \"Spanish\"], \"country\": \"CH\", \"date\": \"2013-09-02\", \"guess\": \"Maltese\", \"sample\": \"589feca2e2009ad2e63458f17568cd13\", \"target\": \"Maltese\"}\n",
      "{\"choices\": [\"Estonian\", \"Indonesian\", \"Tongan\"], \"country\": \"CH\", \"date\": \"2013-09-02\", \"guess\": \"Estonian\", \"sample\": \"b7e986bd3a0d5fd1db661e3bedf36111\", \"target\": \"Estonian\"}\n",
      "{\"choices\": [\"Gujarati\", \"Lao\", \"Serbian\"], \"country\": \"CH\", \"date\": \"2013-09-02\", \"guess\": \"Serbian\", \"sample\": \"ac81d9c1d39252811bf5d9fcfddc2231\", \"target\": \"Serbian\"}\n",
      "{\"choices\": [\"Amharic\", \"Polish\", \"Slovenian\"], \"country\": \"CH\", \"date\": \"2013-09-02\", \"guess\": \"Amharic\", \"sample\": \"5c6664317cc1cc256f11b722835396b7\", \"target\": \"Amharic\"}\n",
      "{\"choices\": [\"Armenian\", \"Latvian\", \"Swedish\", \"Vietnamese\"], \"country\": \"CH\", \"date\": \"2013-09-02\", \"guess\": \"Vietnamese\", \"sample\": \"3aab36435babaea46064d7f173bb0ba3\", \"target\": \"Vietnamese\"}\n",
      "{\"choices\": [\"Assyrian\", \"Danish\", \"Dari\", \"Malayalam\"], \"country\": \"CH\", \"date\": \"2013-09-02\", \"guess\": \"Assyrian\", \"sample\": \"16ac545260ae198b7a3d882e06e5f261\", \"target\": \"Assyrian\"}\n",
      "{\"choices\": [\"Punjabi\", \"Romanian\", \"Serbian\", \"Slovenian\"], \"country\": \"CH\", \"date\": \"2013-09-02\", \"guess\": \"Romanian\", \"sample\": \"4a691f8bf52b406ccc65a95899de7bd2\", \"target\": \"Slovenian\"}\n",
      "{\"choices\": [\"Assyrian\", \"Danish\", \"Maori\", \"Punjabi\"], \"country\": \"CH\", \"date\": \"2013-09-02\", \"guess\": \"Maori\", \"sample\": \"90ae678a85eac78bc4b4f52809a7c09d\", \"target\": \"Maori\"}\n",
      "{\"choices\": [\"Czech\", \"Gujarati\", \"Punjabi\", \"Samoan\", \"Tigrinya\"], \"country\": \"CH\", \"date\": \"2013-09-02\", \"guess\": \"Samoan\", \"sample\": \"05c96880846c583b0dc6e5043eab938d\", \"target\": \"Tigrinya\"}\n",
      "{\"choices\": [\"Croatian\", \"Polish\"], \"country\": \"CH\", \"date\": \"2013-09-02\", \"guess\": \"Polish\", \"sample\": \"f1aac78bec424c4d6c716553719b0b70\", \"target\": \"Polish\"}\n",
      "{\"choices\": [\"Gujarati\", \"Slovak\"], \"country\": \"CH\", \"date\": \"2013-09-03\", \"guess\": \"Slovak\", \"sample\": \"78fbc62aeae4bc4188d2d6a64805d6df\", \"target\": \"Slovak\"}\n",
      "{\"choices\": [\"Fijian\", \"Maori\"], \"country\": \"CH\", \"date\": \"2013-09-03\", \"guess\": \"Maori\", \"sample\": \"aaa12425808ac9d4ce184c453bfc0502\", \"target\": \"Fijian\"}\n",
      "{\"choices\": [\"Bulgarian\", \"Thai\"], \"country\": \"CH\", \"date\": \"2013-09-03\", \"guess\": \"Thai\", \"sample\": \"ec09e573de88d0ace4c1ddd9cb531e90\", \"target\": \"Thai\"}\n",
      "{\"choices\": [\"Bangla\", \"Vietnamese\"], \"country\": \"CH\", \"date\": \"2013-09-03\", \"guess\": \"Vietnamese\", \"sample\": \"a3c1b5cff1d3a77feae50573b7d81881\", \"target\": \"Vietnamese\"}\n",
      "{\"choices\": [\"Estonian\", \"Punjabi\"], \"country\": \"CH\", \"date\": \"2013-09-03\", \"guess\": \"Estonian\", \"sample\": \"10ff356faf50696b30f8a58b9dd919b2\", \"target\": \"Punjabi\"}\n",
      "{\"choices\": [\"Italian\", \"Tagalog\"], \"country\": \"CH\", \"date\": \"2013-09-03\", \"guess\": \"Italian\", \"sample\": \"b64869a674fbf588fa2ace46d717bed6\", \"target\": \"Italian\"}\n",
      "{\"choices\": [\"Polish\", \"Somali\"], \"country\": \"CH\", \"date\": \"2013-09-03\", \"guess\": \"Polish\", \"sample\": \"2268bc4db45078e37d0fd1b2c53eb9c9\", \"target\": \"Polish\"}\n",
      "{\"choices\": [\"Arabic\", \"Dinka\"], \"country\": \"CH\", \"date\": \"2013-09-03\", \"guess\": \"Arabic\", \"sample\": \"8903e496bf04c3a85a70e1dc5e0da5f1\", \"target\": \"Arabic\"}\n",
      "{\"choices\": [\"Greek\", \"Punjabi\", \"Tigrinya\"], \"country\": \"CH\", \"date\": \"2013-09-03\", \"guess\": \"Punjabi\", \"sample\": \"d14f8f8b6933e7d9d68104ec7860db77\", \"target\": \"Punjabi\"}\n",
      "{\"choices\": [\"Bosnian\", \"Dinka\", \"Maltese\"], \"country\": \"CH\", \"date\": \"2013-09-03\", \"guess\": \"Maltese\", \"sample\": \"e36a808605adbe2dbdca9c76e5cbfe7c\", \"target\": \"Bosnian\"}\n",
      "{\"choices\": [\"French\", \"Malay\", \"Serbian\"], \"country\": \"CH\", \"date\": \"2013-09-03\", \"guess\": \"Serbian\", \"sample\": \"ec4d6dad1be487091ec2b1b63820e329\", \"target\": \"Serbian\"}\n",
      "{\"choices\": [\"Korean\", \"Romanian\", \"Vietnamese\"], \"country\": \"CH\", \"date\": \"2013-09-03\", \"guess\": \"Vietnamese\", \"sample\": \"ec371adb75ab6c7431adae3ef8fc9fc9\", \"target\": \"Korean\"}\n",
      "{\"choices\": [\"Tongan\", \"Vietnamese\"], \"country\": \"CH\", \"date\": \"2013-09-03\", \"guess\": \"Tongan\", \"sample\": \"a3c1b5cff1d3a77feae50573b7d81881\", \"target\": \"Vietnamese\"}\n",
      "{\"choices\": [\"Hebrew\", \"Mandarin\"], \"country\": \"CH\", \"date\": \"2013-09-03\", \"guess\": \"Hebrew\", \"sample\": \"1dc9a1bf90e4e788906dc716dc18d878\", \"target\": \"Hebrew\"}\n",
      "{\"choices\": [\"Mandarin\", \"Norwegian\"], \"country\": \"CH\", \"date\": \"2013-09-03\", \"guess\": \"Norwegian\", \"sample\": \"4383d59a89ffd10b8e86d93233e01b5f\", \"target\": \"Norwegian\"}\n",
      "{\"choices\": [\"Albanian\", \"Bulgarian\"], \"country\": \"CH\", \"date\": \"2013-09-03\", \"guess\": \"Albanian\", \"sample\": \"8102c4494405873dd7b8258a97396351\", \"target\": \"Bulgarian\"}\n",
      "{\"choices\": [\"Dari\", \"German\"], \"country\": \"CH\", \"date\": \"2013-09-03\", \"guess\": \"German\", \"sample\": \"e77d97b712adffc39e531e20237a5589\", \"target\": \"German\"}\n",
      "{\"choices\": [\"Danish\", \"Latvian\", \"Urdu\"], \"country\": \"CH\", \"date\": \"2013-09-03\", \"guess\": \"Danish\", \"sample\": \"2ca0534b652c09262b71bced44b4afd7\", \"target\": \"Danish\"}\n",
      "{\"choices\": [\"Dinka\", \"Mandarin\", \"Serbian\"], \"country\": \"CH\", \"date\": \"2013-09-03\", \"guess\": \"Serbian\", \"sample\": \"ec4d6dad1be487091ec2b1b63820e329\", \"target\": \"Serbian\"}\n",
      "{\"choices\": [\"Italian\", \"Portuguese\", \"Slovak\"], \"country\": \"CH\", \"date\": \"2013-09-03\", \"guess\": \"Slovak\", \"sample\": \"1d7fea3522c8607f5ec4168b2a5cd206\", \"target\": \"Portuguese\"}\n",
      "{\"choices\": [\"Russian\", \"Swahili\"], \"country\": \"CH\", \"date\": \"2013-09-03\", \"guess\": \"Russian\", \"sample\": \"8a59d48e99e8a1df7e366c4648095e27\", \"target\": \"Russian\"}\n",
      "{\"choices\": [\"Malay\", \"Slovak\"], \"country\": \"CH\", \"date\": \"2013-09-03\", \"guess\": \"Slovak\", \"sample\": \"78fbc62aeae4bc4188d2d6a64805d6df\", \"target\": \"Slovak\"}\n",
      "{\"choices\": [\"Hebrew\", \"Tamil\"], \"country\": \"CH\", \"date\": \"2013-09-03\", \"guess\": \"Tamil\", \"sample\": \"7c3fca32ce40e9b07e7b69a7d7191d4d\", \"target\": \"Tamil\"}\n",
      "{\"choices\": [\"Maori\", \"Russian\", \"Slovak\"], \"country\": \"CH\", \"date\": \"2013-09-03\", \"guess\": \"Slovak\", \"sample\": \"2c5efbd7364036976ec403a9ee36f614\", \"target\": \"Slovak\"}\n",
      "{\"choices\": [\"Dinka\", \"Polish\", \"Russian\"], \"country\": \"CH\", \"date\": \"2013-09-03\", \"guess\": \"Polish\", \"sample\": \"f1aac78bec424c4d6c716553719b0b70\", \"target\": \"Polish\"}\n",
      "{\"choices\": [\"Hebrew\", \"Nepali\", \"Slovak\"], \"country\": \"CH\", \"date\": \"2013-09-03\", \"guess\": \"Hebrew\", \"sample\": \"1dc9a1bf90e4e788906dc716dc18d878\", \"target\": \"Hebrew\"}\n",
      "{\"choices\": [\"Dinka\", \"Farsi\", \"Portuguese\", \"Urdu\"], \"country\": \"CH\", \"date\": \"2013-09-03\", \"guess\": \"Farsi\", \"sample\": \"439672210d1feb96e012590ff2a73590\", \"target\": \"Portuguese\"}\n",
      "{\"choices\": [\"Bulgarian\", \"Punjabi\", \"Tagalog\"], \"country\": \"CH\", \"date\": \"2013-09-03\", \"guess\": \"Tagalog\", \"sample\": \"10ff356faf50696b30f8a58b9dd919b2\", \"target\": \"Punjabi\"}\n"
     ]
    }
   ],
   "source": [
    "%%rumble\n",
    "let $ch_entries :=\n",
    "    for $i in json-file(\"/home/confusion-100000.json\")\n",
    "    where $i.country = \"CH\"\n",
    "    return $i\n",
    "return $ch_entries\n",
    "\n"
   ]
  },
  {
   "cell_type": "markdown",
   "metadata": {},
   "source": [
    "Moodle Excercises"
   ]
  },
  {
   "cell_type": "code",
   "execution_count": 43,
   "metadata": {},
   "outputs": [
    {
     "name": "stdout",
     "output_type": "stream",
     "text": [
      "Took: 0.7581017017364502 s\n",
      "132\n"
     ]
    }
   ],
   "source": [
    "%%rumble\n",
    "let $entries :=\n",
    "    for $i in json-file(\"/home/confusion-100000.json\")\n",
    "    where ($i.target != $i.guess) and ($i.target = \"German\")\n",
    "    return $i\n",
    "return count($entries)\n"
   ]
  },
  {
   "cell_type": "code",
   "execution_count": 57,
   "metadata": {},
   "outputs": [
    {
     "name": "stdout",
     "output_type": "stream",
     "text": [
      "Took: 0.9356849193572998 s\n",
      "68\n"
     ]
    }
   ],
   "source": [
    "%%rumble\n",
    "let $entries :=\n",
    "    for $i in json-file(\"/home/confusion-100000.json\")\n",
    "    return $i.target\n",
    "return count(distinct-values($entries))"
   ]
  },
  {
   "cell_type": "code",
   "execution_count": 179,
   "metadata": {},
   "outputs": [
    {
     "name": "stdout",
     "output_type": "stream",
     "text": [
      "Took: 1.361534833908081 s\n",
      "\"Warning! The output sequence contains 27321 items but its materialization was capped at 200 items. This value can be configured with the result-size parameter in the query string of the HTTP request.\"\n",
      "\"2591d3700224a4729cbe46e53fdbd707\"\n",
      "\"bed42a067e94b5bdcf9a9190dc7acae3\"\n",
      "\"7efab6f0c61694ba6e8aa72843d1bf15\"\n",
      "\"ccebbc271377f7173e39564c74901f7c\"\n",
      "\"3520fdcdf2658685928fc37e72ab2134\"\n",
      "\"439672210d1feb96e012590ff2a73590\"\n",
      "\"bd3eefed0e12797c6e2b45b8db8d88d9\"\n",
      "\"9dac641f173f2a225501e8e50fc4e66e\"\n",
      "\"3a4ac5558394719c279ff50d5dc650a8\"\n",
      "\"064ca74dff16ce8dade4a7acdc0def8a\"\n",
      "\"00b85faa8b878a14f8781be334deb137\"\n",
      "\"509c36eb58dbce009ccf93f375358d53\"\n",
      "\"a505ab771ae7c32744ad31b3051b8ee9\"\n",
      "\"0b4ddbcac7e75c14f25fabeaff89a787\"\n",
      "\"cc305dcad696147e28c6f36615aa0952\"\n",
      "\"72a54e8d2e61e105c018ebbd07f7b949\"\n",
      "\"2ca0534b652c09262b71bced44b4afd7\"\n",
      "\"d34689ff8c3532426256b0963d7df2bb\"\n",
      "\"9769bab1b0b25eb730c704ef42a3e7a6\"\n",
      "\"714795c596ef0639a385fe620d2c42ab\"\n",
      "\"17527de743e8a5b5c339fb8ff117f65b\"\n",
      "\"76e16d2ed298968ff397294b18f04831\"\n",
      "\"78fbc62aeae4bc4188d2d6a64805d6df\"\n",
      "\"1dc9a1bf90e4e788906dc716dc18d878\"\n",
      "\"16d80eee6659268a90460422dd2a2896\"\n",
      "\"cc305dcad696147e28c6f36615aa0952\"\n",
      "\"a7d34c215264677c8385e90fa5363ec1\"\n",
      "\"ec09e573de88d0ace4c1ddd9cb531e90\"\n",
      "\"30839a9f51bf6fb209b527cc42a35899\"\n",
      "\"b7e986bd3a0d5fd1db661e3bedf36111\"\n",
      "\"714795c596ef0639a385fe620d2c42ab\"\n",
      "\"fffe43269856111df6231c0a57812c90\"\n",
      "\"c53434fd97e7082e948590932f0f0bcd\"\n",
      "\"376eba5874889d82dd552e3a9128c6e7\"\n",
      "\"b4a52082284f9350116abbe439b35a1a\"\n",
      "\"871c938ad3b1243f42eec04057930d7e\"\n",
      "\"610d45322ed5aa122cf9b4a79d603781\"\n",
      "\"b8e22e10dbc944d7aaa9c00414c70be8\"\n",
      "\"cc305dcad696147e28c6f36615aa0952\"\n",
      "\"5e609abac81edbf76a58bc1d2a850f12\"\n",
      "\"e178a0abbbb171d9b785d8350a45f203\"\n",
      "\"4a3dfa40ed621940a0a38408956b86e0\"\n",
      "\"1dc9a1bf90e4e788906dc716dc18d878\"\n",
      "\"6d86f6da48a5d151593317f64da0421f\"\n",
      "\"d47ff7f3aa1abf002cad40ef24122c08\"\n",
      "\"4383d59a89ffd10b8e86d93233e01b5f\"\n",
      "\"05c96880846c583b0dc6e5043eab938d\"\n",
      "\"b5aa4ea31e44899dc4d58d4a35e05504\"\n",
      "\"73a09a8879e70e8648d7d75d656a5b79\"\n",
      "\"e178a0abbbb171d9b785d8350a45f203\"\n",
      "\"10ff356faf50696b30f8a58b9dd919b2\"\n",
      "\"f2f07eb5c50e64c627f66566b3c7cc4a\"\n",
      "\"a8895626173aa388e5d1d5252563ab72\"\n",
      "\"610d45322ed5aa122cf9b4a79d603781\"\n",
      "\"f9119000c32bd3c091da19ba73b27aa8\"\n",
      "\"ac1275769d8aaf8758f95409271f8a2f\"\n",
      "\"5af9790de5ecef3853d6d89f8e75916c\"\n",
      "\"16ac545260ae198b7a3d882e06e5f261\"\n",
      "\"610d45322ed5aa122cf9b4a79d603781\"\n",
      "\"a1fcc86068b72ed9d9f1c0b291d7819d\"\n",
      "\"c53434fd97e7082e948590932f0f0bcd\"\n",
      "\"8fbe60533f007a91ae8ff2563a1bd568\"\n",
      "\"c4d4db8bf910cf4350fc87b3f3667976\"\n",
      "\"c11a7723bd3fcd00e33e90c90a3492e5\"\n",
      "\"1b959fe55794f6d4e1ea038bfe336759\"\n",
      "\"509c36eb58dbce009ccf93f375358d53\"\n",
      "\"b04f555ac04b11bbe45f4761978cbe7e\"\n",
      "\"16d80eee6659268a90460422dd2a2896\"\n",
      "\"7efab6f0c61694ba6e8aa72843d1bf15\"\n",
      "\"20bc74e71f509da4c2e15c42e3aab948\"\n",
      "\"8ea6892d1ddca321adc07b05176e3605\"\n",
      "\"74b5340a230b1e0c1d45787bc4280b05\"\n",
      "\"f2f07eb5c50e64c627f66566b3c7cc4a\"\n",
      "\"5e609abac81edbf76a58bc1d2a850f12\"\n",
      "\"78e21624c41e6efc3ac790735180615d\"\n",
      "\"fffe43269856111df6231c0a57812c90\"\n",
      "\"b2132278200e1e601b6814a15fdabcc1\"\n",
      "\"ec4d6dad1be487091ec2b1b63820e329\"\n",
      "\"5aea2b93784263ae4b5a2524ddebebb2\"\n",
      "\"157085744728e35079622c71804cf722\"\n",
      "\"e178a0abbbb171d9b785d8350a45f203\"\n",
      "\"65bf2aceadf2520f36a5e548a0471fcf\"\n",
      "\"cad47cd466a2d8c25fa7a21c15cbb3cf\"\n",
      "\"2268bc4db45078e37d0fd1b2c53eb9c9\"\n",
      "\"d720bf82f29b3f6d835a4f7dcb9c2dcb\"\n",
      "\"5fdcb0979e1c546ea05d7bd780bd4bc3\"\n",
      "\"5a16cc76dc960f980d030d7b3e9f052b\"\n",
      "\"10ff356faf50696b30f8a58b9dd919b2\"\n",
      "\"3583f583d0f96068e16cb55d9c672d2d\"\n",
      "\"610d45322ed5aa122cf9b4a79d603781\"\n",
      "\"e11f43a0851aeb6e693187acb1011d51\"\n",
      "\"6c50f5972917a1ab11328233ef50db72\"\n",
      "\"752c4c30d475748a342c68ebfba24d1e\"\n",
      "\"5ba910be0498e57bb2277c41ce4bfdad\"\n",
      "\"48f9c924e0d98c959d8a6f1862b3ce9a\"\n",
      "\"1d7fea3522c8607f5ec4168b2a5cd206\"\n",
      "\"01f51995ae86ff85e899d40768ab81a8\"\n",
      "\"ec09e573de88d0ace4c1ddd9cb531e90\"\n",
      "\"69a5c674fe40942aaae4d10c9df46ee0\"\n",
      "\"cd438a022d83ce4ded75d4f9c6ea7239\"\n",
      "\"d8a4ee3f4b430af016b2dc5902fccd75\"\n",
      "\"4cf041f244960196b98c7d6ae8c79ed3\"\n",
      "\"e36a808605adbe2dbdca9c76e5cbfe7c\"\n",
      "\"3520fdcdf2658685928fc37e72ab2134\"\n",
      "\"d720bf82f29b3f6d835a4f7dcb9c2dcb\"\n",
      "\"fba08911805472f37575d2cece186654\"\n",
      "\"192e7c59bb734ee762a323219846295b\"\n",
      "\"d34689ff8c3532426256b0963d7df2bb\"\n",
      "\"192e7c59bb734ee762a323219846295b\"\n",
      "\"3aab36435babaea46064d7f173bb0ba3\"\n",
      "\"31cba304794d1828c93d7b3c63aa840a\"\n",
      "\"3520fdcdf2658685928fc37e72ab2134\"\n",
      "\"90ae678a85eac78bc4b4f52809a7c09d\"\n",
      "\"5e609abac81edbf76a58bc1d2a850f12\"\n",
      "\"bd3eefed0e12797c6e2b45b8db8d88d9\"\n",
      "\"73a09a8879e70e8648d7d75d656a5b79\"\n",
      "\"830854fd9c28424c604eaef2e97e61b3\"\n",
      "\"d34689ff8c3532426256b0963d7df2bb\"\n",
      "\"c53434fd97e7082e948590932f0f0bcd\"\n",
      "\"d47ff7f3aa1abf002cad40ef24122c08\"\n",
      "\"e4588d7c735b9a87d93ada6d24a7bd53\"\n",
      "\"fffe43269856111df6231c0a57812c90\"\n",
      "\"5e609abac81edbf76a58bc1d2a850f12\"\n",
      "\"b7df3f9d67cef259fbcaa5abcad9d774\"\n",
      "\"e178a0abbbb171d9b785d8350a45f203\"\n",
      "\"8ea6892d1ddca321adc07b05176e3605\"\n",
      "\"154ac3670f21586ab168cd376290bcb7\"\n",
      "\"8fbe60533f007a91ae8ff2563a1bd568\"\n",
      "\"376eba5874889d82dd552e3a9128c6e7\"\n",
      "\"3ec316c78773bb826dd924926f5c0d07\"\n",
      "\"10ff356faf50696b30f8a58b9dd919b2\"\n",
      "\"1e94210c21a6af48b9c418a7d6380a1c\"\n",
      "\"376eba5874889d82dd552e3a9128c6e7\"\n",
      "\"ca0d5c366b1eeb2115054e6a8518f778\"\n",
      "\"96c0ad21acaedd52f652903794afb6f4\"\n",
      "\"a1fcc86068b72ed9d9f1c0b291d7819d\"\n",
      "\"bf0f1eec2e9f147aba20ea9b3e9564bb\"\n",
      "\"3520fdcdf2658685928fc37e72ab2134\"\n",
      "\"cc305dcad696147e28c6f36615aa0952\"\n",
      "\"1787b5c79a00b3513ce76847bc1f5b75\"\n",
      "\"5fdcb0979e1c546ea05d7bd780bd4bc3\"\n",
      "\"ec09e573de88d0ace4c1ddd9cb531e90\"\n",
      "\"b0acf6983487f846c0830aa88d13d171\"\n",
      "\"1f8b9a59cd75fc429db54dceb6e0594b\"\n",
      "\"871c938ad3b1243f42eec04057930d7e\"\n",
      "\"0f8e6818d2be77b75712bc9ea4e87171\"\n",
      "\"4383d59a89ffd10b8e86d93233e01b5f\"\n",
      "\"10ff356faf50696b30f8a58b9dd919b2\"\n",
      "\"0d5b697ebb326b5043ce7fa60a7b968d\"\n",
      "\"56ecf19cff578aa76b81edb580ff343f\"\n",
      "\"cad47cd466a2d8c25fa7a21c15cbb3cf\"\n",
      "\"509c36eb58dbce009ccf93f375358d53\"\n",
      "\"c11a7723bd3fcd00e33e90c90a3492e5\"\n",
      "\"714795c596ef0639a385fe620d2c42ab\"\n",
      "\"2591d3700224a4729cbe46e53fdbd707\"\n",
      "\"752c4c30d475748a342c68ebfba24d1e\"\n",
      "\"cad47cd466a2d8c25fa7a21c15cbb3cf\"\n",
      "\"903fc45cba5245f21deaaca3966f825b\"\n",
      "\"6650448a5456ba88ea0971f2265f2bc7\"\n",
      "\"e178a0abbbb171d9b785d8350a45f203\"\n",
      "\"34df5eca0db3967da23f8a210337c9d6\"\n",
      "\"871c938ad3b1243f42eec04057930d7e\"\n",
      "\"e178a0abbbb171d9b785d8350a45f203\"\n",
      "\"fba08911805472f37575d2cece186654\"\n",
      "\"cb1a1c1c93ab6e802560855ca5f015f7\"\n",
      "\"56ecf19cff578aa76b81edb580ff343f\"\n",
      "\"ff5b5a0d34c77d2e2027dad7e4deb094\"\n",
      "\"a7d34c215264677c8385e90fa5363ec1\"\n",
      "\"d720bf82f29b3f6d835a4f7dcb9c2dcb\"\n",
      "\"b2132278200e1e601b6814a15fdabcc1\"\n",
      "\"b5aa4ea31e44899dc4d58d4a35e05504\"\n",
      "\"f9b4ac73f83354665875989f0edf5f09\"\n",
      "\"e4588d7c735b9a87d93ada6d24a7bd53\"\n",
      "\"d34689ff8c3532426256b0963d7df2bb\"\n",
      "\"d741b71a302261bdd5571023ee8e5131\"\n",
      "\"ee5ffba9c5cf1d6a1e2d95b0220c06d4\"\n",
      "\"2c5efbd7364036976ec403a9ee36f614\"\n",
      "\"203628f42619d301e642b3553b7a684a\"\n",
      "\"f54dad4973f899ba8e9e26dcca58d625\"\n",
      "\"2268bc4db45078e37d0fd1b2c53eb9c9\"\n",
      "\"9dac641f173f2a225501e8e50fc4e66e\"\n",
      "\"da6ed723fe60684a231c3e22a42610a7\"\n",
      "\"a7d34c215264677c8385e90fa5363ec1\"\n",
      "\"1332d2299972d2e485cb070d2c4015e0\"\n",
      "\"86727ddda4fff22b1b735331f665fed4\"\n",
      "\"83c6ffcb085ce9c18c0e2aff00dda865\"\n",
      "\"af0e25c7637fb0dcdc56fac6d49aa55e\"\n",
      "\"2591d3700224a4729cbe46e53fdbd707\"\n",
      "\"08d1b7f052aa2014d54d699b2466910f\"\n",
      "\"9769bab1b0b25eb730c704ef42a3e7a6\"\n",
      "\"1332d2299972d2e485cb070d2c4015e0\"\n",
      "\"d8a4ee3f4b430af016b2dc5902fccd75\"\n",
      "\"cd3dffdb83f221e09710cbfbcaffdb31\"\n",
      "\"cb1a1c1c93ab6e802560855ca5f015f7\"\n",
      "\"0d5b697ebb326b5043ce7fa60a7b968d\"\n",
      "\"b5ccd60da575cfaf1c5bf857a76c1a8c\"\n",
      "\"509c36eb58dbce009ccf93f375358d53\"\n",
      "\"f53c7596c141ee6d5d2b3ab90361f802\"\n",
      "\"5fd851c9e87a6b9b9da9eb2ab0de6686\"\n",
      "\"19a76f5f531b1fbade0ddb0893747a44\"\n"
     ]
    }
   ],
   "source": [
    "%%rumble\n",
    "let $entries :=\n",
    "\n",
    "for $i in json-file(\"/home/confusion-100000.json\")\n",
    "where ($i.target != $i.guess)\n",
    "order by $i.language, $i.country, $i.date ascending\n",
    "return $i.sample\n",
    "return $entries"
   ]
  },
  {
   "cell_type": "code",
   "execution_count": 180,
   "metadata": {},
   "outputs": [
    {
     "name": "stdout",
     "output_type": "stream",
     "text": [
      "Took: 1.7501485347747803 s\n",
      "{\"country\": \"A1\", \"target\": \"French\", \"num\": 1}\n",
      "{\"country\": \"A1\", \"target\": \"German\", \"num\": 1}\n",
      "{\"country\": \"A1\", \"target\": \"Maori\", \"num\": 1}\n",
      "{\"country\": \"A1\", \"target\": \"Somali\", \"num\": 1}\n",
      "{\"country\": \"A1\", \"target\": \"Yiddish\", \"num\": 1}\n",
      "{\"country\": \"AE\", \"target\": \"Albanian\", \"num\": 1}\n",
      "{\"country\": \"AE\", \"target\": \"Arabic\", \"num\": 1}\n",
      "{\"country\": \"AE\", \"target\": \"Assyrian\", \"num\": 1}\n",
      "{\"country\": \"AE\", \"target\": \"Bangla\", \"num\": 1}\n"
     ]
    }
   ],
   "source": [
    "%%rumble\n",
    "let $entries :=\n",
    "    for $i in json-file(\"/home/confusion-100000.json\")\n",
    "    group by $t := $i.country, $k := $i.target\n",
    "    return {\"country\": $t, \"target\": $k, \"num\": count($i)}\n",
    "\n",
    "let $entries_ordered :=\n",
    "    for $e in $entries\n",
    "    order by $e.num ascending\n",
    "    return $e\n",
    "return subsequence($entries_ordered, 0, 10)\n"
   ]
  },
  {
   "cell_type": "code",
   "execution_count": 171,
   "metadata": {},
   "outputs": [
    {
     "name": "stdout",
     "output_type": "stream",
     "text": [
      "Took: 1.5054678916931152 s\n",
      "0.008\n"
     ]
    }
   ],
   "source": [
    "%%rumble\n",
    "\n",
    "let $total_entries := for $i in json-file(\"/home/confusion-100000.json\") return $i\n",
    "\n",
    "let $entries := for $i in $total_entries\n",
    "where ($i.target = $i.guess) and ($i.guess = $i.choices[[10]])\n",
    "return $i\n",
    "\n",
    "let $entries_count := count($entries)\n",
    "\n",
    "return $entries_count div count($total_entries) * 100"
   ]
  },
  {
   "cell_type": "code",
   "execution_count": 178,
   "metadata": {},
   "outputs": [
    {
     "name": "stdout",
     "output_type": "stream",
     "text": [
      "Took: 2.395376682281494 s\n",
      "{\"target\": \"Dinka\", \"wrong_perc\": 0.5805946792}\n",
      "{\"target\": \"Fijian\", \"wrong_perc\": 0.5736325386}\n",
      "{\"target\": \"Kannada\", \"wrong_perc\": 0.5653450808}\n",
      "{\"target\": \"Dari\", \"wrong_perc\": 0.5270655271}\n",
      "{\"target\": \"Maori\", \"wrong_perc\": 0.5214979196}\n",
      "{\"target\": \"Tigrinya\", \"wrong_perc\": 0.5200486027}\n",
      "{\"target\": \"Maltese\", \"wrong_perc\": 0.5175757576}\n",
      "{\"target\": \"Amharic\", \"wrong_perc\": 0.5077922078}\n",
      "{\"target\": \"Sinhalese\", \"wrong_perc\": 0.500622665}\n",
      "{\"target\": \"Indonesian\", \"wrong_perc\": 0.4892601432}\n",
      "{\"target\": \"Nepali\", \"wrong_perc\": 0.4760312152}\n",
      "{\"target\": \"Malay\", \"wrong_perc\": 0.4628571429}\n",
      "{\"target\": \"Samoan\", \"wrong_perc\": 0.4495985727}\n",
      "{\"target\": \"Turkish\", \"wrong_perc\": 0.4447916667}\n",
      "{\"target\": \"Bangla\", \"wrong_perc\": 0.4397905759}\n",
      "{\"target\": \"Hungarian\", \"wrong_perc\": 0.433460076}\n",
      "{\"target\": \"Hindi\", \"wrong_perc\": 0.4185587364}\n",
      "{\"target\": \"Somali\", \"wrong_perc\": 0.4067937034}\n",
      "{\"target\": \"Tongan\", \"wrong_perc\": 0.398340249}\n",
      "{\"target\": \"Croatian\", \"wrong_perc\": 0.3926174497}\n",
      "{\"target\": \"Albanian\", \"wrong_perc\": 0.390625}\n",
      "{\"target\": \"Farsi\", \"wrong_perc\": 0.3878787879}\n",
      "{\"target\": \"Estonian\", \"wrong_perc\": 0.3866666667}\n",
      "{\"target\": \"Assyrian\", \"wrong_perc\": 0.3824027073}\n",
      "{\"target\": \"Armenian\", \"wrong_perc\": 0.3727810651}\n",
      "{\"target\": \"Urdu\", \"wrong_perc\": 0.3691275168}\n",
      "{\"target\": \"Bosnian\", \"wrong_perc\": 0.3649068323}\n",
      "{\"target\": \"Malayalam\", \"wrong_perc\": 0.3610648918}\n",
      "{\"target\": \"Macedonian\", \"wrong_perc\": 0.3589933383}\n",
      "{\"target\": \"Kurdish\", \"wrong_perc\": 0.3455223881}\n",
      "{\"target\": \"Finnish\", \"wrong_perc\": 0.3444130127}\n",
      "{\"target\": \"Tamil\", \"wrong_perc\": 0.333105802}\n",
      "{\"target\": \"Burmese\", \"wrong_perc\": 0.3325471698}\n",
      "{\"target\": \"Tagalog\", \"wrong_perc\": 0.3320872274}\n",
      "{\"target\": \"Latvian\", \"wrong_perc\": 0.3307365439}\n",
      "{\"target\": \"Serbian\", \"wrong_perc\": 0.3141025641}\n",
      "{\"target\": \"Khmer\", \"wrong_perc\": 0.312244898}\n",
      "{\"target\": \"Dutch\", \"wrong_perc\": 0.3062536528}\n",
      "{\"target\": \"Danish\", \"wrong_perc\": 0.2928009679}\n",
      "{\"target\": \"Bulgarian\", \"wrong_perc\": 0.2896505376}\n",
      "{\"target\": \"Gujarati\", \"wrong_perc\": 0.2891791045}\n",
      "{\"target\": \"Punjabi\", \"wrong_perc\": 0.2888888889}\n",
      "{\"target\": \"Slovenian\", \"wrong_perc\": 0.278647464}\n",
      "{\"target\": \"Yiddish\", \"wrong_perc\": 0.2747875354}\n",
      "{\"target\": \"Portuguese\", \"wrong_perc\": 0.274041134}\n",
      "{\"target\": \"Swahili\", \"wrong_perc\": 0.2733333333}\n",
      "{\"target\": \"Greek\", \"wrong_perc\": 0.2660098522}\n",
      "{\"target\": \"Romanian\", \"wrong_perc\": 0.2566929134}\n",
      "{\"target\": \"Swedish\", \"wrong_perc\": 0.2559782609}\n",
      "{\"target\": \"Slovak\", \"wrong_perc\": 0.2537815126}\n",
      "{\"target\": \"Norwegian\", \"wrong_perc\": 0.2424406048}\n",
      "{\"target\": \"Czech\", \"wrong_perc\": 0.2388620505}\n",
      "{\"target\": \"Polish\", \"wrong_perc\": 0.2294824882}\n",
      "{\"target\": \"Lao\", \"wrong_perc\": 0.2210419828}\n",
      "{\"target\": \"Hebrew\", \"wrong_perc\": 0.2044665012}\n",
      "{\"target\": \"Ukrainian\", \"wrong_perc\": 0.1869587366}\n",
      "{\"target\": \"Thai\", \"wrong_perc\": 0.1496062992}\n",
      "{\"target\": \"Arabic\", \"wrong_perc\": 0.145105755}\n",
      "{\"target\": \"Vietnamese\", \"wrong_perc\": 0.13065077}\n",
      "{\"target\": \"Russian\", \"wrong_perc\": 0.1149694979}\n",
      "{\"target\": \"Korean\", \"wrong_perc\": 0.1003752345}\n",
      "{\"target\": \"Japanese\", \"wrong_perc\": 0.0888991248}\n",
      "{\"target\": \"Italian\", \"wrong_perc\": 0.0805309735}\n",
      "{\"target\": \"Cantonese\", \"wrong_perc\": 0.0798946444}\n",
      "{\"target\": \"Spanish\", \"wrong_perc\": 0.0722197607}\n",
      "{\"target\": \"Mandarin\", \"wrong_perc\": 0.0720320142}\n",
      "{\"target\": \"German\", \"wrong_perc\": 0.0544329897}\n",
      "{\"target\": \"French\", \"wrong_perc\": 0.0402625821}\n"
     ]
    }
   ],
   "source": [
    "%%rumble\n",
    "\n",
    "let $total_entries := for $i in json-file(\"/home/confusion-100000.json\") return $i\n",
    "\n",
    "let $wrong_entries_count := for $i in $total_entries\n",
    "where ($i.target != $i.guess)\n",
    "group by $t := $i.target\n",
    "return {\"target\": $t, \"wrong_num\": count($i)}\n",
    "\n",
    "let $entries_count := for $i in $total_entries\n",
    "group by $t := $i.target\n",
    "return {\"target\": $t, \"total_num\": count($i)}\n",
    "\n",
    "let $join :=\n",
    "    for $e in $entries_count, $wronge in $wrong_entries_count\n",
    "    where $e.target = $wronge.target\n",
    "    return {\"target\": $e.target, \"wrong_perc\": $wronge.wrong_num div $e.total_num}\n",
    "\n",
    "for $l in $join\n",
    "order by $l.wrong_perc descending\n",
    "return $l\n"
   ]
  },
  {
   "cell_type": "markdown",
   "metadata": {
    "id": "OG0xJS2KHEF3"
   },
   "source": [
    "### 4.2.2 Get all games played from Switzerland, where the correct answer (target) was \"German\"\n",
    "```sql\n",
    "SELECT *\n",
    "FROM entries\n",
    "WHERE country == \"CH\" AND target == \"German\"\n",
    "```\n",
    "\n",
    "\n"
   ]
  },
  {
   "cell_type": "code",
   "execution_count": null,
   "metadata": {
    "id": "EuN0WVltHrXl"
   },
   "outputs": [],
   "source": [
    "%%rumble"
   ]
  },
  {
   "cell_type": "markdown",
   "metadata": {
    "id": "jQycXJuCHHJW"
   },
   "source": [
    "### 4.2.3 Get the top 5 games played from Switzerland, where the correct answer (target) was \"German\"\n",
    "```sql\n",
    "SELECT *\n",
    "FROM entries\n",
    "WHERE country == \"CH\" AND target == \"German\"\n",
    "LIMIT 5\n",
    "```\n",
    "\n",
    "\n"
   ]
  },
  {
   "cell_type": "code",
   "execution_count": null,
   "metadata": {
    "colab": {
     "base_uri": "https://localhost:8080/"
    },
    "id": "6Brsgs6fHwET",
    "outputId": "5bcdfea1-46c3-4147-c603-844d6e465060"
   },
   "outputs": [],
   "source": [
    "%%rumble"
   ]
  },
  {
   "cell_type": "markdown",
   "metadata": {
    "id": "3ivTnfw5HMZz"
   },
   "source": [
    "### 4.2.4 Get all games played from Switzerland, where the correct answer (target) was \"German\", order them by date (ascending), and return the top 5 rows.\n",
    "```sql\n",
    "SELECT *\n",
    "FROM entries\n",
    "WHERE country == \"CH\" AND target == \"German\"\n",
    "ORDER BY date ASC\n",
    "LIMIT 5\n",
    "```\n",
    "\n",
    "\n"
   ]
  },
  {
   "cell_type": "code",
   "execution_count": null,
   "metadata": {
    "id": "YbI3HF2QH-2x",
    "scrolled": true
   },
   "outputs": [],
   "source": [
    "%%rumble"
   ]
  },
  {
   "cell_type": "markdown",
   "metadata": {
    "id": "sKmgYw_jHPZ3"
   },
   "source": [
    "### 4.2.5 Get all games played from Switzerland, where the correct answer (target) was \"German\", group them by date, and return for each different date the number of games played.\n",
    "\n",
    "```sql\n",
    "SELECT date, COUNT(*) AS num_games\n",
    "FROM entries\n",
    "WHERE country == \"CH\" AND target == \"German\"\n",
    "GROUP BY date\n",
    "```\n"
   ]
  },
  {
   "cell_type": "code",
   "execution_count": null,
   "metadata": {
    "id": "19hMluehIDVR"
   },
   "outputs": [],
   "source": [
    "%%rumble"
   ]
  },
  {
   "cell_type": "markdown",
   "metadata": {
    "id": "qKzNKYFNHSGW"
   },
   "source": [
    "### 4.2.6 Get all games played from Switzerland, group them by date and target, and return for each different date and target the number of games played.\n",
    "\n",
    "\n",
    "NOTE: Rumble has some reserved keywords, for example `date`. If you try to create a variable `$date`, you may get an error, such as `no viable alternative at input 'date'`.\n",
    "\n",
    "```sql\n",
    "SELECT date, target, COUNT(*) AS num_games\n",
    "FROM entries\n",
    "WHERE country == \"CH\"\n",
    "GROUP BY date, target\n",
    "```\n",
    "\n",
    "\n"
   ]
  },
  {
   "cell_type": "code",
   "execution_count": null,
   "metadata": {
    "id": "oO8wXP9TIGw1"
   },
   "outputs": [],
   "source": [
    "%%rumble"
   ]
  },
  {
   "cell_type": "markdown",
   "metadata": {
    "id": "IAjnh_H2HUa1"
   },
   "source": [
    "### 4.2.7 For all games played from Switzerland, return the distinct targets of those games.\n",
    "\n",
    "```sql\n",
    "SELECT DISTINCT(target)\n",
    "FROM entries\n",
    "WHERE country == \"CH\"\n",
    "```\n",
    "\n",
    "\n"
   ]
  },
  {
   "cell_type": "code",
   "execution_count": null,
   "metadata": {
    "id": "qfS7prkYIMCN"
   },
   "outputs": [],
   "source": [
    "%%rumble"
   ]
  },
  {
   "cell_type": "markdown",
   "metadata": {
    "id": "yVvQBpVxHWuz"
   },
   "source": [
    "### 4.2.8 For all games played from Switzerland, get the distinct targets of those games, and return the index of \"German\" in the list of distinct targets.\n",
    "\n",
    "\n"
   ]
  },
  {
   "cell_type": "code",
   "execution_count": null,
   "metadata": {
    "id": "C9zQLBnwISRB"
   },
   "outputs": [],
   "source": [
    "%%rumble"
   ]
  },
  {
   "cell_type": "markdown",
   "metadata": {
    "id": "XW8fQM8WHYt7"
   },
   "source": [
    "### 4.2.9 Count the number of games played from Switzerland (without any grouping).\n",
    "\n",
    "\n",
    "NOTE: `distinct-values` and `index-of` work on \"sequences\". The method `json-file` returns a sequence. If you have an array on which you want to apply `distinct-values` and `index-of`, you must first convert it to a sequence. This can be done with `[]`. For example, if you have an array called `arr`, you can find its distinct values with `distinct-values(arr[])`\n",
    "\n",
    "```sql\n",
    "SELECT COUNT(*) AS count\n",
    "FROM entries\n",
    "WHERE country == \"CH\"\n",
    "```\n"
   ]
  },
  {
   "cell_type": "code",
   "execution_count": null,
   "metadata": {
    "colab": {
     "base_uri": "https://localhost:8080/"
    },
    "id": "0wXZLNPLIayV",
    "outputId": "4c65ffe5-0bac-4efa-bb42-5abefce423c0"
   },
   "outputs": [],
   "source": [
    "%%rumble"
   ]
  },
  {
   "cell_type": "markdown",
   "metadata": {
    "id": "s2ljO3Wyd-kt"
   },
   "source": [
    "If in your query you want to join 2 (or more) sequences (results of `json-file` or subqueries), you can do it in the following way:\n",
    "```\n",
    "let $seq1 := ...\n",
    "let $seq2 := ...\n",
    "for $i in $seq1, $j in $seq2\n",
    "where $i.attr1 eq $j.attr2\n",
    "...\n",
    "```"
   ]
  },
  {
   "cell_type": "markdown",
   "metadata": {
    "id": "PE_9pQzhAOyo"
   },
   "source": [
    "## 4.3 More queries"
   ]
  },
  {
   "cell_type": "markdown",
   "metadata": {
    "id": "FxrwoBIxd-kt"
   },
   "source": [
    "Try writing a few more queries:\n",
    "- List all chosen answers to games where the guessed language is correct (=target)."
   ]
  },
  {
   "cell_type": "code",
   "execution_count": null,
   "metadata": {
    "colab": {
     "base_uri": "https://localhost:8080/"
    },
    "id": "2pFtHHOed-kt",
    "outputId": "0a7e0be5-bef7-4236-a204-7bc222ea096b"
   },
   "outputs": [],
   "source": [
    "%%rumble"
   ]
  },
  {
   "cell_type": "markdown",
   "metadata": {
    "id": "n4XpGln4d-ku"
   },
   "source": [
    "- Count the games where the index of the correct answer in the choices array is 2 (as returned by the index-of method)."
   ]
  },
  {
   "cell_type": "code",
   "execution_count": null,
   "metadata": {
    "colab": {
     "base_uri": "https://localhost:8080/"
    },
    "id": "Ubmh2smkd-ku",
    "outputId": "00388bda-819c-4f50-b5b5-4d560f4ccc2b"
   },
   "outputs": [],
   "source": [
    "%%rumble"
   ]
  },
  {
   "cell_type": "markdown",
   "metadata": {
    "id": "X_-pBCWtd-ku"
   },
   "source": [
    "- Return all games played on February 3rd 2014."
   ]
  },
  {
   "cell_type": "code",
   "execution_count": null,
   "metadata": {
    "colab": {
     "base_uri": "https://localhost:8080/"
    },
    "id": "DX82UVhid-ku",
    "outputId": "bdf21450-5ed4-41a9-af1f-bfd5683f5fff"
   },
   "outputs": [],
   "source": [
    "%%rumble"
   ]
  },
  {
   "cell_type": "markdown",
   "metadata": {
    "id": "krkZtmzIFVdZ"
   },
   "source": [
    "# 5. More nestedness\n",
    "## 5.1 Create Nestedness\n",
    "You may remember in the exercise of Spark Dataframes & Spark SQL, we mentioned two methods <font face=\"courier\">collect_set/collect_list</font> for creating arrays. In JSONiq, this kind of things become even simpler because JSONiq natively supports JSON, so we can directly create arrays via adding square brackets (<font face=\"courier\">[]</font>) and even without any group by operations. \n",
    "\n",
    "For example, if we want to know the list of date at which \"Fijian\" was used as the target, we can write a simple JSONiq query:"
   ]
  },
  {
   "cell_type": "code",
   "execution_count": null,
   "metadata": {
    "id": "xiRw7YmmspKH"
   },
   "outputs": [],
   "source": [
    "%%rumble\n",
    "let $dateSeq := for $i in json-file(\"confusion-100000.json\", 10)\n",
    "    where $i.target eq \"Fijian\"\n",
    "    return $i.date\n",
    "return [subsequence($dateSeq, 0, 10)]"
   ]
  },
  {
   "cell_type": "markdown",
   "metadata": {
    "id": "osB2WIpFtiQY"
   },
   "source": [
    "The above query is basically a counterpart of a Spark Dataframe query with <font face=\"courier\">collect_list</font>. If we want to imitate the behavior of <font face=\"courier\">collect_set</font>, which means we want the result array to be de-duplicated, we can just resort to <font face=\"courier\">distinct-values</font>:"
   ]
  },
  {
   "cell_type": "code",
   "execution_count": null,
   "metadata": {
    "id": "Vkan5XiAvK24"
   },
   "outputs": [],
   "source": [
    "%%rumble\n",
    "let $dateSeq := for $i in json-file(\"confusion-100000.json\", 10)\n",
    "where $i.target eq \"Fijian\"\n",
    "return $i.date\n",
    "return [distinct-values($dateSeq)]"
   ]
  },
  {
   "cell_type": "markdown",
   "metadata": {
    "id": "5Qc0PoMEvckO"
   },
   "source": [
    "Now what if we want to know for each different language, the de-duplicated list of date at which it was used as a target? We may need group by again. Try to come up with the query on your own. What might be the difference in the query with and without group by?\n",
    "\n",
    "**Note:** Do not hesitate to only use the small provided dataset because the query on the original dataset might take very long and consume a humongous amount of memory. The most important thing is not about the answer, but to come up with proper queries."
   ]
  },
  {
   "cell_type": "code",
   "execution_count": null,
   "metadata": {
    "id": "2k2OOOFjwLah"
   },
   "outputs": [],
   "source": [
    "%%rumble\n",
    "for $i in json-file(\"confusion-100000.json\", 10) \n",
    "group by $j := $i.target\n",
    "return {\"language\":$j, \"dates\":[distinct-values($i.date)]}"
   ]
  },
  {
   "cell_type": "markdown",
   "metadata": {
    "id": "2CqJOpf2wnHL"
   },
   "source": [
    "The difference is, if there's group by in a query, after group by, the loop variable (\\$i in the above query) will no longer be a single entry, but instead bound to the **sequence** corresponding to each group, which means we can directly apply functions like distinct-values to \\$i.\n",
    "In the query above without group by, \\$i always corresponds to one entry, so there's no point to do things like distinct-values(\\$i.date). This is why we need to get the intermediate result $dataSeq, and then create arrays and apply distinct-values on this whole sequence."
   ]
  },
  {
   "cell_type": "markdown",
   "metadata": {
    "id": "z93zj9pax-5t"
   },
   "source": [
    "Obviously, unlike <font face=\"courier\">collect_set/collect_list</font> which only accept one column and create arrays on that very column, JSONiq can create arrays on arbitrary things. For example, if we want to highlight the information of date, we can create a new dataset that shows the game info for each date:"
   ]
  },
  {
   "cell_type": "code",
   "execution_count": 132,
   "metadata": {
    "id": "msN8hw19ytF9"
   },
   "outputs": [
    {
     "name": "stdout",
     "output_type": "stream",
     "text": [
      "Took: 2.9243249893188477 s\n"
     ]
    }
   ],
   "source": [
    "%%rumble\n",
    "let $newDataset := for $i in json-file(\"/home/confusion-100000.json\", 10) \n",
    "  group by $d := $i.date\n",
    "  return {\"date\": $d, \"info\": [$i]}\n",
    "return $newDataset[1]"
   ]
  },
  {
   "cell_type": "markdown",
   "metadata": {
    "id": "Z7NB5Euvy6G-"
   },
   "source": [
    "Now we have a more nested dataset! We can try to redo some of the exercises above with this new dataset. For example, get all games played in Switzerland:"
   ]
  },
  {
   "cell_type": "code",
   "execution_count": null,
   "metadata": {
    "id": "kA1p9b7szvz1"
   },
   "outputs": [],
   "source": [
    "%%rumble\n"
   ]
  },
  {
   "cell_type": "markdown",
   "metadata": {
    "id": "ycJZrdkO5pyO"
   },
   "source": [
    "Try another one: get the count of games played in Switzerland:"
   ]
  },
  {
   "cell_type": "code",
   "execution_count": null,
   "metadata": {
    "id": "qIAT1Yat5z_D"
   },
   "outputs": [],
   "source": [
    "%%rumble\n"
   ]
  },
  {
   "cell_type": "markdown",
   "metadata": {
    "id": "R_kRoeKA6Bja"
   },
   "source": [
    "Feel free to try out more questions on your own!"
   ]
  },
  {
   "cell_type": "markdown",
   "metadata": {
    "id": "hPc8di4W6ICv"
   },
   "source": [
    "## 5.2 Git-archive dataset\n",
    "Now let's get into the mess of the real world. We are going to explore the git-archive dataset to handle some properly messy data, which is very challenging if you use Spark. \n",
    "\n",
    "For getting the dataset, just run:\n",
    "```\n",
    "wget https://polybox.ethz.ch/index.php/s/HVWlvJAXVkQ05cw/download -O git-archive.json\n",
    "```\n",
    "or use curl as done for the great game language dataset.\n",
    "\n",
    "Have a look at what the dataset looks like:"
   ]
  },
  {
   "cell_type": "code",
   "execution_count": null,
   "metadata": {
    "id": "Y2AvFbjR7FAR"
   },
   "outputs": [],
   "source": [
    "%%rumble\n",
    "for $i in json-file(\"git-archive.json\", 10)\n",
    "count $c\n",
    "where $c <= 1\n",
    "return $i"
   ]
  },
  {
   "cell_type": "markdown",
   "metadata": {
    "id": "pAePhGBk7WFT"
   },
   "source": [
    "What a mess, isn't it? Anyway, let's try to write some challenging queries, since you've already mastered those easy ones with the language game dataset...\n",
    "\n",
    "1. What is the number of distinct author names that are part of a push event (i.e., an event with the type PushEvent)?"
   ]
  },
  {
   "cell_type": "code",
   "execution_count": null,
   "metadata": {
    "id": "SkpuLT5GnxG4"
   },
   "outputs": [],
   "source": [
    "%%rumble\n"
   ]
  },
  {
   "cell_type": "markdown",
   "metadata": {
    "id": "WtxTZtFNn9qQ"
   },
   "source": [
    "2. What is the name of the repository with the highest number of push events (i.e., events with the type PushEvent), and how many of these push events occurred in this repository?"
   ]
  },
  {
   "cell_type": "code",
   "execution_count": null,
   "metadata": {
    "id": "WPZIL-XwoQvO"
   },
   "outputs": [],
   "source": [
    "%%rumble\n"
   ]
  },
  {
   "cell_type": "markdown",
   "metadata": {},
   "source": [
    "## BONUS: Machine Learning in Rumble"
   ]
  },
  {
   "cell_type": "markdown",
   "metadata": {},
   "source": [
    "Not only RumbleDB allows to build the entire data pipeline by querying large messy datasets and clean, structure, normoalize and validate them but now also supports feeding the data into machine learning models to build an all-in-one solution. RumbleDB uses Spark to distribute computations accross a cluster, and for ML it is also based on the SparkML library (https://spark.apache.org/docs/latest/ml-guide.html). Here is a simple example to clusterize data points based on a KMeans model.\n",
    "\n",
    "In the following example we declare a user defined type col-1-2 with an id and two decimal columns. We then write our data in a variable local-data, which we validate against our defined type and then forward the data to a transformer. Finally, we instantiate a K-means estimator to train our data on it."
   ]
  },
  {
   "cell_type": "code",
   "execution_count": null,
   "metadata": {},
   "outputs": [],
   "source": [
    "%%rumble\n",
    "declare type local:col-1-2 as {\n",
    "  \"id\": \"integer\",\n",
    "  \"col1\": \"decimal\",\n",
    "  \"col2\": \"decimal\"\n",
    "};\n",
    "\n",
    "let $vector-assembler := get-transformer(\"VectorAssembler\")(\n",
    "  ?,\n",
    "  { \"inputCols\" : [ \"col1\", \"col2\" ], \"outputCol\" : \"features\" }\n",
    ")\n",
    "\n",
    "let $local-data := (\n",
    "    {\"id\": 0, \"col1\": 0.0, \"col2\": 3.0},\n",
    "    {\"id\": 1, \"col1\": 2.1, \"col2\": 0.1},\n",
    "    {\"id\": 2, \"col1\": 0.2, \"col2\": 0.2},\n",
    "    {\"id\": 3, \"col1\": 6.0, \"col2\": 9.0},\n",
    "    {\"id\": 4, \"col1\": 5.1, \"col2\": 9.1},\n",
    "    {\"id\": 5, \"col1\": 9.2, \"col2\": 9.2}\n",
    ")\n",
    "let $df-data := validate type local:col-1-2* {$local-data }\n",
    "let $df-data := $vector-assembler($df-data)\n",
    "\n",
    "let $est := get-estimator(\"KMeans\")\n",
    "let $tra := $est(\n",
    "    $df-data,\n",
    "    {\"featuresCol\": \"features\"}\n",
    ")\n",
    "\n",
    "for $i in $tra(\n",
    "    $df-data,\n",
    "    {\"featuresCol\": \"features\"}\n",
    ")\n",
    "return $i"
   ]
  },
  {
   "cell_type": "markdown",
   "metadata": {},
   "source": [
    "### Visualize the output"
   ]
  },
  {
   "cell_type": "code",
   "execution_count": null,
   "metadata": {},
   "outputs": [],
   "source": [
    "import pandas as pd\n",
    "\n",
    "d = [{\"id\": 0, \"col1\": 0.0, \"col2\": 3.0, \"prediction\": 0},\n",
    "    {\"id\": 1, \"col1\": 2.1, \"col2\": 0.1, \"prediction\": 0},\n",
    "    {\"id\": 2, \"col1\": 0.2, \"col2\": 0.2, \"prediction\": 0},\n",
    "    {\"id\": 3, \"col1\": 6.0, \"col2\": 9.0, \"prediction\": 1},\n",
    "    {\"id\": 4, \"col1\": 5.1, \"col2\": 9.1, \"prediction\": 1},\n",
    "    {\"id\": 5, \"col1\": 9.2, \"col2\": 9.2, \"prediction\": 1}]\n",
    "\n",
    "df = pd.DataFrame(d)\n",
    "print (df)\n",
    "\n",
    "ax1 = df.plot.scatter(x='col1',\n",
    "                      y='col2',\n",
    "                      c='prediction', cmap='winter')"
   ]
  },
  {
   "cell_type": "markdown",
   "metadata": {},
   "source": [
    "## Bonus: Run rumble on a Spark cluster in Azure\n",
    "\n",
    "In this last bonus, we will take advantage of a main aspect of RumbleDB: to be runnable on a cluster.\n",
    "\n",
    "### Create a cluster\n",
    "\n",
    "1. Sign into the azure portal (portal.azure.com).\n",
    "1. Search for \"HDInsight clusters\" using the search box at the top.\n",
    "<img src=\"https://cloud.inf.ethz.ch/s/WxpMXB3Jz8SykMw/download\" width=\"900\">\n",
    "1. Note that under the *Subscription* section, you might be prompted that the subscription is not registered:\n",
    "<img src=\"https://cloud.inf.ethz.ch/s/gyTcQYKFCn3Yg6J/download\" width=\"500\">\n",
    "\n",
    "  To fix this, follow the *Click here to register* link, and in the new page, search for *hdinsight*. Then select the *Microsoft.HDInsight* Provider and click the *Register* button.  \n",
    "<img src=\"https://cloud.inf.ethz.ch/s/oHn9eyeZRP4LfZq/download\" width=\"500\">\n",
    "\n",
    "1. Create a new resource group (for example: 'exercise08').\n",
    "1. Give the cluster a unique name.\n",
    "1. In the \"Cluster Type\" choose **Spark** and leave the default version as is. It is also indicated to use the **US West** region. \n",
    "1. Create a cluster login password (you can use https://www.random.org/strings/ for inspiration). Keep the password around as you will need it for later.\n",
    "<img src=\"https://cloud.inf.ethz.ch/s/JY3DRLg8NLH559K/download\" width=\"900\">\n",
    "1. Move to the *Storage* stage of the setup. Here, leave **Azure Storage** as the *Primary Storage Type*. For the *Primary Storage Account* you have the option to set up a new account. The *Container*'s name will be generated automatically, however make sure to remember it, or change it to something memorable, if you plan on finishing the exercises in more than one sitting.\n",
    "<img src=\"https://cloud.inf.ethz.ch/s/NgtHE6iwSCZ8FQi/download\" width=\"900\">\n",
    "1. Move to the *Configuration + Pricing* stage of the setup (skip *Security + networking*). Set up a Spark cluster which uses 2 **A5**  deployments as *Head* nodes and 2 **D12 v2** deployments for the *Worker* nodes. It should cost roughly 1.9 EUR/h. Note that if Azure allows you deploy more cores, then do so, by increasing the number of *Worker* nodes.\n",
    "<img src=\"https://cloud.inf.ethz.ch/s/JpJEfjkZLPja5EK/download\" width=\"900\">\n",
    "1. Move to the *Reivew + Create* stage of the setup, and click the **Create** button once validation succeeds.\n",
    "1. Wait until your cluster is deployed (this can take up to 20 minutes).\n",
    "\n",
    "<span style=\"color: red;\">**Important:** Remember to **delete** the cluster once you are done. If you want to stop doing the exercises at any point, delete it and recreate it using the same container name as you used the first time, so that the resources are still there.</span>\n",
    "\n",
    "<img src=\"https://cloud.inf.ethz.ch/s/2jLERoTD6q8nRMQ/download\" width=\"900\">\n",
    "\n",
    "### Access your cluster\n",
    "\n",
    "Make sure you can access your cluster (the NameNode) via SSH:\n",
    "\n",
    "```\n",
    "$ ssh <ssh_user_name>@<cluster_name>-ssh.azurehdinsight.net\n",
    "```\n",
    "\n",
    "If you are using Linux or MacOSX, you can use your standard terminal.\n",
    "If you are using Windows you can use:\n",
    "- Putty SSH Client and PSCP tool (get them at [here](http://www.chiark.greenend.org.uk/~sgtatham/putty/download.html)).\n",
    "- This Notebook server terminal (Click on the Jupyter logo and the goto New -> Terminal).\n",
    "- Azure Cloud Terminal (see the HBase exercise sheet for details)\n",
    "\n",
    "You can access cluster's YARN in your browser\n",
    "```\n",
    " https://<cluster_name>.azurehdinsight.net/yarnui/hn/cluster\n",
    "```\n"
   ]
  },
  {
   "cell_type": "markdown",
   "metadata": {},
   "source": [
    "## Install Rumble\n",
    "\n",
    "Then login to the shell and download the latest Rumble version:\n",
    "\n",
    "```\n",
    "wget https://github.com/RumbleDB/rumble/releases/download/v1.18.0/rumbledb-1.18.0-for-spark-2.4.jar\n",
    "```\n",
    "\n",
    "### HDInsight Shell\n",
    "\n",
    "Unfortunately HDInsight will not provide us access to any other port than SSH.\n",
    "Therefore the usual way to work with Rumble through HDInsight is through the shell.\n",
    "\n",
    "### SSH Forwarding\n",
    "\n",
    "Howeever for this sheet, we recommend to use SSH forwarding. For that, run:\n",
    "\n",
    "```\n",
    "spark-submit rumbledb-1.18.0.jar --server yes --port 8002\n",
    "```\n",
    "\n",
    "and then on your local machine forward 8002 -> localhost:8002\n",
    "\n",
    "```\n",
    "ssh -N -L 8002:localhost:8002 sshuser@[servername]-ssh.azurehdinsight.net\n",
    "```"
   ]
  },
  {
   "cell_type": "markdown",
   "metadata": {},
   "source": [
    "Run the code from your notebook on the cluster and evaluate the speed improvement."
   ]
  },
  {
   "cell_type": "code",
   "execution_count": null,
   "metadata": {},
   "outputs": [],
   "source": []
  },
  {
   "cell_type": "markdown",
   "metadata": {},
   "source": [
    "## Exam preparation\n",
    "For the exam we are going to use the **github** dataset.\n",
    "\n",
    "\n",
    "### Github Dataset\n",
    "\n",
    "Github Archive is a project to record the public GitHub timeline. For the following exam questions, we will be working the `git-archive.json` dataset that provides a subset of all records of the public GitHub timeline.\n",
    "\n",
    "This dataset contains an array of events from a Git repository server. Among other, each event contains the following attributes:\n",
    "\n",
    "- `id`: unique integer identifier of the event\n",
    "- `type`: string name of the event type (e.g. \"PushEvent\", \"PullRequestEvent\", \"IssuesEvent\")\n",
    "- `actor`: key-value map identifying an actor issuing the event\n",
    "- `repo`: key-value map identifying the repository related to the event\n",
    "- `payload`: key-value map with different fields for each event type\n",
    "- `created_at`: string with the data of the event in the format YYYY-MM-DDTHH:MM:SSZ, where T and Z are separators (e.g. 2018-01-01T15:00:00Z)\n",
    "\n",
    "In order to answer the questions, you may need to explore the structure of the dataset yourself in more depth."
   ]
  },
  {
   "cell_type": "markdown",
   "metadata": {},
   "source": [
    "To print the dataset, use json-file()."
   ]
  },
  {
   "cell_type": "code",
   "execution_count": null,
   "metadata": {},
   "outputs": [],
   "source": [
    "%%rumble\n",
    "json-file(\"git-archive.json\", 10)[1]"
   ]
  },
  {
   "cell_type": "markdown",
   "metadata": {},
   "source": [
    "To see the fields, use the *keys()* function."
   ]
  },
  {
   "cell_type": "code",
   "execution_count": null,
   "metadata": {},
   "outputs": [],
   "source": [
    "%%rumble\n",
    "keys(json-file(\"git-archive.json\", 10))"
   ]
  }
 ],
 "metadata": {
  "colab": {
   "collapsed_sections": [
    "Uy48JTprhrKW",
    "eELMD0pqhrKW",
    "3Pcf7FL7Aetl",
    "OG0xJS2KHEF3",
    "jQycXJuCHHJW",
    "3ivTnfw5HMZz",
    "sKmgYw_jHPZ3",
    "IAjnh_H2HUa1",
    "yVvQBpVxHWuz",
    "XW8fQM8WHYt7",
    "PE_9pQzhAOyo"
   ],
   "name": "Exercise12_Rumble_Solutions.ipynb",
   "provenance": [],
   "toc_visible": true
  },
  "kernelspec": {
   "display_name": "Python 3",
   "language": "python",
   "name": "python3"
  },
  "language_info": {
   "codemirror_mode": {
    "name": "ipython",
    "version": 3
   },
   "file_extension": ".py",
   "mimetype": "text/x-python",
   "name": "python",
   "nbconvert_exporter": "python",
   "pygments_lexer": "ipython3",
   "version": "3.7.6"
  },
  "toc": {
   "base_numbering": 1,
   "nav_menu": {},
   "number_sections": true,
   "sideBar": true,
   "skip_h1_title": false,
   "title_cell": "Table of Contents",
   "title_sidebar": "Contents",
   "toc_cell": false,
   "toc_position": {},
   "toc_section_display": true,
   "toc_window_display": false
  }
 },
 "nbformat": 4,
 "nbformat_minor": 1
}
